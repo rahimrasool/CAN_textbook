{
 "cells": [
  {
   "cell_type": "markdown",
   "id": "64877e0e",
   "metadata": {},
   "source": [
    "# Chapter 5: Wrangling and Feature Engineering"
   ]
  },
  {
   "cell_type": "markdown",
   "id": "fd673604",
   "metadata": {},
   "source": [
    "Feature Engineering is that one component of the data science pipeline, that can offer a significant boost to the predictive abilities if the data is being fed to a machine learning algorithm for prediction task. It also strengthens the ability to see meaningful correlation of data points with each other. This may sound confusing for now but you'll realize how significant and challenging this step is. \n",
    "\n",
    "Feature Engineering is the step of manipulating existing featues or creating new ones out of the existing set of features. The raw data that we get, after clean up, has to be prepared in a form that is is ready for statistical analysis and prediction. It also enables understanding the complex relation between features. To illustrate how this creates value, suppose we have a computer-generated alpha-numeric customer ID for every customer who buys from an online store. If you were given record of every customer purchase along with that customer ID field, without any further details, this column would just be a set of strings that won't make any sense to people interpreting this data or to any algorithm no matter how powerful they are for prediction. But if you later figure out, that the first 5 digits in each customer is the Zipcode of the customer's browsing address while making a purchase, you can create a new feature of current zipcode and probably start finding patterns of how location affects purchase on the online store. \n",
    "\n",
    "The point of going through the example above was to tell is that some columns might contain concealed information that if revealed in form of another feature can provide more predictive capability then just a set of strings that make no sense on its own. Similarly, feature engineering also involves creating combination of features into a new one. In a social impact analysis setting, as we will see in our guided practice ahead, it will make more sense to use hit-rate (created by dividing "
   ]
  },
  {
   "cell_type": "code",
   "execution_count": null,
   "id": "4494d0a2",
   "metadata": {},
   "outputs": [],
   "source": []
  },
  {
   "cell_type": "markdown",
   "id": "cd0683c8",
   "metadata": {},
   "source": [
    "### <span style=\"color:blue\">Wrangling and Feature Engineering</span>\n",
    "\n",
    "Emphasis on:\n",
    "\n",
    "- How data needs to be converted to a form that prepares it for statistical analysis eg. parsing and converting reference numbers into meaningful categories.\n",
    "- Similarly, converting timestamp into various temporal features like Is weekend/weekday? Month/year \n",
    "- How context specific feature formation is highly significant eg. boolean feature if stop made in intertwilight\n",
    "- Categorical/String to Numeric conversion mandatory for R/Python ML functions\n",
    "\n",
    "BPI based illustration:\n",
    "- As mentioned above, conversion to boolean feature if stop made in intertwilight\n",
    "\n",
    "**Exercise:**\n",
    "- Creating intertwilight feature for BPI\n",
    "- Learning how to play with date/time and conversion to various temp features\n",
    "- (Optional) Use featuretools to see what combinations it creates - Careful about the automation!\n",
    "\n",
    "Comments: Replace Veil of darkness analysis with something shown in the plots"
   ]
  },
  {
   "cell_type": "code",
   "execution_count": null,
   "id": "7dc96918",
   "metadata": {},
   "outputs": [],
   "source": []
  }
 ],
 "metadata": {
  "kernelspec": {
   "display_name": "Python 3 (ipykernel)",
   "language": "python",
   "name": "python3"
  },
  "language_info": {
   "codemirror_mode": {
    "name": "ipython",
    "version": 3
   },
   "file_extension": ".py",
   "mimetype": "text/x-python",
   "name": "python",
   "nbconvert_exporter": "python",
   "pygments_lexer": "ipython3",
   "version": "3.9.12"
  }
 },
 "nbformat": 4,
 "nbformat_minor": 5
}
