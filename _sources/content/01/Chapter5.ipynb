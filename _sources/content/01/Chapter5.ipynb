{
 "cells": [
  {
   "cell_type": "markdown",
   "id": "9e58c184",
   "metadata": {},
   "source": [
    "# Chapter 5: Wrangling and Feature Engineering"
   ]
  },
  {
   "cell_type": "markdown",
   "id": "7c98e8c6",
   "metadata": {},
   "source": [
    "In this chapter we will cover:\n",
    "- Define feature engineering\n",
    "- Feature extraction\n",
    "- Combining multiple variables\n",
    "- Temporal and Spatial feature creation\n",
    "- Contexualizing feature engineering\n",
    "- Numerical encoding\n",
    "\n",
    "---\n",
    "\n",
    "Feature Engineering is that one component of the data science pipeline, which can offer a significant boost to the predictive abilities if the data is being fed to a machine learning algorithm for prediction task. It also strengthens the ability to see meaningful correlation of data points with each other. This may sound confusing for now but you'll realize how significant and challenging this step is. \n",
    "\n",
    "Feature Engineering is the step of manipulating existing featues or creating new ones out of the existing set of features. The raw data that we get, after clean up, has to be prepared in a form that is ready for statistical analysis and prediction. It also enables understanding the complex relation between variables. To illustrate how this creates value, suppose we have a computer-generated alpha-numeric customer ID for every customer who buys from an online store. If you were given the record of every customer purchase along with that customer ID field, without any further details, this column would just be a set of strings that won't make any sense to people interpreting this data or to any algorithm no matter how powerful it is for prediction. But if you later figure out, that the first 5 digits in each customer ID is the Zipcode of the customer's browsing address while making a purchase, you can create a new feature of current zipcode and probably start finding patterns of how location affects purchase on the online store. \n",
    "\n",
    "The point of going through the example above was to tell that some columns might contain concealed information that, if revealed in form of another feature, can provide more predictive capability then just a set of strings that make no sense on its own. Similarly, feature engineering also involves creating combination of features into a new one. In a social impact analysis setting, as we will see in our guided practice ahead, it will make more sense to use hit-rate (created by dividing the sum of searches with contraband found for a race in a beat by the total population of a race in that beat) for analyzing presence of police discrimination than just using the sum of searches with contraband found alone.\n",
    "\n",
    "*The image below shows how featurizing an image can make image segmentation simple*\n",
    "\n",
    "![An image](https://www.researchgate.net/profile/Bruno-Artacho/publication/337771814/figure/fig1/AS:832806989074433@1575568067583/Semantic-segmentation-examples-using-WASPnet.ppm)\n",
    "\n",
    "Some more examples of useful feature engineering practices include converting datetime stamps to a set of temporal features such as whether it was a weekend or a feature that indicates if a time is within commuting hours. As you can imagine that sometimes just datetime stamp might not be a good predictive feature but by understanding it with context to certain temporal features, we can get a more clear relation between data points. This also holds for geospatial features where latitude/longitude points can be converted to features like distance from the city center or distance from sea. In such example we are converting raw features to a set that has more relevance to our analysis.\n",
    "\n",
    "Additionally, as we have been discussing this throughout, the context of the problem can give us idea about what features we can think about creating from the existing set. One example related to our guiden project comes from a study that wanted to conduct the traffic stop analysis for cars during the intertwilight period (period around sunset). This means creating an indicator variable that searches for that period from the timestamp and set itself to True if it is in the intertwilight period. Therefore, enabling the researchers to contrast between the study for both intertwilight periods and ones beyond these times.\n",
    "\n",
    "Another set of feature engineering component is encoding. We already glimpsed through this topic in the previous chapter. Encoding referes to converting values in a column to numeric data type. A prime value of doing this operation is that most analytical tools and machine learning algorithms that would work with your data, perform with numbers (the inherent language that computers understand) and might not even work with strings or objects. As a result, it is useful to encode variables with string categories to numbers. However, another catch with that is that these algorithms could take the numerical encoding to their real values, for eg. a number assigned to model of the car can give the models' ranking whereas these rankings have no impact on our analysis and can create a meaningless correlation. To deal with such a case, such values can be one-hot encoded, which refers to creating an indicator variable for each category of the column. We will see more examples of this in the guided practice ahead."
   ]
  },
  {
   "cell_type": "markdown",
   "id": "30945aa1",
   "metadata": {},
   "source": [
    "### Guided Practice\n",
    "\n",
    "In the following blocks, we are going to practice generation of new features. We will continue with the case study of traffic stops data in Chicago. Also notice that instead of importing a csv file, we will import a pickle object to keep the data types the dataframe had."
   ]
  },
  {
   "cell_type": "code",
   "execution_count": 1,
   "id": "e693ac29",
   "metadata": {},
   "outputs": [],
   "source": [
    "# replace csv and import pickle\n",
    "import pandas as pd\n",
    "stops_filtered = pd.read_pickle('stops_filtered.pkl')"
   ]
  },
  {
   "cell_type": "markdown",
   "id": "f4416a28",
   "metadata": {},
   "source": [
    "The first task we are going to perform is to create a new variable called 'ContraORDrugs' which sets itself to True if either a contraband item or a weapon is found in the vehicle.\n",
    "\n",
    "We will use pandas `where` method which checks for a condition in the first argument and then uses the second argument to assign it to the vaariable in case it is false. The simplified structure therefore is:<br>\n",
    "`df.where(condition, B)`\n",
    "<br>`B` above is the value if the condition is False"
   ]
  },
  {
   "cell_type": "code",
   "execution_count": 2,
   "id": "54a6cae4",
   "metadata": {},
   "outputs": [],
   "source": [
    "# Combine Contraband and weapon\n",
    "stops_filtered['ContraORDrugs'] = True\n",
    "stops_filtered['ContraORDrugs'] = \\\n",
    "stops_filtered['ContraORDrugs'].where((stops_filtered['VEHCONTRA']==1) | (stops_filtered['VEHDRUGS']==1), False)"
   ]
  },
  {
   "cell_type": "code",
   "execution_count": 3,
   "id": "3f711cf7",
   "metadata": {},
   "outputs": [
    {
     "data": {
      "text/plain": [
       "False    116396\n",
       "True        445\n",
       "Name: ContraORDrugs, dtype: int64"
      ]
     },
     "execution_count": 3,
     "metadata": {},
     "output_type": "execute_result"
    }
   ],
   "source": [
    "# Checking proportion of a stop having either Contraband or Drugs \n",
    "stops_filtered['ContraORDrugs'].value_counts()"
   ]
  },
  {
   "cell_type": "markdown",
   "id": "c19703cd",
   "metadata": {},
   "source": [
    "We can verify if our function worked correctly by checking in a random sample of rows among all the rows where **ContraORDrugs** is true and compare if either 'VEHCONTRA' or 'VEHDRUGS' is 1. You don't need to worry much about the code below. In case you're curious, see the comments. You can run this cell multiple times to see if it holds true for every randomly generated set of indices."
   ]
  },
  {
   "cell_type": "code",
   "execution_count": 4,
   "id": "0fb70826",
   "metadata": {
    "scrolled": false
   },
   "outputs": [
    {
     "data": {
      "text/html": [
       "<div>\n",
       "<style scoped>\n",
       "    .dataframe tbody tr th:only-of-type {\n",
       "        vertical-align: middle;\n",
       "    }\n",
       "\n",
       "    .dataframe tbody tr th {\n",
       "        vertical-align: top;\n",
       "    }\n",
       "\n",
       "    .dataframe thead th {\n",
       "        text-align: right;\n",
       "    }\n",
       "</style>\n",
       "<table border=\"1\" class=\"dataframe\">\n",
       "  <thead>\n",
       "    <tr style=\"text-align: right;\">\n",
       "      <th></th>\n",
       "      <th>ContraORDrugs</th>\n",
       "      <th>VEHCONTRA</th>\n",
       "      <th>VEHDRUGS</th>\n",
       "    </tr>\n",
       "  </thead>\n",
       "  <tbody>\n",
       "    <tr>\n",
       "      <th>340093</th>\n",
       "      <td>True</td>\n",
       "      <td>1</td>\n",
       "      <td>1</td>\n",
       "    </tr>\n",
       "    <tr>\n",
       "      <th>243357</th>\n",
       "      <td>True</td>\n",
       "      <td>1</td>\n",
       "      <td>2</td>\n",
       "    </tr>\n",
       "    <tr>\n",
       "      <th>149263</th>\n",
       "      <td>True</td>\n",
       "      <td>1</td>\n",
       "      <td>1</td>\n",
       "    </tr>\n",
       "    <tr>\n",
       "      <th>289463</th>\n",
       "      <td>True</td>\n",
       "      <td>1</td>\n",
       "      <td>1</td>\n",
       "    </tr>\n",
       "    <tr>\n",
       "      <th>9539</th>\n",
       "      <td>True</td>\n",
       "      <td>1</td>\n",
       "      <td>2</td>\n",
       "    </tr>\n",
       "    <tr>\n",
       "      <th>94641</th>\n",
       "      <td>True</td>\n",
       "      <td>1</td>\n",
       "      <td>1</td>\n",
       "    </tr>\n",
       "    <tr>\n",
       "      <th>292214</th>\n",
       "      <td>True</td>\n",
       "      <td>1</td>\n",
       "      <td>2</td>\n",
       "    </tr>\n",
       "    <tr>\n",
       "      <th>9579</th>\n",
       "      <td>True</td>\n",
       "      <td>1</td>\n",
       "      <td>1</td>\n",
       "    </tr>\n",
       "    <tr>\n",
       "      <th>196203</th>\n",
       "      <td>True</td>\n",
       "      <td>1</td>\n",
       "      <td>1</td>\n",
       "    </tr>\n",
       "    <tr>\n",
       "      <th>240701</th>\n",
       "      <td>True</td>\n",
       "      <td>1</td>\n",
       "      <td>2</td>\n",
       "    </tr>\n",
       "    <tr>\n",
       "      <th>12644</th>\n",
       "      <td>True</td>\n",
       "      <td>1</td>\n",
       "      <td>1</td>\n",
       "    </tr>\n",
       "    <tr>\n",
       "      <th>151610</th>\n",
       "      <td>True</td>\n",
       "      <td>1</td>\n",
       "      <td>2</td>\n",
       "    </tr>\n",
       "    <tr>\n",
       "      <th>299057</th>\n",
       "      <td>True</td>\n",
       "      <td>1</td>\n",
       "      <td>1</td>\n",
       "    </tr>\n",
       "    <tr>\n",
       "      <th>202739</th>\n",
       "      <td>True</td>\n",
       "      <td>1</td>\n",
       "      <td>1</td>\n",
       "    </tr>\n",
       "    <tr>\n",
       "      <th>104213</th>\n",
       "      <td>True</td>\n",
       "      <td>1</td>\n",
       "      <td>1</td>\n",
       "    </tr>\n",
       "  </tbody>\n",
       "</table>\n",
       "</div>"
      ],
      "text/plain": [
       "        ContraORDrugs  VEHCONTRA  VEHDRUGS\n",
       "340093           True          1         1\n",
       "243357           True          1         2\n",
       "149263           True          1         1\n",
       "289463           True          1         1\n",
       "9539             True          1         2\n",
       "94641            True          1         1\n",
       "292214           True          1         2\n",
       "9579             True          1         1\n",
       "196203           True          1         1\n",
       "240701           True          1         2\n",
       "12644            True          1         1\n",
       "151610           True          1         2\n",
       "299057           True          1         1\n",
       "202739           True          1         1\n",
       "104213           True          1         1"
      ]
     },
     "execution_count": 4,
     "metadata": {},
     "output_type": "execute_result"
    }
   ],
   "source": [
    "import random\n",
    "# Generating a list of 15 randmonly selected row indices where 'ContraORDrugs' is True\n",
    "index_lst = random.sample(sorted(stops_filtered[stops_filtered['ContraORDrugs']==1].index), 15)\n",
    "# Now pulling in all the rows that were selected by the line above and subsetting the dataframe to show 3 columns\n",
    "stops_filtered.loc[index_lst][['ContraORDrugs','VEHCONTRA','VEHDRUGS']]"
   ]
  },
  {
   "cell_type": "markdown",
   "id": "5c248fe7",
   "metadata": {},
   "source": [
    "Before moving to the next major task, we will produce a line-plot of the DATESTOP vaiable once again to observe the pattern of stops everyday. What do you notice from the plot below?"
   ]
  },
  {
   "cell_type": "code",
   "execution_count": 5,
   "id": "62e25fed",
   "metadata": {},
   "outputs": [
    {
     "data": {
      "text/plain": [
       "<AxesSubplot:xlabel='DATESTOP', ylabel='DURATION'>"
      ]
     },
     "execution_count": 5,
     "metadata": {},
     "output_type": "execute_result"
    },
    {
     "data": {
      "image/png": "[encoded data removed]",
      "text/plain": [
       "<Figure size 432x288 with 1 Axes>"
      ]
     },
     "metadata": {
      "needs_background": "light"
     },
     "output_type": "display_data"
    }
   ],
   "source": [
    "# plot\n",
    "import seaborn as sns\n",
    "stops_group = stops_filtered.groupby('DATESTOP').count()\n",
    "sns.lineplot(data = stops_group, x = 'DATESTOP', y = 'DURATION')"
   ]
  },
  {
   "cell_type": "markdown",
   "id": "a7d549b8",
   "metadata": {},
   "source": [
    "As you can see, there is a cyclic pattern every week which seem to dip over weekends and rise again on weekdays. We will now create an indicator variable to mark if the stop happened during a weekday. Pandas offers us a function to do that which converts any pandas datetime datatype to the day of the week. This way we can take out weekday as a key variable to compare the occurence of a stop with."
   ]
  },
  {
   "cell_type": "code",
   "execution_count": 6,
   "id": "18380d79",
   "metadata": {},
   "outputs": [],
   "source": [
    "# Create temporal weekend/weekday feature\n",
    "stops_filtered['Weekday'] = stops_filtered['DATESTOP'].dt.weekday"
   ]
  },
  {
   "cell_type": "code",
   "execution_count": 7,
   "id": "498d6506",
   "metadata": {},
   "outputs": [],
   "source": [
    "# Use pandas where to classify if the day is a weekend\n",
    "# Note: According to the documentation, Monday = 0, Sunday = 6\n",
    "stops_filtered['IsWeekend'] = True\n",
    "stops_filtered['IsWeekend'] = \\\n",
    "stops_filtered['IsWeekend'].where((stops_filtered['Weekday']==5) | (stops_filtered['Weekday']==6), False)"
   ]
  },
  {
   "cell_type": "code",
   "execution_count": 8,
   "id": "73ff9c91",
   "metadata": {},
   "outputs": [
    {
     "data": {
      "text/plain": [
       "False    84182\n",
       "True     32659\n",
       "Name: IsWeekend, dtype: int64"
      ]
     },
     "execution_count": 8,
     "metadata": {},
     "output_type": "execute_result"
    }
   ],
   "source": [
    "stops_filtered['IsWeekend'].value_counts()"
   ]
  },
  {
   "cell_type": "code",
   "execution_count": 9,
   "id": "41ebf97e",
   "metadata": {},
   "outputs": [
    {
     "data": {
      "text/plain": [
       "<AxesSubplot:xlabel='DATESTOP', ylabel='DURATION'>"
      ]
     },
     "execution_count": 9,
     "metadata": {},
     "output_type": "execute_result"
    },
    {
     "data": {
      "image/png": "[encoded data removed]",
      "text/plain": [
       "<Figure size 432x288 with 1 Axes>"
      ]
     },
     "metadata": {
      "needs_background": "light"
     },
     "output_type": "display_data"
    }
   ],
   "source": [
    "# Add visual for the thing above (before & after)\n",
    "stops_group = stops_filtered.groupby('DATESTOP').count()\n",
    "sns.lineplot(data = stops_group, x = 'DATESTOP', y = 'DURATION')"
   ]
  },
  {
   "cell_type": "markdown",
   "id": "d8d54cdc",
   "metadata": {},
   "source": [
    "With the histogram above, we can see a clear pattern bewteend the weekend and weekdays an this gives us a predictible feature which can help us in estimate number of stops over a particular day.\n",
    "\n",
    "We discussed that statistical tools and plots usually deal with numerical categories as integers and treat such variables as they are ranked, unless those numbers are defined as strings (objects) or categories. Even in such a scenario, some models will give out an error when working with discrete categories as they only require numbers or booleans. For some variables in our dataset with categories set in the range from 0 till 2, we will convert them to indicator variables. \n",
    "\n",
    "Consider the catefory VEHDRUGS which has 0 if Search wasn't conducted, 1 if Drugs were found and 2 if Drugs weren't found. To convert them to features that are compatible with models, we will first create an indicator variable for if Search was conducted for Drugs (All rows will either 1 or 2 will be True) and then another indicator for stops where drugs were found (rows with value 1). This then also covers every possible case. For eg. if search was conducted but drugs weren't found, the search column will be True and the Drugs column will be False. We will again use Pandas where method."
   ]
  },
  {
   "cell_type": "code",
   "execution_count": 10,
   "id": "a1a375a5",
   "metadata": {},
   "outputs": [],
   "source": [
    "# Setting default state\n",
    "stops_filtered['DrugsFound'] = True\n",
    "# Remember, inplace=True performs the operation in place in data\n",
    "stops_filtered['DrugsFound'].where(stops_filtered['VEHDRUGS'] == 1, False, inplace=True)"
   ]
  },
  {
   "cell_type": "code",
   "execution_count": 11,
   "id": "51ecdf15",
   "metadata": {},
   "outputs": [],
   "source": [
    "# Similarly we'll repeat the operation for if Weapons were found\n",
    "stops_filtered['WeaponsFound'] = True\n",
    "stops_filtered['WeaponsFound'].where(stops_filtered['VEHWEAP'] == 1, False, inplace=True)"
   ]
  },
  {
   "cell_type": "code",
   "execution_count": 12,
   "id": "36511c0c",
   "metadata": {},
   "outputs": [
    {
     "data": {
      "text/html": [
       "<div>\n",
       "<style scoped>\n",
       "    .dataframe tbody tr th:only-of-type {\n",
       "        vertical-align: middle;\n",
       "    }\n",
       "\n",
       "    .dataframe tbody tr th {\n",
       "        vertical-align: top;\n",
       "    }\n",
       "\n",
       "    .dataframe thead th {\n",
       "        text-align: right;\n",
       "    }\n",
       "</style>\n",
       "<table border=\"1\" class=\"dataframe\">\n",
       "  <thead>\n",
       "    <tr style=\"text-align: right;\">\n",
       "      <th></th>\n",
       "      <th>DrugsFound</th>\n",
       "      <th>WeaponsFound</th>\n",
       "    </tr>\n",
       "  </thead>\n",
       "  <tbody>\n",
       "    <tr>\n",
       "      <th>0</th>\n",
       "      <td>False</td>\n",
       "      <td>False</td>\n",
       "    </tr>\n",
       "    <tr>\n",
       "      <th>1</th>\n",
       "      <td>False</td>\n",
       "      <td>False</td>\n",
       "    </tr>\n",
       "    <tr>\n",
       "      <th>2</th>\n",
       "      <td>False</td>\n",
       "      <td>False</td>\n",
       "    </tr>\n",
       "    <tr>\n",
       "      <th>3</th>\n",
       "      <td>False</td>\n",
       "      <td>False</td>\n",
       "    </tr>\n",
       "    <tr>\n",
       "      <th>4</th>\n",
       "      <td>False</td>\n",
       "      <td>False</td>\n",
       "    </tr>\n",
       "  </tbody>\n",
       "</table>\n",
       "</div>"
      ],
      "text/plain": [
       "   DrugsFound  WeaponsFound\n",
       "0       False         False\n",
       "1       False         False\n",
       "2       False         False\n",
       "3       False         False\n",
       "4       False         False"
      ]
     },
     "execution_count": 12,
     "metadata": {},
     "output_type": "execute_result"
    }
   ],
   "source": [
    "# View the head of the columns. Most the values are fault as we'll notice\n",
    "stops_filtered[['DrugsFound','WeaponsFound']].head()"
   ]
  },
  {
   "cell_type": "markdown",
   "id": "581489c4",
   "metadata": {},
   "source": [
    "In the part below we will look at an important function in Pandas that is used very frequently in data wrangling operations. Groupby allows us to create a Pandas Group DataFrame which, according to the documentation, involves some combination of splitting the object, applying a function, and combining the results. We will see how it works below.\n",
    "\n",
    "Our primary concer in this entire project is to see how police beahvious in stops differ for every race in order to identify existence of racial bias. For that it'll be useful to have an aggregate look on all activities performed during a stop for each race. This won't indicate a causal relation but will show us a pattern."
   ]
  },
  {
   "cell_type": "code",
   "execution_count": 13,
   "id": "82de8e74",
   "metadata": {},
   "outputs": [
    {
     "data": {
      "text/plain": [
       "<pandas.core.groupby.generic.DataFrameGroupBy object at 0x7fa7ba351ac0>"
      ]
     },
     "execution_count": 13,
     "metadata": {},
     "output_type": "execute_result"
    }
   ],
   "source": [
    "# Create a Group dataframe\n",
    "stops_grouped = stops_filtered.groupby(['DRRACE'])\n",
    "# If you print it it will only show you the object type\n",
    "stops_grouped"
   ]
  },
  {
   "cell_type": "code",
   "execution_count": 14,
   "id": "cd9d1d22",
   "metadata": {},
   "outputs": [
    {
     "data": {
      "text/plain": [
       "DRRACE\n",
       "1    7.453721\n",
       "2    8.083024\n",
       "3    6.625835\n",
       "4    7.187564\n",
       "5    6.660507\n",
       "6    8.310714\n",
       "Name: DURATION, dtype: float64"
      ]
     },
     "execution_count": 14,
     "metadata": {},
     "output_type": "execute_result"
    }
   ],
   "source": [
    "# Aggregate dataframe using mean and subset Duration \n",
    "stops_grouped.mean()['DURATION']"
   ]
  },
  {
   "cell_type": "code",
   "execution_count": 15,
   "id": "4894f728",
   "metadata": {},
   "outputs": [
    {
     "data": {
      "text/html": [
       "<div>\n",
       "<style scoped>\n",
       "    .dataframe tbody tr th:only-of-type {\n",
       "        vertical-align: middle;\n",
       "    }\n",
       "\n",
       "    .dataframe tbody tr th {\n",
       "        vertical-align: top;\n",
       "    }\n",
       "\n",
       "    .dataframe thead th {\n",
       "        text-align: right;\n",
       "    }\n",
       "</style>\n",
       "<table border=\"1\" class=\"dataframe\">\n",
       "  <thead>\n",
       "    <tr style=\"text-align: right;\">\n",
       "      <th></th>\n",
       "      <th>WeaponsFound</th>\n",
       "      <th>DrugsFound</th>\n",
       "    </tr>\n",
       "    <tr>\n",
       "      <th>DRRACE</th>\n",
       "      <th></th>\n",
       "      <th></th>\n",
       "    </tr>\n",
       "  </thead>\n",
       "  <tbody>\n",
       "    <tr>\n",
       "      <th>1</th>\n",
       "      <td>3</td>\n",
       "      <td>17</td>\n",
       "    </tr>\n",
       "    <tr>\n",
       "      <th>2</th>\n",
       "      <td>47</td>\n",
       "      <td>219</td>\n",
       "    </tr>\n",
       "    <tr>\n",
       "      <th>3</th>\n",
       "      <td>0</td>\n",
       "      <td>1</td>\n",
       "    </tr>\n",
       "    <tr>\n",
       "      <th>4</th>\n",
       "      <td>5</td>\n",
       "      <td>77</td>\n",
       "    </tr>\n",
       "    <tr>\n",
       "      <th>5</th>\n",
       "      <td>0</td>\n",
       "      <td>3</td>\n",
       "    </tr>\n",
       "    <tr>\n",
       "      <th>6</th>\n",
       "      <td>0</td>\n",
       "      <td>0</td>\n",
       "    </tr>\n",
       "  </tbody>\n",
       "</table>\n",
       "</div>"
      ],
      "text/plain": [
       "        WeaponsFound  DrugsFound\n",
       "DRRACE                          \n",
       "1                  3          17\n",
       "2                 47         219\n",
       "3                  0           1\n",
       "4                  5          77\n",
       "5                  0           3\n",
       "6                  0           0"
      ]
     },
     "execution_count": 15,
     "metadata": {},
     "output_type": "execute_result"
    }
   ],
   "source": [
    "# Aggregate dataframe using sum and subset WeaponsFound and DrugsFound\n",
    "stops_grouped.sum()[['WeaponsFound', 'DrugsFound']]\n",
    "# Notice, for boolean values you get a count of all rows that were True when you apply sum()"
   ]
  },
  {
   "cell_type": "markdown",
   "id": "ab1b48e2",
   "metadata": {},
   "source": [
    "Continuing from creation of indicator features, for variables with multiple categories, we would have to create a new column for each category in the variable. This is called one-hot encoding. To identify each race, we will have to create a variable indicating each race (or known as a dummy variable). To state it again, the reason for doing is that most models only accept integer or boolean. We don't won't integer here to prevent getting each category ranked and evaluated as so. Pandas get_dummies() will enable us to create these dummy variables."
   ]
  },
  {
   "cell_type": "code",
   "execution_count": 16,
   "id": "b01bd81e",
   "metadata": {},
   "outputs": [],
   "source": [
    "# One-hot encode DRRACE\n",
    "stops_filtered['DRRACE'].astype('category')\n",
    "stops_filtered = pd.get_dummies(stops_filtered, columns = ['DRRACE'])"
   ]
  },
  {
   "cell_type": "code",
   "execution_count": 17,
   "id": "88e63414",
   "metadata": {},
   "outputs": [
    {
     "data": {
      "text/html": [
       "<div>\n",
       "<style scoped>\n",
       "    .dataframe tbody tr th:only-of-type {\n",
       "        vertical-align: middle;\n",
       "    }\n",
       "\n",
       "    .dataframe tbody tr th {\n",
       "        vertical-align: top;\n",
       "    }\n",
       "\n",
       "    .dataframe thead th {\n",
       "        text-align: right;\n",
       "    }\n",
       "</style>\n",
       "<table border=\"1\" class=\"dataframe\">\n",
       "  <thead>\n",
       "    <tr style=\"text-align: right;\">\n",
       "      <th></th>\n",
       "      <th>DATESTOP</th>\n",
       "      <th>TIMESTOP</th>\n",
       "      <th>DURATION</th>\n",
       "      <th>CITY_I</th>\n",
       "      <th>STATE</th>\n",
       "      <th>RESSTOP</th>\n",
       "      <th>TYPEMOV</th>\n",
       "      <th>BEAT_I</th>\n",
       "      <th>VEHSRCHCOND</th>\n",
       "      <th>VEHCONTRA</th>\n",
       "      <th>...</th>\n",
       "      <th>Weekday</th>\n",
       "      <th>IsWeekend</th>\n",
       "      <th>DrugsFound</th>\n",
       "      <th>WeaponsFound</th>\n",
       "      <th>DRRACE_1</th>\n",
       "      <th>DRRACE_2</th>\n",
       "      <th>DRRACE_3</th>\n",
       "      <th>DRRACE_4</th>\n",
       "      <th>DRRACE_5</th>\n",
       "      <th>DRRACE_6</th>\n",
       "    </tr>\n",
       "  </thead>\n",
       "  <tbody>\n",
       "    <tr>\n",
       "      <th>0</th>\n",
       "      <td>2021-01-01</td>\n",
       "      <td>0:33</td>\n",
       "      <td>5</td>\n",
       "      <td>CHICAGO</td>\n",
       "      <td>IL</td>\n",
       "      <td>3</td>\n",
       "      <td>NaN</td>\n",
       "      <td>1234</td>\n",
       "      <td>2</td>\n",
       "      <td>0</td>\n",
       "      <td>...</td>\n",
       "      <td>4</td>\n",
       "      <td>False</td>\n",
       "      <td>False</td>\n",
       "      <td>False</td>\n",
       "      <td>0</td>\n",
       "      <td>0</td>\n",
       "      <td>0</td>\n",
       "      <td>1</td>\n",
       "      <td>0</td>\n",
       "      <td>0</td>\n",
       "    </tr>\n",
       "    <tr>\n",
       "      <th>1</th>\n",
       "      <td>2021-01-01</td>\n",
       "      <td>1:50</td>\n",
       "      <td>4</td>\n",
       "      <td>CHICAGO</td>\n",
       "      <td>IL</td>\n",
       "      <td>3</td>\n",
       "      <td>NaN</td>\n",
       "      <td>1122</td>\n",
       "      <td>2</td>\n",
       "      <td>0</td>\n",
       "      <td>...</td>\n",
       "      <td>4</td>\n",
       "      <td>False</td>\n",
       "      <td>False</td>\n",
       "      <td>False</td>\n",
       "      <td>0</td>\n",
       "      <td>1</td>\n",
       "      <td>0</td>\n",
       "      <td>0</td>\n",
       "      <td>0</td>\n",
       "      <td>0</td>\n",
       "    </tr>\n",
       "    <tr>\n",
       "      <th>2</th>\n",
       "      <td>2021-01-01</td>\n",
       "      <td>8:50</td>\n",
       "      <td>4</td>\n",
       "      <td>CHICAGO</td>\n",
       "      <td>IL</td>\n",
       "      <td>3</td>\n",
       "      <td>NaN</td>\n",
       "      <td>332</td>\n",
       "      <td>2</td>\n",
       "      <td>0</td>\n",
       "      <td>...</td>\n",
       "      <td>4</td>\n",
       "      <td>False</td>\n",
       "      <td>False</td>\n",
       "      <td>False</td>\n",
       "      <td>0</td>\n",
       "      <td>1</td>\n",
       "      <td>0</td>\n",
       "      <td>0</td>\n",
       "      <td>0</td>\n",
       "      <td>0</td>\n",
       "    </tr>\n",
       "    <tr>\n",
       "      <th>3</th>\n",
       "      <td>2021-01-01</td>\n",
       "      <td>12:41</td>\n",
       "      <td>6</td>\n",
       "      <td>CHICAGO</td>\n",
       "      <td>IL</td>\n",
       "      <td>3</td>\n",
       "      <td>NaN</td>\n",
       "      <td>1121</td>\n",
       "      <td>2</td>\n",
       "      <td>0</td>\n",
       "      <td>...</td>\n",
       "      <td>4</td>\n",
       "      <td>False</td>\n",
       "      <td>False</td>\n",
       "      <td>False</td>\n",
       "      <td>0</td>\n",
       "      <td>1</td>\n",
       "      <td>0</td>\n",
       "      <td>0</td>\n",
       "      <td>0</td>\n",
       "      <td>0</td>\n",
       "    </tr>\n",
       "    <tr>\n",
       "      <th>4</th>\n",
       "      <td>2021-01-01</td>\n",
       "      <td>13:51</td>\n",
       "      <td>5</td>\n",
       "      <td>CHICAGO</td>\n",
       "      <td>IL</td>\n",
       "      <td>3</td>\n",
       "      <td>NaN</td>\n",
       "      <td>423</td>\n",
       "      <td>2</td>\n",
       "      <td>0</td>\n",
       "      <td>...</td>\n",
       "      <td>4</td>\n",
       "      <td>False</td>\n",
       "      <td>False</td>\n",
       "      <td>False</td>\n",
       "      <td>0</td>\n",
       "      <td>1</td>\n",
       "      <td>0</td>\n",
       "      <td>0</td>\n",
       "      <td>0</td>\n",
       "      <td>0</td>\n",
       "    </tr>\n",
       "  </tbody>\n",
       "</table>\n",
       "<p>5 rows × 24 columns</p>\n",
       "</div>"
      ],
      "text/plain": [
       "    DATESTOP TIMESTOP  DURATION   CITY_I STATE  RESSTOP  TYPEMOV  BEAT_I  \\\n",
       "0 2021-01-01     0:33         5  CHICAGO    IL        3      NaN    1234   \n",
       "1 2021-01-01     1:50         4  CHICAGO    IL        3      NaN    1122   \n",
       "2 2021-01-01     8:50         4  CHICAGO    IL        3      NaN     332   \n",
       "3 2021-01-01    12:41         6  CHICAGO    IL        3      NaN    1121   \n",
       "4 2021-01-01    13:51         5  CHICAGO    IL        3      NaN     423   \n",
       "\n",
       "   VEHSRCHCOND  VEHCONTRA  ...  Weekday  IsWeekend  DrugsFound  WeaponsFound  \\\n",
       "0            2          0  ...        4      False       False         False   \n",
       "1            2          0  ...        4      False       False         False   \n",
       "2            2          0  ...        4      False       False         False   \n",
       "3            2          0  ...        4      False       False         False   \n",
       "4            2          0  ...        4      False       False         False   \n",
       "\n",
       "   DRRACE_1  DRRACE_2  DRRACE_3  DRRACE_4  DRRACE_5  DRRACE_6  \n",
       "0         0         0         0         1         0         0  \n",
       "1         0         1         0         0         0         0  \n",
       "2         0         1         0         0         0         0  \n",
       "3         0         1         0         0         0         0  \n",
       "4         0         1         0         0         0         0  \n",
       "\n",
       "[5 rows x 24 columns]"
      ]
     },
     "execution_count": 17,
     "metadata": {},
     "output_type": "execute_result"
    }
   ],
   "source": [
    "# scroll to the end to view the newly created variables. \n",
    "# Also note that by default get_dummies() removes the original variable 'DRRACE'\n",
    "stops_filtered.head()"
   ]
  },
  {
   "cell_type": "markdown",
   "id": "0bd09844",
   "metadata": {},
   "source": [
    "### Exercise"
   ]
  },
  {
   "cell_type": "code",
   "execution_count": 19,
   "id": "76df5f03",
   "metadata": {},
   "outputs": [],
   "source": [
    "# Create a temporal feature for hour of the day from 0-23"
   ]
  },
  {
   "cell_type": "code",
   "execution_count": 25,
   "id": "7f9fbc52",
   "metadata": {},
   "outputs": [],
   "source": [
    "# Plot a graph showing frequency of stops for each hour "
   ]
  },
  {
   "cell_type": "code",
   "execution_count": 20,
   "id": "17a7dd89",
   "metadata": {},
   "outputs": [],
   "source": [
    "# One-hot-encode TypeMOV and RESTOP variables"
   ]
  },
  {
   "cell_type": "code",
   "execution_count": 23,
   "id": "37abaa48",
   "metadata": {},
   "outputs": [],
   "source": [
    "# Create Boolean feauures for 'VEHSTOLPROP' and 'VEHSRCHCOND'"
   ]
  },
  {
   "cell_type": "code",
   "execution_count": 24,
   "id": "8c6a281c",
   "metadata": {},
   "outputs": [],
   "source": [
    "# Groupby the dataframe by beat and display mean duration for first 10 beats"
   ]
  },
  {
   "cell_type": "code",
   "execution_count": 26,
   "id": "f6c334b5",
   "metadata": {},
   "outputs": [],
   "source": [
    "# Plot a graph showing boxplots of duration for these 10 beats"
   ]
  }
 ],
 "metadata": {
  "kernelspec": {
   "display_name": "Python 3 (ipykernel)",
   "language": "python",
   "name": "python3"
  },
  "language_info": {
   "codemirror_mode": {
    "name": "ipython",
    "version": 3
   },
   "file_extension": ".py",
   "mimetype": "text/x-python",
   "name": "python",
   "nbconvert_exporter": "python",
   "pygments_lexer": "ipython3",
   "version": "3.9.12"
  }
 },
 "nbformat": 4,
 "nbformat_minor": 5
}
