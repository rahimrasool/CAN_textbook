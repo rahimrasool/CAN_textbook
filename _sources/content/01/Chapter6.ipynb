{
 "cells": [
  {
   "cell_type": "markdown",
   "id": "a3f501dc",
   "metadata": {},
   "source": [
    "# Chapter 6: Common Operations in Pandas"
   ]
  },
  {
   "cell_type": "markdown",
   "id": "03d0517d",
   "metadata": {},
   "source": [
    "Throughout the first 5 chapters, we were able to see the great set of methods and functionalities Pandas offers. It offers you a very flexible and comprehensive toolkit to deal with any dataset in a SQL-like or spreadsheet format. Understanding the functionalities well and being familiar with the fundamentals of Pandas will be extremely resourceful. Being accustomed to pandas will offer you the superpower to do complex analysis and simplify the results in whatever way you may want.\n",
    "\n",
    "Therefore, in order to give you a breif hint of a short set of the limitless capabilities that Pandas can offer, we will go through the guided exercises below. You will cover basic SQL like functions that you can also perform on Pandas. Don't worry if you are not familiar with SQL. Our purpose is to start with combining different tables and appending data to the existing ones. Moreover, we will also have a look at how dataframes can be re-structured into different shapes and multi-indexed structured to get a better view of the dataframe that fulfills the need."
   ]
  },
  {
   "cell_type": "markdown",
   "id": "2835030f",
   "metadata": {},
   "source": [
    "### Guided Practice"
   ]
  },
  {
   "cell_type": "code",
   "execution_count": 1,
   "id": "5eab471f",
   "metadata": {},
   "outputs": [],
   "source": [
    "# Append formatted April Data"
   ]
  },
  {
   "cell_type": "code",
   "execution_count": 2,
   "id": "cb89d99a",
   "metadata": {},
   "outputs": [],
   "source": [
    "# Join Kaggle Data"
   ]
  },
  {
   "cell_type": "code",
   "execution_count": 3,
   "id": "2a0adc11",
   "metadata": {},
   "outputs": [],
   "source": [
    "# Perform multi-indexing work"
   ]
  },
  {
   "cell_type": "code",
   "execution_count": 4,
   "id": "d698bb7e",
   "metadata": {},
   "outputs": [],
   "source": [
    "# Reshape Data"
   ]
  },
  {
   "cell_type": "code",
   "execution_count": null,
   "id": "e34c5c9e",
   "metadata": {},
   "outputs": [],
   "source": []
  }
 ],
 "metadata": {
  "kernelspec": {
   "display_name": "Python 3 (ipykernel)",
   "language": "python",
   "name": "python3"
  },
  "language_info": {
   "codemirror_mode": {
    "name": "ipython",
    "version": 3
   },
   "file_extension": ".py",
   "mimetype": "text/x-python",
   "name": "python",
   "nbconvert_exporter": "python",
   "pygments_lexer": "ipython3",
   "version": "3.9.12"
  }
 },
 "nbformat": 4,
 "nbformat_minor": 5
}
