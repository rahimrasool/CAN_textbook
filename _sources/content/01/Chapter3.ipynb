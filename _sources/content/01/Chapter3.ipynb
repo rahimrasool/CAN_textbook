{
 "cells": [
  {
   "cell_type": "markdown",
   "id": "014cb8fb",
   "metadata": {},
   "source": [
    "# Chapter 3: Cleaning Data"
   ]
  },
  {
   "cell_type": "markdown",
   "id": "fe9cd965",
   "metadata": {},
   "source": [
    "We will carry on the discussion regarding the significance of clean data since this is a crucial component of the data analysis pipeline. [Data scientists spend 60% of their time on cleaning and organizing data](https://www.forbes.com/sites/gilpress/2016/03/23/data-preparation-most-time-consuming-least-enjoyable-data-science-task-survey-says/?sh=5f5082a26f63). While this may seem to be the least enjoyable component of this pipeline, it is also the most crucial and has noteworthy impacts on the results. Moreover, data cleaning skills are highly valued and again requires knowledge of the context as do most of the components of this data life cycle need.\n",
    "\n",
    "Errors in data can occur in several ways and it is important to identify and differentiate between each type of error. Firstly, one of the major problems in data cleaning process can be **missing data**. This can result from some system error resulting in deletion of a few data cells or a candidate missing out fields in a survey the candidate was required to fill. In such cases, it is important to be mindful of what resulted in that data getting missed. It could either be systematic where some data types couldn't be stored as a result of a flawed logic for eg. a field requiring data and time didn't store entries that were in the wrong date/time format. Another reason for missing data can also be because of the type of question asked as it might impact one's privacy and could restrict people from filling out that field, for eg. a survey requiring household income has missing data in a few records as candidates didn't want to submit income details to prevent any tax scrutiny. \n",
    "\n",
    "After identifying and categorizing what caused the data to be missing, it is important to know how to deal with it. The immediate naive approach taken is to remove the rows containing missing values or to remove an entire column if it contains several missing cells. Similarly, missing values can be imputed with statistical average of other available values in the column or imputed using a more sophisticated algorithm. However, which approach to use depends entirely on the context of the problem. It may not be a good idea to remove rows or columns since they may contain some valueable insights that we'll miss and also reduce the statistical power of our analysis due to reduction in the data size. Therefore, as mentioned above, it is important to categorize the reason behind what led to the missing values. It might be that the missing values themselves indicate a pattern that needs to be picked up by the analyst. Similarly, it may not always be a good idea to impute those missing values with an average or algorithm-generated values. This might result into certain bias and affect the integrity of the data as we are artificially inflating certain values and assuming them rather than filling them in with real observations.\n",
    "\n",
    "Secondly, **outliers** in data can be a significant concern in the data cleaning process. Outliers are data points that are abnormally off from other values in a column. For eg. a Year of Birth column might have values before 1800 in a survey of current residents or the income of a couple of households in a zip code can be a few billions, way above the median income of the households in that zip code. It is common to have this and can be caused by an error or could reflect an actual observation. In either case, it is important to identify what caused this outlier and how to deal with it. Their presence can bias the results and lead to erroneous estimation. For eg. a new business trying to identify opportunites for nearby residents might want to consider the mean age of residents, hoewever, due to erroroneous input in the records, with a few residents getting a Year of Birth before 1800s, can inflate the mean estimate giving a wrong sense of average to the business owners.\n",
    "\n",
    "![](https://datascience.foundation/img/pdf_images/knowing_all_about_outliers_in_machine_learning_sample_points_in_green_are_near_to_each_other.jpg)\n",
    "\n",
    "Outliers can be dealt with by either removing those values from the dataset or by using models that are immune to any outliers. Some of the baseline models to minimize the impact of outliers could be to use median instead of mean or use density based algorithms rather than ones based on distance when making predictions (to be discussed later). However, it is still important to understand the context as these outliers can again offer some significant insights. For eg. an outlying purchase value of a credit card transaction might hint a fraudulent activity and in such a case that outlier must be highlighted and reviewed. Similalry, outliers in heart-rate metrics from a wearable device can indicate an anomaly that requires immediate medical attention.\n",
    "\n",
    "Other forms of errors in data that are a critical part of the cleaning process include misspelled and incorrectly measured data. For eg. In a survey of residents filling out the name of their city of origin, many residents can spell the same city in multiple ways (How many people around you can spell Philadelphia correctly?). A data analytics software would most probably consider them different cities. In another data collection process of oxygen level data, the data of a few subjects was misreported as they wore the tracking device on their non-dominant hand. Errors like these are hard to solve but essential to be dealt with and can take most of the data scientist's time. There is a surge of tools and packages that may help in dealing with them, for eg. some matching algorithms can assist with matching cells with similar spellings and combine them to one category. \n",
    "\n",
    "Another important category that is part of untidy data is irregular units and scale. It might be the case that users for a health equity venture are submitting their body mass in two different units and your system doesn't know that. Similarly, modeling data can be hard if your data is not in a linear scale i.e. your data has a pattern that is difficult to capture with a stright formula. One such example can be having a non-linear data of user time for your app. This might make it difficult to decide which features you want to release to improve the experience of your users. Some techniques such as feature scaling can be used (again with caution!) to convert the data in a column to a linear trend."
   ]
  },
  {
   "cell_type": "markdown",
   "id": "c27c0b35",
   "metadata": {},
   "source": [
    "### Guided Practice\n",
    "\n",
    "In this practice, we'll continue with the traffic stops data that we worked on in the last chapter and continue with performing data cleaning and manipulation operations. "
   ]
  },
  {
   "cell_type": "code",
   "execution_count": 1,
   "id": "2568ff11",
   "metadata": {},
   "outputs": [],
   "source": [
    "# Import data\n",
    "import pandas as pd\n",
    "# Note: we can import packages and alias them\n",
    "\n",
    "stops_sliced = pd.read_csv('stops_data_sliced.csv')"
   ]
  },
  {
   "cell_type": "code",
   "execution_count": 2,
   "id": "8e6e2b43",
   "metadata": {},
   "outputs": [],
   "source": [
    "# ignore these lines\n",
    "pd.options.display.max_columns = None\n",
    "pd.options.display.max_rows = None\n",
    "import warnings\n",
    "warnings.filterwarnings('ignore')"
   ]
  },
  {
   "cell_type": "code",
   "execution_count": 3,
   "id": "edb2b1fa",
   "metadata": {},
   "outputs": [
    {
     "data": {
      "text/plain": [
       "Unnamed: 0       int64\n",
       "DATESTOP        object\n",
       "TIMESTOP        object\n",
       "DURATION         int64\n",
       "CITY_I          object\n",
       "STATE           object\n",
       "DRRACE         float64\n",
       "RESSTOP          int64\n",
       "TYPEMOV        float64\n",
       "BEAT_I           int64\n",
       "VEHSRCHCOND      int64\n",
       "VEHCONTRA        int64\n",
       "VEHDRUGS         int64\n",
       "VEHWEAP          int64\n",
       "VEHSTOLPROP      int64\n",
       "dtype: object"
      ]
     },
     "execution_count": 3,
     "metadata": {},
     "output_type": "execute_result"
    }
   ],
   "source": [
    "# Let's check the data types again\n",
    "stops_sliced.dtypes"
   ]
  },
  {
   "cell_type": "markdown",
   "id": "daeba474",
   "metadata": {},
   "source": [
    "The read process above added an extra column to the dataset labelled 'Unnamed: 0'. We can drop it using the drop() method"
   ]
  },
  {
   "cell_type": "code",
   "execution_count": 4,
   "id": "370f9609",
   "metadata": {},
   "outputs": [],
   "source": [
    "stops_sliced.drop(columns = 'Unnamed: 0', inplace=True)\n",
    "# Note: By setting inplace=True, the method applies on the dataframe\n",
    "# We don't need to create a copy and assign to a new variable"
   ]
  },
  {
   "cell_type": "markdown",
   "id": "f158684f",
   "metadata": {},
   "source": [
    "As you can notice above, both DATESTOP and TIMESTOP are interpreted as object data types. Objects in pandas are a mix of text and numbers and treated differently by various models and packages. Therefore, it is useful to convert these temporal features to data types that recorgnizes them. We will see how this benefits us ahead. Pandas has a datetime object and a function to convert an entire Series to datetime format. This will enable us to perform a set of operations that are available for pandas datetime objects. We will use the [strftime](https://docs.python.org/3/library/datetime.html#strftime-and-strptime-behavior) to parse date and time by providng the format as an argument to the function. \n",
    "\n",
    "We are also interested in analyzing the data for first 3 months only, therefore, following the conversion step, we'll filter dates only between 1st Jan and 31st March of the year."
   ]
  },
  {
   "cell_type": "code",
   "execution_count": 5,
   "id": "0c93ebe1",
   "metadata": {},
   "outputs": [
    {
     "data": {
      "text/html": [
       "<div>\n",
       "<style scoped>\n",
       "    .dataframe tbody tr th:only-of-type {\n",
       "        vertical-align: middle;\n",
       "    }\n",
       "\n",
       "    .dataframe tbody tr th {\n",
       "        vertical-align: top;\n",
       "    }\n",
       "\n",
       "    .dataframe thead th {\n",
       "        text-align: right;\n",
       "    }\n",
       "</style>\n",
       "<table border=\"1\" class=\"dataframe\">\n",
       "  <thead>\n",
       "    <tr style=\"text-align: right;\">\n",
       "      <th></th>\n",
       "      <th>DATESTOP</th>\n",
       "      <th>TIMESTOP</th>\n",
       "    </tr>\n",
       "  </thead>\n",
       "  <tbody>\n",
       "    <tr>\n",
       "      <th>377896</th>\n",
       "      <td>12/31/21</td>\n",
       "      <td>20:31</td>\n",
       "    </tr>\n",
       "    <tr>\n",
       "      <th>377897</th>\n",
       "      <td>12/31/21</td>\n",
       "      <td>21:33</td>\n",
       "    </tr>\n",
       "    <tr>\n",
       "      <th>377898</th>\n",
       "      <td>12/31/21</td>\n",
       "      <td>21:20</td>\n",
       "    </tr>\n",
       "  </tbody>\n",
       "</table>\n",
       "</div>"
      ],
      "text/plain": [
       "        DATESTOP TIMESTOP\n",
       "377896  12/31/21    20:31\n",
       "377897  12/31/21    21:33\n",
       "377898  12/31/21    21:20"
      ]
     },
     "execution_count": 5,
     "metadata": {},
     "output_type": "execute_result"
    }
   ],
   "source": [
    "# Check current Data and time formats\n",
    "stops_sliced[['DATESTOP','TIMESTOP']].tail(3)"
   ]
  },
  {
   "cell_type": "code",
   "execution_count": 6,
   "id": "2a15dd23",
   "metadata": {},
   "outputs": [
    {
     "data": {
      "text/plain": [
       "377897   2021-12-31\n",
       "377898   2021-12-31\n",
       "Name: DATESTOP, dtype: datetime64[ns]"
      ]
     },
     "execution_count": 6,
     "metadata": {},
     "output_type": "execute_result"
    }
   ],
   "source": [
    "# Convert Data and time stamps using strftime format\n",
    "stops_sliced['DATESTOP'] = pd.to_datetime(stops_sliced['DATESTOP'], format='%m/%d/%y')\n",
    "stops_sliced['DATESTOP'].tail(2)"
   ]
  },
  {
   "cell_type": "code",
   "execution_count": 7,
   "id": "920a2259",
   "metadata": {},
   "outputs": [
    {
     "data": {
      "text/html": [
       "<div>\n",
       "<style scoped>\n",
       "    .dataframe tbody tr th:only-of-type {\n",
       "        vertical-align: middle;\n",
       "    }\n",
       "\n",
       "    .dataframe tbody tr th {\n",
       "        vertical-align: top;\n",
       "    }\n",
       "\n",
       "    .dataframe thead th {\n",
       "        text-align: right;\n",
       "    }\n",
       "</style>\n",
       "<table border=\"1\" class=\"dataframe\">\n",
       "  <thead>\n",
       "    <tr style=\"text-align: right;\">\n",
       "      <th></th>\n",
       "      <th>DATESTOP</th>\n",
       "      <th>TIMESTOP</th>\n",
       "      <th>DURATION</th>\n",
       "      <th>CITY_I</th>\n",
       "      <th>STATE</th>\n",
       "      <th>DRRACE</th>\n",
       "      <th>RESSTOP</th>\n",
       "      <th>TYPEMOV</th>\n",
       "      <th>BEAT_I</th>\n",
       "      <th>VEHSRCHCOND</th>\n",
       "      <th>VEHCONTRA</th>\n",
       "      <th>VEHDRUGS</th>\n",
       "      <th>VEHWEAP</th>\n",
       "      <th>VEHSTOLPROP</th>\n",
       "    </tr>\n",
       "  </thead>\n",
       "  <tbody>\n",
       "    <tr>\n",
       "      <th>349193</th>\n",
       "      <td>2021-03-31</td>\n",
       "      <td>21:16</td>\n",
       "      <td>3</td>\n",
       "      <td>CHICAGO</td>\n",
       "      <td>IL</td>\n",
       "      <td>2.0</td>\n",
       "      <td>3</td>\n",
       "      <td>NaN</td>\n",
       "      <td>726</td>\n",
       "      <td>2</td>\n",
       "      <td>0</td>\n",
       "      <td>0</td>\n",
       "      <td>0</td>\n",
       "      <td>0</td>\n",
       "    </tr>\n",
       "    <tr>\n",
       "      <th>349194</th>\n",
       "      <td>2021-03-31</td>\n",
       "      <td>21:40</td>\n",
       "      <td>5</td>\n",
       "      <td>SAUKE VILLAGE</td>\n",
       "      <td>IL</td>\n",
       "      <td>2.0</td>\n",
       "      <td>3</td>\n",
       "      <td>2.0</td>\n",
       "      <td>231</td>\n",
       "      <td>2</td>\n",
       "      <td>0</td>\n",
       "      <td>0</td>\n",
       "      <td>0</td>\n",
       "      <td>0</td>\n",
       "    </tr>\n",
       "    <tr>\n",
       "      <th>349195</th>\n",
       "      <td>2021-03-31</td>\n",
       "      <td>21:04</td>\n",
       "      <td>6</td>\n",
       "      <td>CHICAGO</td>\n",
       "      <td>IL</td>\n",
       "      <td>2.0</td>\n",
       "      <td>3</td>\n",
       "      <td>6.0</td>\n",
       "      <td>1132</td>\n",
       "      <td>1</td>\n",
       "      <td>2</td>\n",
       "      <td>2</td>\n",
       "      <td>2</td>\n",
       "      <td>2</td>\n",
       "    </tr>\n",
       "    <tr>\n",
       "      <th>349196</th>\n",
       "      <td>2021-03-31</td>\n",
       "      <td>22:16</td>\n",
       "      <td>3</td>\n",
       "      <td>NORRIDGE</td>\n",
       "      <td>IL</td>\n",
       "      <td>1.0</td>\n",
       "      <td>3</td>\n",
       "      <td>NaN</td>\n",
       "      <td>1712</td>\n",
       "      <td>2</td>\n",
       "      <td>0</td>\n",
       "      <td>0</td>\n",
       "      <td>0</td>\n",
       "      <td>0</td>\n",
       "    </tr>\n",
       "    <tr>\n",
       "      <th>349197</th>\n",
       "      <td>2021-03-31</td>\n",
       "      <td>23:16</td>\n",
       "      <td>3</td>\n",
       "      <td>NAPERVILLE</td>\n",
       "      <td>IL</td>\n",
       "      <td>5.0</td>\n",
       "      <td>3</td>\n",
       "      <td>4.0</td>\n",
       "      <td>1934</td>\n",
       "      <td>2</td>\n",
       "      <td>0</td>\n",
       "      <td>0</td>\n",
       "      <td>0</td>\n",
       "      <td>0</td>\n",
       "    </tr>\n",
       "  </tbody>\n",
       "</table>\n",
       "</div>"
      ],
      "text/plain": [
       "         DATESTOP TIMESTOP  DURATION         CITY_I STATE  DRRACE  RESSTOP  \\\n",
       "349193 2021-03-31    21:16         3        CHICAGO    IL     2.0        3   \n",
       "349194 2021-03-31    21:40         5  SAUKE VILLAGE    IL     2.0        3   \n",
       "349195 2021-03-31    21:04         6        CHICAGO    IL     2.0        3   \n",
       "349196 2021-03-31    22:16         3       NORRIDGE    IL     1.0        3   \n",
       "349197 2021-03-31    23:16         3     NAPERVILLE    IL     5.0        3   \n",
       "\n",
       "        TYPEMOV  BEAT_I  VEHSRCHCOND  VEHCONTRA  VEHDRUGS  VEHWEAP  \\\n",
       "349193      NaN     726            2          0         0        0   \n",
       "349194      2.0     231            2          0         0        0   \n",
       "349195      6.0    1132            1          2         2        2   \n",
       "349196      NaN    1712            2          0         0        0   \n",
       "349197      4.0    1934            2          0         0        0   \n",
       "\n",
       "        VEHSTOLPROP  \n",
       "349193            0  \n",
       "349194            0  \n",
       "349195            2  \n",
       "349196            0  \n",
       "349197            0  "
      ]
     },
     "execution_count": 7,
     "metadata": {},
     "output_type": "execute_result"
    }
   ],
   "source": [
    "# Filter date\n",
    "stops_filtered = stops_sliced[stops_sliced['DATESTOP'] < '2021-04-01']\n",
    "stops_filtered.tail()"
   ]
  },
  {
   "cell_type": "markdown",
   "id": "a71ad2a7",
   "metadata": {},
   "source": [
    "As you can see above, we have filtered the dataframe and created a copy which only includes data before 1st April 2021. We now have just 3 months of data.\n",
    "\n",
    "Is there anything else that you notice from the datatypes that we printed above? If you see the column DRRACE, you can see that it has a float64 data type which is a numeric data type for floating numbers as the name suggests. However, we realize that Race should be a categorical value. Keeping it to float would be infered by some models as a continuous variable and therefore will be treated as such. We will convert DRRACE to categorical data type. We will do this in 2 ways. At first we'll convert it to simple integer. This is referred to as ordinal encoding where each value is mapped to a number. One key benefit of using this format is that it is an optimal way of storing values since mapped numbers will occupy less disk space. However, a caveat here is that some models will take them in an ordinal manner and consider the race mappings to be a numberical ranking. To avoid this, we would usually perform a one-hot encoding (to be discussed in chapter 5). For now, we'll just convert it to integers.\n",
    "\n",
    "Another way to map these values would be to convert to actual string defining the race. This is not the best approach to be taken as this might take a lot of disk space. However, we'll do this as a demonstration exercise to practice mapping if we need to in some other case."
   ]
  },
  {
   "cell_type": "code",
   "execution_count": 8,
   "id": "19fbdffa",
   "metadata": {},
   "outputs": [
    {
     "data": {
      "text/plain": [
       "<IntegerArray>\n",
       "[4, 2, 5, 3, 1, 6, <NA>]\n",
       "Length: 7, dtype: Int64"
      ]
     },
     "execution_count": 8,
     "metadata": {},
     "output_type": "execute_result"
    }
   ],
   "source": [
    "# Race to integers/categories\n",
    "stops_filtered['DRRACE'] = stops_filtered['DRRACE'].astype('Int64')\n",
    "stops_filtered['DRRACE'].unique()\n",
    "# Notice what the unique method does"
   ]
  },
  {
   "cell_type": "code",
   "execution_count": 9,
   "id": "b5d86fa1",
   "metadata": {},
   "outputs": [
    {
     "data": {
      "text/plain": [
       "array(['Hispanic or Latino', 'Black or African American', 'Asian',\n",
       "       'American Indian ot Alaska Native', 'White',\n",
       "       'Native Hawaiian or Other Pacific Islander', nan], dtype=object)"
      ]
     },
     "execution_count": 9,
     "metadata": {},
     "output_type": "execute_result"
    }
   ],
   "source": [
    "# Mapping race (to a temporary series)\n",
    "# Refer to the dictionary below to understand the mapping\n",
    "temp_race = stops_filtered['DRRACE'].map({\n",
    "    1: 'White',\n",
    "    2: 'Black or African American',\n",
    "    3: 'American Indian ot Alaska Native',\n",
    "    4: 'Hispanic or Latino',\n",
    "    5: 'Asian',\n",
    "    6: 'Native Hawaiian or Other Pacific Islander'\n",
    "})\n",
    "\n",
    "temp_race.unique()"
   ]
  },
  {
   "cell_type": "markdown",
   "id": "35d7e5a8",
   "metadata": {},
   "source": [
    "Another important component of the data cleaning process is dealing with missing values. We will check all the coluns to see the collective missing values they contain and think of ways to deal with such values. We can use pandas isna() function which returns True for every missing vaue in the dataframe. Following it with a sum() method enables us to get the count for each column as shown below."
   ]
  },
  {
   "cell_type": "code",
   "execution_count": 10,
   "id": "f8a7689c",
   "metadata": {},
   "outputs": [
    {
     "data": {
      "text/plain": [
       "DATESTOP           0\n",
       "TIMESTOP           0\n",
       "DURATION           0\n",
       "CITY_I             0\n",
       "STATE              0\n",
       "DRRACE             4\n",
       "RESSTOP            0\n",
       "TYPEMOV        80196\n",
       "BEAT_I             0\n",
       "VEHSRCHCOND        0\n",
       "VEHCONTRA          0\n",
       "VEHDRUGS           0\n",
       "VEHWEAP            0\n",
       "VEHSTOLPROP        0\n",
       "dtype: int64"
      ]
     },
     "execution_count": 10,
     "metadata": {},
     "output_type": "execute_result"
    }
   ],
   "source": [
    "stops_filtered.isna().sum()"
   ]
  },
  {
   "cell_type": "markdown",
   "id": "e3e7959f",
   "metadata": {},
   "source": [
    "The TYPEMOV column, which indicates the type of moving violation, has around 80K missing values, nearly 70% of the values are missing. We cannot remove all the 80K rows or impute them with an average. Another way could be to remove the entire column, however, knowing the type of moving violation is a key variable that we cannot miss from our data. The data Dictionary tells us that TYPEMOV would be un applicable for those who weren't involved in any moving violation. This is another insight that we can get from these missing values that only 30% people were involved in this specific violation. We can create a new indicator variable to mark this. We will perform this step ahead. \n",
    "\n",
    "\n",
    "But now, we'll move ahead and check for outliers in our data for continuous variables such as DURATION. The best way to check for outliers is to visualize. We will cover visualizations properly in the next chapter. However, for now, just see what results do the density and boxplots produce."
   ]
  },
  {
   "cell_type": "code",
   "execution_count": 11,
   "id": "fb833e54",
   "metadata": {},
   "outputs": [
    {
     "data": {
      "text/plain": [
       "<seaborn.axisgrid.FacetGrid at 0x7ff721e401c0>"
      ]
     },
     "execution_count": 11,
     "metadata": {},
     "output_type": "execute_result"
    },
    {
     "data": {
      "image/png": "[encoded data removed]",
      "text/plain": [
       "<Figure size 360x360 with 1 Axes>"
      ]
     },
     "metadata": {
      "needs_background": "light"
     },
     "output_type": "display_data"
    }
   ],
   "source": [
    "import seaborn as sns\n",
    "\n",
    "sns.displot(x = stops_filtered[\"DURATION\"], kind='kde')"
   ]
  },
  {
   "cell_type": "code",
   "execution_count": 12,
   "id": "07ee5939",
   "metadata": {},
   "outputs": [
    {
     "data": {
      "text/plain": [
       "count    116841.000000\n",
       "mean          7.791640\n",
       "std          25.903847\n",
       "min           0.000000\n",
       "25%           3.000000\n",
       "50%           4.000000\n",
       "75%           6.000000\n",
       "max         719.000000\n",
       "Name: DURATION, dtype: float64"
      ]
     },
     "execution_count": 12,
     "metadata": {},
     "output_type": "execute_result"
    }
   ],
   "source": [
    "stops_filtered[\"DURATION\"].describe()"
   ]
  },
  {
   "cell_type": "markdown",
   "id": "a015dac9",
   "metadata": {},
   "source": [
    "The plot above and the summary stats show us that most of the values are centered around 4 minutes with a few values going way beyond this number. The highest number we can see is around 12 hours! Depending on the situation these values might not be an error and could indicated something important about the stop made. However, while modeling, such a distribution could skew our results. You can notice the large difference between the mean and the median (50% quartile) which show the extent of the skewness. \n",
    "\n",
    "We will view this distribution again but this time we'll set the bounds to only 2 standard deviations beyond the median (don't worry if you don't know the term). In other words, we'll plot a graph without the extreme values."
   ]
  },
  {
   "cell_type": "code",
   "execution_count": 13,
   "id": "dc8a9277",
   "metadata": {},
   "outputs": [],
   "source": [
    "duration_sd = stops_filtered[\"DURATION\"].std()\n",
    "duration_median = stops_filtered[\"DURATION\"].median()"
   ]
  },
  {
   "cell_type": "code",
   "execution_count": 14,
   "id": "39e98534",
   "metadata": {},
   "outputs": [],
   "source": [
    "stops_duration_2SD = stops_filtered[\"DURATION\"][stops_filtered[\"DURATION\"] < (duration_median + 2*duration_sd)]"
   ]
  },
  {
   "cell_type": "code",
   "execution_count": 15,
   "id": "b3261643",
   "metadata": {},
   "outputs": [
    {
     "data": {
      "text/plain": [
       "<seaborn.axisgrid.FacetGrid at 0x7ff722446ee0>"
      ]
     },
     "execution_count": 15,
     "metadata": {},
     "output_type": "execute_result"
    },
    {
     "data": {
      "image/png": "[encoded data removed]",
      "text/plain": [
       "<Figure size 360x360 with 1 Axes>"
      ]
     },
     "metadata": {
      "needs_background": "light"
     },
     "output_type": "display_data"
    }
   ],
   "source": [
    "sns.displot(x = stops_duration_2SD, kind='kde')"
   ]
  },
  {
   "cell_type": "code",
   "execution_count": 22,
   "id": "7a5d3040",
   "metadata": {},
   "outputs": [],
   "source": [
    "stops_filtered.to_pickle('stops_filtered.pkl') "
   ]
  },
  {
   "cell_type": "markdown",
   "id": "2d158c05",
   "metadata": {},
   "source": [
    "### Exercise\n",
    "\n",
    "In this exercise you are required to complete the remaining steps of the data cleaning process by following the prompts provided below."
   ]
  },
  {
   "cell_type": "code",
   "execution_count": 17,
   "id": "2ae0f546",
   "metadata": {},
   "outputs": [],
   "source": [
    "# Convert to TIMESTOP to datetime stamp\n",
    "# Hint: have a look at pandas datetime dt.time "
   ]
  },
  {
   "cell_type": "code",
   "execution_count": 18,
   "id": "96e86dbd",
   "metadata": {},
   "outputs": [],
   "source": [
    "# Check all the unique cities in the datafram"
   ]
  },
  {
   "cell_type": "code",
   "execution_count": 19,
   "id": "02a26d1b",
   "metadata": {},
   "outputs": [],
   "source": [
    "# Filter out any other city apart from Chicago"
   ]
  },
  {
   "cell_type": "code",
   "execution_count": 20,
   "id": "4f74f7f3",
   "metadata": {},
   "outputs": [],
   "source": [
    "# Convert TYPEMOV to Category"
   ]
  },
  {
   "cell_type": "code",
   "execution_count": 21,
   "id": "017020ae",
   "metadata": {},
   "outputs": [],
   "source": [
    "# Remove rows with missing value in DRRACE"
   ]
  }
 ],
 "metadata": {
  "kernelspec": {
   "display_name": "Python 3 (ipykernel)",
   "language": "python",
   "name": "python3"
  },
  "language_info": {
   "codemirror_mode": {
    "name": "ipython",
    "version": 3
   },
   "file_extension": ".py",
   "mimetype": "text/x-python",
   "name": "python",
   "nbconvert_exporter": "python",
   "pygments_lexer": "ipython3",
   "version": "3.9.12"
  }
 },
 "nbformat": 4,
 "nbformat_minor": 5
}
