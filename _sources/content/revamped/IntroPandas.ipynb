{
 "cells": [
  {
   "cell_type": "markdown",
   "id": "f8fc6ce7",
   "metadata": {},
   "source": [
    "### Introduction to Pandas "
   ]
  },
  {
   "cell_type": "markdown",
   "id": "92491b20",
   "metadata": {},
   "source": [
    "For doing data analysis and manipulation in Python, Pandas is one of the most powerful, resourceful and easy to begin with package. It consists of data structures and functions and can assist you with doing a huge set of tasks for analytical work. In order to use these resources, Pandas needs to be loaded using the **import** command, as shown below, for it to be used in our script. We can also define an alias for Pandas (we used pd) as we are going to use Pandas' modules multiple times in our code.\n",
    "\n",
    "<img src=\"https://pandas.pydata.org/docs/_static/pandas.svg\" width=\"200\"/>\n",
    "\n",
    "A little note about Pandas is that it used object-oriented notations. No need to worry if you are not familiar with this concept. However, getting a high-level intuition about object-oriented programming (OOP) is going to be helpful in understanding how Pandas work. All data srtuctures that store our data in the program are a form of Pandas objects defined by a blueprint called Class. For example, a DataFrame (to be discussed below) is a data-structure to store data in a format similar to spreadsheet. We can create a DataFrame object to store a table of our dataset and this object will have multiple methods and function that operate on this object.\n",
    "\n",
    "Pandas comes usually installed with Jupyter enviornments like the one you are using here. If pandas is installed, you can check the current version of Pandas by using the ```pd.__version__``` command after the import command below:\n",
    "\n",
    "*Note: pd is an alias*"
   ]
  },
  {
   "cell_type": "code",
   "execution_count": 2,
   "id": "2dbb932b",
   "metadata": {},
   "outputs": [
    {
     "data": {
      "text/plain": [
       "'1.4.2'"
      ]
     },
     "execution_count": 2,
     "metadata": {},
     "output_type": "execute_result"
    }
   ],
   "source": [
    "import pandas as pd\n",
    "pd.__version__"
   ]
  },
  {
   "cell_type": "markdown",
   "id": "c36d8293",
   "metadata": {},
   "source": [
    "### Data Structures in Pandas"
   ]
  },
  {
   "cell_type": "markdown",
   "id": "37ae8ac6",
   "metadata": {},
   "source": [
    "We will learn the 2 fundamental data structures in Pandas: **Series** and **DataFrames**. Understanding the between Series and DataFrame difference can assist in knowing what methods work for a Series and what work for a DataFrame when refering to the documentation.\n",
    "\n",
    "<img src=\"series.png\" width=\"300\"/>"
   ]
  },
  {
   "cell_type": "markdown",
   "id": "202fe57f",
   "metadata": {},
   "source": [
    "**Series** is a one-dimensional array which can hold data of various types. Series are labelled where an index labels each element on the axis. Each index element has to be unique. Series can be created out from a list, a python dictionary or even a scalar value. A pandas Series has a single dtype.\n",
    "\n",
    "Below, we will go through 2 of the ways to create a Pandas Series."
   ]
  },
  {
   "cell_type": "code",
   "execution_count": 3,
   "id": "47c7e909",
   "metadata": {},
   "outputs": [
    {
     "data": {
      "text/plain": [
       "Mercury    35\n",
       "Venus      67\n",
       "Earth      93\n",
       "dtype: int64"
      ]
     },
     "execution_count": 3,
     "metadata": {},
     "output_type": "execute_result"
    }
   ],
   "source": [
    "# Series out of a dictionary\n",
    "\n",
    "sample_dictionary = {'Mercury': 35, 'Venus': 67, 'Earth': 93}\n",
    "\n",
    "sample_series = pd.Series(sample_dictionary)\n",
    "\n",
    "# Print the series\n",
    "sample_series"
   ]
  },
  {
   "cell_type": "markdown",
   "id": "ab0e523d",
   "metadata": {},
   "source": [
    "Note: if we do not specify the index, the default numeric range will be given."
   ]
  },
  {
   "cell_type": "code",
   "execution_count": 4,
   "id": "511030ef",
   "metadata": {},
   "outputs": [
    {
     "data": {
      "text/plain": [
       "0    35\n",
       "1    67\n",
       "2    93\n",
       "dtype: int64"
      ]
     },
     "execution_count": 4,
     "metadata": {},
     "output_type": "execute_result"
    }
   ],
   "source": [
    "# Series from a list without index given\n",
    "\n",
    "sample_list = [35, 67, 93]\n",
    "\n",
    "sample_series = pd.Series(sample_list)\n",
    "\n",
    "sample_series"
   ]
  },
  {
   "cell_type": "code",
   "execution_count": 5,
   "id": "621ba53e",
   "metadata": {},
   "outputs": [
    {
     "data": {
      "text/plain": [
       "Mercury    35\n",
       "Venus      67\n",
       "Earth      93\n",
       "dtype: int64"
      ]
     },
     "execution_count": 5,
     "metadata": {},
     "output_type": "execute_result"
    }
   ],
   "source": [
    "# Series from a list with index specified\n",
    "\n",
    "sample_series = pd.Series(sample_list, index = ['Mercury', 'Venus', 'Earth'])\n",
    "\n",
    "sample_series"
   ]
  },
  {
   "cell_type": "markdown",
   "id": "79d730ac",
   "metadata": {},
   "source": [
    "You can retrieve a value from a Series by specifying the index in square brackets as you would do for a Python dictionary. You can also use the Series.get() method and specify the index and default value if the index is not in the Series. "
   ]
  },
  {
   "cell_type": "code",
   "execution_count": 6,
   "id": "7f024634",
   "metadata": {},
   "outputs": [
    {
     "data": {
      "text/plain": [
       "35"
      ]
     },
     "execution_count": 6,
     "metadata": {},
     "output_type": "execute_result"
    }
   ],
   "source": [
    "sample_series['Mercury']"
   ]
  },
  {
   "cell_type": "code",
   "execution_count": 7,
   "id": "83228f5f",
   "metadata": {},
   "outputs": [
    {
     "data": {
      "text/plain": [
       "67"
      ]
     },
     "execution_count": 7,
     "metadata": {},
     "output_type": "execute_result"
    }
   ],
   "source": [
    "sample_series.get('Venus')"
   ]
  },
  {
   "cell_type": "code",
   "execution_count": 8,
   "id": "a26625ec",
   "metadata": {},
   "outputs": [
    {
     "data": {
      "text/plain": [
       "'Value not found!'"
      ]
     },
     "execution_count": 8,
     "metadata": {},
     "output_type": "execute_result"
    }
   ],
   "source": [
    "sample_series.get('Mars', 'Value not found!')"
   ]
  },
  {
   "cell_type": "markdown",
   "id": "6dbc529e",
   "metadata": {},
   "source": [
    "<hr style=\"border:2px solid gray\">\n",
    "\n",
    "Unlike Series, **DataFrames** are a 2 dimensional, consisting of both row and columns. They are similar to a spreadsheet or a SQL table. Pandas provides all the functionality and methods to deal with data in the DataFrame. Each row in a DataFrame is labeled with an index, as in Series. Whereas, there are also labels for each column.\n",
    "\n",
    "<img src=\"dataframe.png\" width=\"500\"/>\n",
    "\n",
    "There are several ways to create or form a DataFrame. A DataFrame can be made of one or multiple series combined. It can also be formed out of lists and dictionaries."
   ]
  },
  {
   "cell_type": "code",
   "execution_count": 9,
   "id": "e8d57dbe",
   "metadata": {},
   "outputs": [
    {
     "data": {
      "text/html": [
       "<div>\n",
       "<style scoped>\n",
       "    .dataframe tbody tr th:only-of-type {\n",
       "        vertical-align: middle;\n",
       "    }\n",
       "\n",
       "    .dataframe tbody tr th {\n",
       "        vertical-align: top;\n",
       "    }\n",
       "\n",
       "    .dataframe thead th {\n",
       "        text-align: right;\n",
       "    }\n",
       "</style>\n",
       "<table border=\"1\" class=\"dataframe\">\n",
       "  <thead>\n",
       "    <tr style=\"text-align: right;\">\n",
       "      <th></th>\n",
       "      <th>Chrome</th>\n",
       "      <th>Safari</th>\n",
       "      <th>Firefox</th>\n",
       "    </tr>\n",
       "  </thead>\n",
       "  <tbody>\n",
       "    <tr>\n",
       "      <th>2018</th>\n",
       "      <td>67</td>\n",
       "      <td>44</td>\n",
       "      <td>8</td>\n",
       "    </tr>\n",
       "    <tr>\n",
       "      <th>2019</th>\n",
       "      <td>74</td>\n",
       "      <td>58</td>\n",
       "      <td>14</td>\n",
       "    </tr>\n",
       "    <tr>\n",
       "      <th>2020</th>\n",
       "      <td>89</td>\n",
       "      <td>70</td>\n",
       "      <td>16</td>\n",
       "    </tr>\n",
       "  </tbody>\n",
       "</table>\n",
       "</div>"
      ],
      "text/plain": [
       "      Chrome  Safari  Firefox\n",
       "2018      67      44        8\n",
       "2019      74      58       14\n",
       "2020      89      70       16"
      ]
     },
     "execution_count": 9,
     "metadata": {},
     "output_type": "execute_result"
    }
   ],
   "source": [
    "# DataFrame from dictionary of lists\n",
    "# Creating Data for site views (in thousands) on a website per browser every year\n",
    "\n",
    "df = pd.DataFrame({\n",
    "    'Chrome': [67, 74, 89],\n",
    "    'Safari': [44, 58, 70],\n",
    "    'Firefox': [8, 14, 16]\n",
    "}, index = [2018, 2019, 2020])\n",
    "\n",
    "df"
   ]
  },
  {
   "cell_type": "code",
   "execution_count": 11,
   "id": "a9720520",
   "metadata": {},
   "outputs": [
    {
     "data": {
      "text/html": [
       "<div>\n",
       "<style scoped>\n",
       "    .dataframe tbody tr th:only-of-type {\n",
       "        vertical-align: middle;\n",
       "    }\n",
       "\n",
       "    .dataframe tbody tr th {\n",
       "        vertical-align: top;\n",
       "    }\n",
       "\n",
       "    .dataframe thead th {\n",
       "        text-align: right;\n",
       "    }\n",
       "</style>\n",
       "<table border=\"1\" class=\"dataframe\">\n",
       "  <thead>\n",
       "    <tr style=\"text-align: right;\">\n",
       "      <th></th>\n",
       "      <th>Chrome</th>\n",
       "      <th>Safari</th>\n",
       "      <th>Firefox</th>\n",
       "    </tr>\n",
       "  </thead>\n",
       "  <tbody>\n",
       "    <tr>\n",
       "      <th>0</th>\n",
       "      <td>67</td>\n",
       "      <td>44</td>\n",
       "      <td>8</td>\n",
       "    </tr>\n",
       "    <tr>\n",
       "      <th>1</th>\n",
       "      <td>74</td>\n",
       "      <td>58</td>\n",
       "      <td>14</td>\n",
       "    </tr>\n",
       "    <tr>\n",
       "      <th>2</th>\n",
       "      <td>89</td>\n",
       "      <td>70</td>\n",
       "      <td>16</td>\n",
       "    </tr>\n",
       "  </tbody>\n",
       "</table>\n",
       "</div>"
      ],
      "text/plain": [
       "   Chrome  Safari  Firefox\n",
       "0      67      44        8\n",
       "1      74      58       14\n",
       "2      89      70       16"
      ]
     },
     "execution_count": 11,
     "metadata": {},
     "output_type": "execute_result"
    }
   ],
   "source": [
    "# DataFrame from list of dictionaries\n",
    "df = pd.DataFrame(\n",
    "    [{\"Chrome\": 67, \"Safari\": 44, \"Firefox\":8 }, \n",
    "     {\"Chrome\": 74, \"Safari\": 58, \"Firefox\": 14},\n",
    "    {\"Chrome\": 89, \"Safari\": 70, \"Firefox\": 16}]\n",
    ")\n",
    "\n",
    "df"
   ]
  },
  {
   "cell_type": "markdown",
   "id": "70f7e74f",
   "metadata": {},
   "source": [
    "Note: If we do not provide the index, pandas defaults the index list to a range of integers beginning from 0."
   ]
  },
  {
   "cell_type": "code",
   "execution_count": 12,
   "id": "04836d98",
   "metadata": {},
   "outputs": [
    {
     "data": {
      "text/html": [
       "<div>\n",
       "<style scoped>\n",
       "    .dataframe tbody tr th:only-of-type {\n",
       "        vertical-align: middle;\n",
       "    }\n",
       "\n",
       "    .dataframe tbody tr th {\n",
       "        vertical-align: top;\n",
       "    }\n",
       "\n",
       "    .dataframe thead th {\n",
       "        text-align: right;\n",
       "    }\n",
       "</style>\n",
       "<table border=\"1\" class=\"dataframe\">\n",
       "  <thead>\n",
       "    <tr style=\"text-align: right;\">\n",
       "      <th></th>\n",
       "      <th>Chrome</th>\n",
       "      <th>Safari</th>\n",
       "      <th>Firefox</th>\n",
       "    </tr>\n",
       "  </thead>\n",
       "  <tbody>\n",
       "    <tr>\n",
       "      <th>2018</th>\n",
       "      <td>67</td>\n",
       "      <td>74</td>\n",
       "      <td>89</td>\n",
       "    </tr>\n",
       "    <tr>\n",
       "      <th>2019</th>\n",
       "      <td>44</td>\n",
       "      <td>58</td>\n",
       "      <td>70</td>\n",
       "    </tr>\n",
       "    <tr>\n",
       "      <th>2020</th>\n",
       "      <td>8</td>\n",
       "      <td>14</td>\n",
       "      <td>16</td>\n",
       "    </tr>\n",
       "  </tbody>\n",
       "</table>\n",
       "</div>"
      ],
      "text/plain": [
       "      Chrome  Safari  Firefox\n",
       "2018      67      74       89\n",
       "2019      44      58       70\n",
       "2020       8      14       16"
      ]
     },
     "execution_count": 12,
     "metadata": {},
     "output_type": "execute_result"
    }
   ],
   "source": [
    "# DataFrame from 2D lists\n",
    "\n",
    "df = pd.DataFrame(\n",
    "    [[67, 74, 89],\n",
    "     [44, 58, 70],\n",
    "     [8, 14, 16]],\n",
    "    index = [2018, 2019, 2020], columns = [\"Chrome\", \"Safari\", \"Firefox\"]\n",
    ")\n",
    "\n",
    "df"
   ]
  },
  {
   "cell_type": "markdown",
   "id": "42fd5b03",
   "metadata": {},
   "source": [
    "Similar to series, we can use dictionary-like indexing to select columns from a DataFrame."
   ]
  },
  {
   "cell_type": "code",
   "execution_count": 13,
   "id": "bc0761b3",
   "metadata": {},
   "outputs": [
    {
     "data": {
      "text/plain": [
       "2018    67\n",
       "2019    44\n",
       "2020     8\n",
       "Name: Chrome, dtype: int64"
      ]
     },
     "execution_count": 13,
     "metadata": {},
     "output_type": "execute_result"
    }
   ],
   "source": [
    "df['Chrome']"
   ]
  },
  {
   "cell_type": "markdown",
   "id": "b25fc4d1",
   "metadata": {},
   "source": [
    "### Files in Pandas"
   ]
  },
  {
   "cell_type": "markdown",
   "id": "0bf78822",
   "metadata": {},
   "source": [
    "The pandas I/O API is a set of top level reader functions accessed like pandas.read_csv() that generally return a pandas object. \n",
    "\n",
    "Pandas offeres reader functions which can read in a data file and return it as a pandas object. The most useful one `read.csv()` will read a text file and convert it to a DataFrame with default arguments. Pandas also offers `read_json()` and `read_excel` to read json and excel files, respectively, 2 of the most common file types for data.\n",
    "\n",
    "We will use the `read.csv` function to read the Chicago Police Traffic Stops data."
   ]
  },
  {
   "cell_type": "code",
   "execution_count": 14,
   "id": "839017a3",
   "metadata": {},
   "outputs": [],
   "source": [
    "stops_df = pd.read_csv('idot/IDOT_2021.csv')"
   ]
  },
  {
   "cell_type": "markdown",
   "id": "ece70417",
   "metadata": {},
   "source": [
    "The [documentation](https://pandas.pydata.org/docs/reference/api/pandas.read_csv.html) provides great detail of the arguments that `read_csv()` function accepts. Some of the common ones that you must know are:\n",
    "\n",
    "**filepath_or_buffer**: Either a path to a file or URL.\n",
    "<br>**sep**: Delimiter to use. Default delimiter is `','` (for comma-separated files. Use `'\\t'` for tab-separated files, tsv)\n",
    "\n",
    "Typing and running the DataFrame name on a Jupyter cell displays the dataset with rows and columns truncated."
   ]
  },
  {
   "cell_type": "code",
   "execution_count": 15,
   "id": "dbf9cd7e",
   "metadata": {},
   "outputs": [
    {
     "data": {
      "text/html": [
       "<div>\n",
       "<style scoped>\n",
       "    .dataframe tbody tr th:only-of-type {\n",
       "        vertical-align: middle;\n",
       "    }\n",
       "\n",
       "    .dataframe tbody tr th {\n",
       "        vertical-align: top;\n",
       "    }\n",
       "\n",
       "    .dataframe thead th {\n",
       "        text-align: right;\n",
       "    }\n",
       "</style>\n",
       "<table border=\"1\" class=\"dataframe\">\n",
       "  <thead>\n",
       "    <tr style=\"text-align: right;\">\n",
       "      <th></th>\n",
       "      <th>DATESTOP</th>\n",
       "      <th>TIMESTOP</th>\n",
       "      <th>DURATION</th>\n",
       "      <th>OFFNAME</th>\n",
       "      <th>OFFBDGE</th>\n",
       "      <th>CITY_I</th>\n",
       "      <th>STATE</th>\n",
       "      <th>VEHMAKE</th>\n",
       "      <th>VEHYEAR</th>\n",
       "      <th>YRBIRTH</th>\n",
       "      <th>...</th>\n",
       "      <th>DOGALERT</th>\n",
       "      <th>DOGALERTSRCH</th>\n",
       "      <th>DOGALERTSRCHCONTRA</th>\n",
       "      <th>DOGDRUG</th>\n",
       "      <th>DOGPARA</th>\n",
       "      <th>DOGALC</th>\n",
       "      <th>DOGWEAP</th>\n",
       "      <th>DOGSTOLPROP</th>\n",
       "      <th>DOGOTHER</th>\n",
       "      <th>DOGDRAMT</th>\n",
       "    </tr>\n",
       "  </thead>\n",
       "  <tbody>\n",
       "    <tr>\n",
       "      <th>0</th>\n",
       "      <td>1/1/21</td>\n",
       "      <td>0:33</td>\n",
       "      <td>5</td>\n",
       "      <td>FIDEL LEGORRETA</td>\n",
       "      <td>5902.0</td>\n",
       "      <td>CHICAGO</td>\n",
       "      <td>IL</td>\n",
       "      <td>CHEVROLET</td>\n",
       "      <td>2017.0</td>\n",
       "      <td>1993</td>\n",
       "      <td>...</td>\n",
       "      <td>0</td>\n",
       "      <td>0</td>\n",
       "      <td>0</td>\n",
       "      <td>0</td>\n",
       "      <td>0</td>\n",
       "      <td>0</td>\n",
       "      <td>0</td>\n",
       "      <td>0</td>\n",
       "      <td>0</td>\n",
       "      <td>0</td>\n",
       "    </tr>\n",
       "    <tr>\n",
       "      <th>1</th>\n",
       "      <td>1/1/21</td>\n",
       "      <td>1:50</td>\n",
       "      <td>4</td>\n",
       "      <td>VICTOR PEREZ</td>\n",
       "      <td>7383.0</td>\n",
       "      <td>CHICAGO</td>\n",
       "      <td>IL</td>\n",
       "      <td>FORD</td>\n",
       "      <td>2012.0</td>\n",
       "      <td>1957</td>\n",
       "      <td>...</td>\n",
       "      <td>0</td>\n",
       "      <td>0</td>\n",
       "      <td>0</td>\n",
       "      <td>0</td>\n",
       "      <td>0</td>\n",
       "      <td>0</td>\n",
       "      <td>0</td>\n",
       "      <td>0</td>\n",
       "      <td>0</td>\n",
       "      <td>0</td>\n",
       "    </tr>\n",
       "    <tr>\n",
       "      <th>2</th>\n",
       "      <td>1/1/21</td>\n",
       "      <td>8:50</td>\n",
       "      <td>4</td>\n",
       "      <td>STEPHANIE ORTIGARA</td>\n",
       "      <td>18302.0</td>\n",
       "      <td>CHICAGO</td>\n",
       "      <td>IL</td>\n",
       "      <td>FORD</td>\n",
       "      <td>2007.0</td>\n",
       "      <td>1967</td>\n",
       "      <td>...</td>\n",
       "      <td>0</td>\n",
       "      <td>0</td>\n",
       "      <td>0</td>\n",
       "      <td>0</td>\n",
       "      <td>0</td>\n",
       "      <td>0</td>\n",
       "      <td>0</td>\n",
       "      <td>0</td>\n",
       "      <td>0</td>\n",
       "      <td>0</td>\n",
       "    </tr>\n",
       "    <tr>\n",
       "      <th>3</th>\n",
       "      <td>1/1/21</td>\n",
       "      <td>12:41</td>\n",
       "      <td>6</td>\n",
       "      <td>JASON ARROYO</td>\n",
       "      <td>14502.0</td>\n",
       "      <td>CHICAGO</td>\n",
       "      <td>IL</td>\n",
       "      <td>BMW</td>\n",
       "      <td>1998.0</td>\n",
       "      <td>1990</td>\n",
       "      <td>...</td>\n",
       "      <td>0</td>\n",
       "      <td>0</td>\n",
       "      <td>0</td>\n",
       "      <td>0</td>\n",
       "      <td>0</td>\n",
       "      <td>0</td>\n",
       "      <td>0</td>\n",
       "      <td>0</td>\n",
       "      <td>0</td>\n",
       "      <td>0</td>\n",
       "    </tr>\n",
       "    <tr>\n",
       "      <th>4</th>\n",
       "      <td>1/1/21</td>\n",
       "      <td>13:51</td>\n",
       "      <td>5</td>\n",
       "      <td>MONTY OWENS</td>\n",
       "      <td>11975.0</td>\n",
       "      <td>CHICAGO</td>\n",
       "      <td>IL</td>\n",
       "      <td>TOYOTA</td>\n",
       "      <td>2002.0</td>\n",
       "      <td>1945</td>\n",
       "      <td>...</td>\n",
       "      <td>0</td>\n",
       "      <td>0</td>\n",
       "      <td>0</td>\n",
       "      <td>0</td>\n",
       "      <td>0</td>\n",
       "      <td>0</td>\n",
       "      <td>0</td>\n",
       "      <td>0</td>\n",
       "      <td>0</td>\n",
       "      <td>0</td>\n",
       "    </tr>\n",
       "    <tr>\n",
       "      <th>...</th>\n",
       "      <td>...</td>\n",
       "      <td>...</td>\n",
       "      <td>...</td>\n",
       "      <td>...</td>\n",
       "      <td>...</td>\n",
       "      <td>...</td>\n",
       "      <td>...</td>\n",
       "      <td>...</td>\n",
       "      <td>...</td>\n",
       "      <td>...</td>\n",
       "      <td>...</td>\n",
       "      <td>...</td>\n",
       "      <td>...</td>\n",
       "      <td>...</td>\n",
       "      <td>...</td>\n",
       "      <td>...</td>\n",
       "      <td>...</td>\n",
       "      <td>...</td>\n",
       "      <td>...</td>\n",
       "      <td>...</td>\n",
       "      <td>...</td>\n",
       "    </tr>\n",
       "    <tr>\n",
       "      <th>377894</th>\n",
       "      <td>12/30/21</td>\n",
       "      <td>23:40</td>\n",
       "      <td>2</td>\n",
       "      <td>MATTHEW DRINNAN</td>\n",
       "      <td>13585.0</td>\n",
       "      <td>CHICAGO</td>\n",
       "      <td>IL</td>\n",
       "      <td>HYUNDAI</td>\n",
       "      <td>2020.0</td>\n",
       "      <td>1964</td>\n",
       "      <td>...</td>\n",
       "      <td>0</td>\n",
       "      <td>0</td>\n",
       "      <td>0</td>\n",
       "      <td>0</td>\n",
       "      <td>0</td>\n",
       "      <td>0</td>\n",
       "      <td>0</td>\n",
       "      <td>0</td>\n",
       "      <td>0</td>\n",
       "      <td>0</td>\n",
       "    </tr>\n",
       "    <tr>\n",
       "      <th>377895</th>\n",
       "      <td>12/31/21</td>\n",
       "      <td>20:35</td>\n",
       "      <td>5</td>\n",
       "      <td>EMMANUEL GARCIA</td>\n",
       "      <td>19038.0</td>\n",
       "      <td>CHICAGO</td>\n",
       "      <td>IL</td>\n",
       "      <td>NISSAN</td>\n",
       "      <td>2007.0</td>\n",
       "      <td>1973</td>\n",
       "      <td>...</td>\n",
       "      <td>0</td>\n",
       "      <td>0</td>\n",
       "      <td>0</td>\n",
       "      <td>0</td>\n",
       "      <td>0</td>\n",
       "      <td>0</td>\n",
       "      <td>0</td>\n",
       "      <td>0</td>\n",
       "      <td>0</td>\n",
       "      <td>0</td>\n",
       "    </tr>\n",
       "    <tr>\n",
       "      <th>377896</th>\n",
       "      <td>12/31/21</td>\n",
       "      <td>20:31</td>\n",
       "      <td>21</td>\n",
       "      <td>LUIS NUNEZ</td>\n",
       "      <td>18229.0</td>\n",
       "      <td>CHICAGO HEIGHTS</td>\n",
       "      <td>IL</td>\n",
       "      <td>HONDA</td>\n",
       "      <td>2007.0</td>\n",
       "      <td>1980</td>\n",
       "      <td>...</td>\n",
       "      <td>0</td>\n",
       "      <td>0</td>\n",
       "      <td>0</td>\n",
       "      <td>0</td>\n",
       "      <td>0</td>\n",
       "      <td>0</td>\n",
       "      <td>0</td>\n",
       "      <td>0</td>\n",
       "      <td>0</td>\n",
       "      <td>0</td>\n",
       "    </tr>\n",
       "    <tr>\n",
       "      <th>377897</th>\n",
       "      <td>12/31/21</td>\n",
       "      <td>21:33</td>\n",
       "      <td>2</td>\n",
       "      <td>GUSTAVO DOMINGUEZ</td>\n",
       "      <td>15235.0</td>\n",
       "      <td>CHICAGO</td>\n",
       "      <td>IL</td>\n",
       "      <td>KIA</td>\n",
       "      <td>2014.0</td>\n",
       "      <td>1982</td>\n",
       "      <td>...</td>\n",
       "      <td>0</td>\n",
       "      <td>0</td>\n",
       "      <td>0</td>\n",
       "      <td>0</td>\n",
       "      <td>0</td>\n",
       "      <td>0</td>\n",
       "      <td>0</td>\n",
       "      <td>0</td>\n",
       "      <td>0</td>\n",
       "      <td>0</td>\n",
       "    </tr>\n",
       "    <tr>\n",
       "      <th>377898</th>\n",
       "      <td>12/31/21</td>\n",
       "      <td>21:20</td>\n",
       "      <td>4</td>\n",
       "      <td>FRANK GIANAKAKIS</td>\n",
       "      <td>6934.0</td>\n",
       "      <td>CHICAGO</td>\n",
       "      <td>IL</td>\n",
       "      <td>TOYOTA</td>\n",
       "      <td>2015.0</td>\n",
       "      <td>1987</td>\n",
       "      <td>...</td>\n",
       "      <td>0</td>\n",
       "      <td>0</td>\n",
       "      <td>0</td>\n",
       "      <td>0</td>\n",
       "      <td>0</td>\n",
       "      <td>0</td>\n",
       "      <td>0</td>\n",
       "      <td>0</td>\n",
       "      <td>0</td>\n",
       "      <td>0</td>\n",
       "    </tr>\n",
       "  </tbody>\n",
       "</table>\n",
       "<p>377899 rows × 55 columns</p>\n",
       "</div>"
      ],
      "text/plain": [
       "        DATESTOP TIMESTOP  DURATION             OFFNAME  OFFBDGE  \\\n",
       "0         1/1/21     0:33         5     FIDEL LEGORRETA   5902.0   \n",
       "1         1/1/21     1:50         4        VICTOR PEREZ   7383.0   \n",
       "2         1/1/21     8:50         4  STEPHANIE ORTIGARA  18302.0   \n",
       "3         1/1/21    12:41         6        JASON ARROYO  14502.0   \n",
       "4         1/1/21    13:51         5         MONTY OWENS  11975.0   \n",
       "...          ...      ...       ...                 ...      ...   \n",
       "377894  12/30/21    23:40         2     MATTHEW DRINNAN  13585.0   \n",
       "377895  12/31/21    20:35         5     EMMANUEL GARCIA  19038.0   \n",
       "377896  12/31/21    20:31        21          LUIS NUNEZ  18229.0   \n",
       "377897  12/31/21    21:33         2   GUSTAVO DOMINGUEZ  15235.0   \n",
       "377898  12/31/21    21:20         4    FRANK GIANAKAKIS   6934.0   \n",
       "\n",
       "                 CITY_I STATE    VEHMAKE  VEHYEAR  YRBIRTH  ...  DOGALERT  \\\n",
       "0               CHICAGO    IL  CHEVROLET   2017.0     1993  ...         0   \n",
       "1               CHICAGO    IL       FORD   2012.0     1957  ...         0   \n",
       "2               CHICAGO    IL       FORD   2007.0     1967  ...         0   \n",
       "3               CHICAGO    IL        BMW   1998.0     1990  ...         0   \n",
       "4               CHICAGO    IL     TOYOTA   2002.0     1945  ...         0   \n",
       "...                 ...   ...        ...      ...      ...  ...       ...   \n",
       "377894          CHICAGO    IL    HYUNDAI   2020.0     1964  ...         0   \n",
       "377895          CHICAGO    IL     NISSAN   2007.0     1973  ...         0   \n",
       "377896  CHICAGO HEIGHTS    IL      HONDA   2007.0     1980  ...         0   \n",
       "377897          CHICAGO    IL        KIA   2014.0     1982  ...         0   \n",
       "377898          CHICAGO    IL     TOYOTA   2015.0     1987  ...         0   \n",
       "\n",
       "        DOGALERTSRCH  DOGALERTSRCHCONTRA  DOGDRUG  DOGPARA  DOGALC  DOGWEAP  \\\n",
       "0                  0                   0        0        0       0        0   \n",
       "1                  0                   0        0        0       0        0   \n",
       "2                  0                   0        0        0       0        0   \n",
       "3                  0                   0        0        0       0        0   \n",
       "4                  0                   0        0        0       0        0   \n",
       "...              ...                 ...      ...      ...     ...      ...   \n",
       "377894             0                   0        0        0       0        0   \n",
       "377895             0                   0        0        0       0        0   \n",
       "377896             0                   0        0        0       0        0   \n",
       "377897             0                   0        0        0       0        0   \n",
       "377898             0                   0        0        0       0        0   \n",
       "\n",
       "        DOGSTOLPROP  DOGOTHER  DOGDRAMT  \n",
       "0                 0         0         0  \n",
       "1                 0         0         0  \n",
       "2                 0         0         0  \n",
       "3                 0         0         0  \n",
       "4                 0         0         0  \n",
       "...             ...       ...       ...  \n",
       "377894            0         0         0  \n",
       "377895            0         0         0  \n",
       "377896            0         0         0  \n",
       "377897            0         0         0  \n",
       "377898            0         0         0  \n",
       "\n",
       "[377899 rows x 55 columns]"
      ]
     },
     "execution_count": 15,
     "metadata": {},
     "output_type": "execute_result"
    }
   ],
   "source": [
    "stops_df"
   ]
  },
  {
   "cell_type": "markdown",
   "id": "8be71667",
   "metadata": {},
   "source": [
    "This dataset is huge! Pandas also offers methods to view a small sample of a Series or DataFrame object. The `head()` and `tail()` methods enable you to do so showing you the first set of rows and last set of rows, respectively. By default, they display 5 rows. The argument to these methods can be changed to the number of rows needed to be displayed."
   ]
  },
  {
   "cell_type": "code",
   "execution_count": 16,
   "id": "694b3a43",
   "metadata": {},
   "outputs": [
    {
     "data": {
      "text/html": [
       "<div>\n",
       "<style scoped>\n",
       "    .dataframe tbody tr th:only-of-type {\n",
       "        vertical-align: middle;\n",
       "    }\n",
       "\n",
       "    .dataframe tbody tr th {\n",
       "        vertical-align: top;\n",
       "    }\n",
       "\n",
       "    .dataframe thead th {\n",
       "        text-align: right;\n",
       "    }\n",
       "</style>\n",
       "<table border=\"1\" class=\"dataframe\">\n",
       "  <thead>\n",
       "    <tr style=\"text-align: right;\">\n",
       "      <th></th>\n",
       "      <th>DATESTOP</th>\n",
       "      <th>TIMESTOP</th>\n",
       "      <th>DURATION</th>\n",
       "      <th>OFFNAME</th>\n",
       "      <th>OFFBDGE</th>\n",
       "      <th>CITY_I</th>\n",
       "      <th>STATE</th>\n",
       "      <th>VEHMAKE</th>\n",
       "      <th>VEHYEAR</th>\n",
       "      <th>YRBIRTH</th>\n",
       "      <th>...</th>\n",
       "      <th>DOGALERT</th>\n",
       "      <th>DOGALERTSRCH</th>\n",
       "      <th>DOGALERTSRCHCONTRA</th>\n",
       "      <th>DOGDRUG</th>\n",
       "      <th>DOGPARA</th>\n",
       "      <th>DOGALC</th>\n",
       "      <th>DOGWEAP</th>\n",
       "      <th>DOGSTOLPROP</th>\n",
       "      <th>DOGOTHER</th>\n",
       "      <th>DOGDRAMT</th>\n",
       "    </tr>\n",
       "  </thead>\n",
       "  <tbody>\n",
       "    <tr>\n",
       "      <th>0</th>\n",
       "      <td>1/1/21</td>\n",
       "      <td>0:33</td>\n",
       "      <td>5</td>\n",
       "      <td>FIDEL LEGORRETA</td>\n",
       "      <td>5902.0</td>\n",
       "      <td>CHICAGO</td>\n",
       "      <td>IL</td>\n",
       "      <td>CHEVROLET</td>\n",
       "      <td>2017.0</td>\n",
       "      <td>1993</td>\n",
       "      <td>...</td>\n",
       "      <td>0</td>\n",
       "      <td>0</td>\n",
       "      <td>0</td>\n",
       "      <td>0</td>\n",
       "      <td>0</td>\n",
       "      <td>0</td>\n",
       "      <td>0</td>\n",
       "      <td>0</td>\n",
       "      <td>0</td>\n",
       "      <td>0</td>\n",
       "    </tr>\n",
       "    <tr>\n",
       "      <th>1</th>\n",
       "      <td>1/1/21</td>\n",
       "      <td>1:50</td>\n",
       "      <td>4</td>\n",
       "      <td>VICTOR PEREZ</td>\n",
       "      <td>7383.0</td>\n",
       "      <td>CHICAGO</td>\n",
       "      <td>IL</td>\n",
       "      <td>FORD</td>\n",
       "      <td>2012.0</td>\n",
       "      <td>1957</td>\n",
       "      <td>...</td>\n",
       "      <td>0</td>\n",
       "      <td>0</td>\n",
       "      <td>0</td>\n",
       "      <td>0</td>\n",
       "      <td>0</td>\n",
       "      <td>0</td>\n",
       "      <td>0</td>\n",
       "      <td>0</td>\n",
       "      <td>0</td>\n",
       "      <td>0</td>\n",
       "    </tr>\n",
       "    <tr>\n",
       "      <th>2</th>\n",
       "      <td>1/1/21</td>\n",
       "      <td>8:50</td>\n",
       "      <td>4</td>\n",
       "      <td>STEPHANIE ORTIGARA</td>\n",
       "      <td>18302.0</td>\n",
       "      <td>CHICAGO</td>\n",
       "      <td>IL</td>\n",
       "      <td>FORD</td>\n",
       "      <td>2007.0</td>\n",
       "      <td>1967</td>\n",
       "      <td>...</td>\n",
       "      <td>0</td>\n",
       "      <td>0</td>\n",
       "      <td>0</td>\n",
       "      <td>0</td>\n",
       "      <td>0</td>\n",
       "      <td>0</td>\n",
       "      <td>0</td>\n",
       "      <td>0</td>\n",
       "      <td>0</td>\n",
       "      <td>0</td>\n",
       "    </tr>\n",
       "    <tr>\n",
       "      <th>3</th>\n",
       "      <td>1/1/21</td>\n",
       "      <td>12:41</td>\n",
       "      <td>6</td>\n",
       "      <td>JASON ARROYO</td>\n",
       "      <td>14502.0</td>\n",
       "      <td>CHICAGO</td>\n",
       "      <td>IL</td>\n",
       "      <td>BMW</td>\n",
       "      <td>1998.0</td>\n",
       "      <td>1990</td>\n",
       "      <td>...</td>\n",
       "      <td>0</td>\n",
       "      <td>0</td>\n",
       "      <td>0</td>\n",
       "      <td>0</td>\n",
       "      <td>0</td>\n",
       "      <td>0</td>\n",
       "      <td>0</td>\n",
       "      <td>0</td>\n",
       "      <td>0</td>\n",
       "      <td>0</td>\n",
       "    </tr>\n",
       "    <tr>\n",
       "      <th>4</th>\n",
       "      <td>1/1/21</td>\n",
       "      <td>13:51</td>\n",
       "      <td>5</td>\n",
       "      <td>MONTY OWENS</td>\n",
       "      <td>11975.0</td>\n",
       "      <td>CHICAGO</td>\n",
       "      <td>IL</td>\n",
       "      <td>TOYOTA</td>\n",
       "      <td>2002.0</td>\n",
       "      <td>1945</td>\n",
       "      <td>...</td>\n",
       "      <td>0</td>\n",
       "      <td>0</td>\n",
       "      <td>0</td>\n",
       "      <td>0</td>\n",
       "      <td>0</td>\n",
       "      <td>0</td>\n",
       "      <td>0</td>\n",
       "      <td>0</td>\n",
       "      <td>0</td>\n",
       "      <td>0</td>\n",
       "    </tr>\n",
       "  </tbody>\n",
       "</table>\n",
       "<p>5 rows × 55 columns</p>\n",
       "</div>"
      ],
      "text/plain": [
       "  DATESTOP TIMESTOP  DURATION             OFFNAME  OFFBDGE   CITY_I STATE  \\\n",
       "0   1/1/21     0:33         5     FIDEL LEGORRETA   5902.0  CHICAGO    IL   \n",
       "1   1/1/21     1:50         4        VICTOR PEREZ   7383.0  CHICAGO    IL   \n",
       "2   1/1/21     8:50         4  STEPHANIE ORTIGARA  18302.0  CHICAGO    IL   \n",
       "3   1/1/21    12:41         6        JASON ARROYO  14502.0  CHICAGO    IL   \n",
       "4   1/1/21    13:51         5         MONTY OWENS  11975.0  CHICAGO    IL   \n",
       "\n",
       "     VEHMAKE  VEHYEAR  YRBIRTH  ...  DOGALERT  DOGALERTSRCH  \\\n",
       "0  CHEVROLET   2017.0     1993  ...         0             0   \n",
       "1       FORD   2012.0     1957  ...         0             0   \n",
       "2       FORD   2007.0     1967  ...         0             0   \n",
       "3        BMW   1998.0     1990  ...         0             0   \n",
       "4     TOYOTA   2002.0     1945  ...         0             0   \n",
       "\n",
       "   DOGALERTSRCHCONTRA  DOGDRUG  DOGPARA  DOGALC  DOGWEAP  DOGSTOLPROP  \\\n",
       "0                   0        0        0       0        0            0   \n",
       "1                   0        0        0       0        0            0   \n",
       "2                   0        0        0       0        0            0   \n",
       "3                   0        0        0       0        0            0   \n",
       "4                   0        0        0       0        0            0   \n",
       "\n",
       "   DOGOTHER  DOGDRAMT  \n",
       "0         0         0  \n",
       "1         0         0  \n",
       "2         0         0  \n",
       "3         0         0  \n",
       "4         0         0  \n",
       "\n",
       "[5 rows x 55 columns]"
      ]
     },
     "execution_count": 16,
     "metadata": {},
     "output_type": "execute_result"
    }
   ],
   "source": [
    "# View first 5 rows\n",
    "stops_df.head()"
   ]
  },
  {
   "cell_type": "code",
   "execution_count": 17,
   "id": "845dce1d",
   "metadata": {},
   "outputs": [
    {
     "data": {
      "text/html": [
       "<div>\n",
       "<style scoped>\n",
       "    .dataframe tbody tr th:only-of-type {\n",
       "        vertical-align: middle;\n",
       "    }\n",
       "\n",
       "    .dataframe tbody tr th {\n",
       "        vertical-align: top;\n",
       "    }\n",
       "\n",
       "    .dataframe thead th {\n",
       "        text-align: right;\n",
       "    }\n",
       "</style>\n",
       "<table border=\"1\" class=\"dataframe\">\n",
       "  <thead>\n",
       "    <tr style=\"text-align: right;\">\n",
       "      <th></th>\n",
       "      <th>DATESTOP</th>\n",
       "      <th>TIMESTOP</th>\n",
       "      <th>DURATION</th>\n",
       "      <th>OFFNAME</th>\n",
       "      <th>OFFBDGE</th>\n",
       "      <th>CITY_I</th>\n",
       "      <th>STATE</th>\n",
       "      <th>VEHMAKE</th>\n",
       "      <th>VEHYEAR</th>\n",
       "      <th>YRBIRTH</th>\n",
       "      <th>...</th>\n",
       "      <th>DOGALERT</th>\n",
       "      <th>DOGALERTSRCH</th>\n",
       "      <th>DOGALERTSRCHCONTRA</th>\n",
       "      <th>DOGDRUG</th>\n",
       "      <th>DOGPARA</th>\n",
       "      <th>DOGALC</th>\n",
       "      <th>DOGWEAP</th>\n",
       "      <th>DOGSTOLPROP</th>\n",
       "      <th>DOGOTHER</th>\n",
       "      <th>DOGDRAMT</th>\n",
       "    </tr>\n",
       "  </thead>\n",
       "  <tbody>\n",
       "    <tr>\n",
       "      <th>377896</th>\n",
       "      <td>12/31/21</td>\n",
       "      <td>20:31</td>\n",
       "      <td>21</td>\n",
       "      <td>LUIS NUNEZ</td>\n",
       "      <td>18229.0</td>\n",
       "      <td>CHICAGO HEIGHTS</td>\n",
       "      <td>IL</td>\n",
       "      <td>HONDA</td>\n",
       "      <td>2007.0</td>\n",
       "      <td>1980</td>\n",
       "      <td>...</td>\n",
       "      <td>0</td>\n",
       "      <td>0</td>\n",
       "      <td>0</td>\n",
       "      <td>0</td>\n",
       "      <td>0</td>\n",
       "      <td>0</td>\n",
       "      <td>0</td>\n",
       "      <td>0</td>\n",
       "      <td>0</td>\n",
       "      <td>0</td>\n",
       "    </tr>\n",
       "    <tr>\n",
       "      <th>377897</th>\n",
       "      <td>12/31/21</td>\n",
       "      <td>21:33</td>\n",
       "      <td>2</td>\n",
       "      <td>GUSTAVO DOMINGUEZ</td>\n",
       "      <td>15235.0</td>\n",
       "      <td>CHICAGO</td>\n",
       "      <td>IL</td>\n",
       "      <td>KIA</td>\n",
       "      <td>2014.0</td>\n",
       "      <td>1982</td>\n",
       "      <td>...</td>\n",
       "      <td>0</td>\n",
       "      <td>0</td>\n",
       "      <td>0</td>\n",
       "      <td>0</td>\n",
       "      <td>0</td>\n",
       "      <td>0</td>\n",
       "      <td>0</td>\n",
       "      <td>0</td>\n",
       "      <td>0</td>\n",
       "      <td>0</td>\n",
       "    </tr>\n",
       "    <tr>\n",
       "      <th>377898</th>\n",
       "      <td>12/31/21</td>\n",
       "      <td>21:20</td>\n",
       "      <td>4</td>\n",
       "      <td>FRANK GIANAKAKIS</td>\n",
       "      <td>6934.0</td>\n",
       "      <td>CHICAGO</td>\n",
       "      <td>IL</td>\n",
       "      <td>TOYOTA</td>\n",
       "      <td>2015.0</td>\n",
       "      <td>1987</td>\n",
       "      <td>...</td>\n",
       "      <td>0</td>\n",
       "      <td>0</td>\n",
       "      <td>0</td>\n",
       "      <td>0</td>\n",
       "      <td>0</td>\n",
       "      <td>0</td>\n",
       "      <td>0</td>\n",
       "      <td>0</td>\n",
       "      <td>0</td>\n",
       "      <td>0</td>\n",
       "    </tr>\n",
       "  </tbody>\n",
       "</table>\n",
       "<p>3 rows × 55 columns</p>\n",
       "</div>"
      ],
      "text/plain": [
       "        DATESTOP TIMESTOP  DURATION            OFFNAME  OFFBDGE  \\\n",
       "377896  12/31/21    20:31        21         LUIS NUNEZ  18229.0   \n",
       "377897  12/31/21    21:33         2  GUSTAVO DOMINGUEZ  15235.0   \n",
       "377898  12/31/21    21:20         4   FRANK GIANAKAKIS   6934.0   \n",
       "\n",
       "                 CITY_I STATE VEHMAKE  VEHYEAR  YRBIRTH  ...  DOGALERT  \\\n",
       "377896  CHICAGO HEIGHTS    IL   HONDA   2007.0     1980  ...         0   \n",
       "377897          CHICAGO    IL     KIA   2014.0     1982  ...         0   \n",
       "377898          CHICAGO    IL  TOYOTA   2015.0     1987  ...         0   \n",
       "\n",
       "        DOGALERTSRCH  DOGALERTSRCHCONTRA  DOGDRUG  DOGPARA  DOGALC  DOGWEAP  \\\n",
       "377896             0                   0        0        0       0        0   \n",
       "377897             0                   0        0        0       0        0   \n",
       "377898             0                   0        0        0       0        0   \n",
       "\n",
       "        DOGSTOLPROP  DOGOTHER  DOGDRAMT  \n",
       "377896            0         0         0  \n",
       "377897            0         0         0  \n",
       "377898            0         0         0  \n",
       "\n",
       "[3 rows x 55 columns]"
      ]
     },
     "execution_count": 17,
     "metadata": {},
     "output_type": "execute_result"
    }
   ],
   "source": [
    "# View last 3 rows\n",
    "stops_df.tail(3)"
   ]
  },
  {
   "cell_type": "markdown",
   "id": "6fdaa9d3",
   "metadata": {},
   "source": [
    "### Basic metadata"
   ]
  },
  {
   "cell_type": "markdown",
   "id": "330e91e5",
   "metadata": {},
   "source": [
    "Pandas enables you to access basic metadata for its object by using some attributes. The important ones we are going to learn here are **shape**, **dtypes** and axis labels.\n",
    "\n",
    "**Shape** gives the axis dimensions of the object. For a DataFrame, it will give the number of rows and columns."
   ]
  },
  {
   "cell_type": "code",
   "execution_count": 18,
   "id": "220e0d4d",
   "metadata": {},
   "outputs": [
    {
     "data": {
      "text/plain": [
       "(377899, 55)"
      ]
     },
     "execution_count": 18,
     "metadata": {},
     "output_type": "execute_result"
    }
   ],
   "source": [
    "stops_df.shape"
   ]
  },
  {
   "cell_type": "markdown",
   "id": "76878282",
   "metadata": {},
   "source": [
    "**dtypes** will give the data type for each column in a DataFrame. We are going to learn more about data types in the upcoming sections."
   ]
  },
  {
   "cell_type": "code",
   "execution_count": 22,
   "id": "470aae43",
   "metadata": {
    "scrolled": true
   },
   "outputs": [
    {
     "data": {
      "text/plain": [
       "DATESTOP               object\n",
       "TIMESTOP               object\n",
       "DURATION                int64\n",
       "OFFNAME                object\n",
       "OFFBDGE               float64\n",
       "CITY_I                 object\n",
       "STATE                  object\n",
       "VEHMAKE                object\n",
       "VEHYEAR               float64\n",
       "YRBIRTH                 int64\n",
       "DRSEX                   int64\n",
       "DRRACE                float64\n",
       "REASSTOP              float64\n",
       "TYPEMOV               float64\n",
       "RESSTOP                 int64\n",
       "BEAT_I                  int64\n",
       "VEHCONSREQ              int64\n",
       "VEHCONSGIV              int64\n",
       "VEHSRCHCOND             int64\n",
       "VEHSRCHCONDBY           int64\n",
       "VEHCONTRA               int64\n",
       "VEHDRUGS                int64\n",
       "VEHPARA                 int64\n",
       "VEHALC                  int64\n",
       "VEHWEAP                 int64\n",
       "VEHSTOLPROP             int64\n",
       "VEHOTHER                int64\n",
       "VEHDRAMT                int64\n",
       "DRCONSREQ               int64\n",
       "DRCONSGIV               int64\n",
       "DRVSRCHCOND             int64\n",
       "DRVSRCHCONDBY           int64\n",
       "PASSCONSREQ             int64\n",
       "PASSCONSGIV             int64\n",
       "PASSSRCHCOND            int64\n",
       "PASSSRCHCONDBY          int64\n",
       "PASSDRVCONTRA           int64\n",
       "PASSDRVDRUGS            int64\n",
       "PASSDRVPARA             int64\n",
       "PASSDRVALC              int64\n",
       "PASSDRVWEAP             int64\n",
       "PASSDRVSTOLPROP         int64\n",
       "PASSDRVOTHER            int64\n",
       "PASSDRVDRAMT            int64\n",
       "DOGPERFSNIFF            int64\n",
       "DOGALERT                int64\n",
       "DOGALERTSRCH            int64\n",
       "DOGALERTSRCHCONTRA      int64\n",
       "DOGDRUG                 int64\n",
       "DOGPARA                 int64\n",
       "DOGALC                  int64\n",
       "DOGWEAP                 int64\n",
       "DOGSTOLPROP             int64\n",
       "DOGOTHER                int64\n",
       "DOGDRAMT                int64\n",
       "dtype: object"
      ]
     },
     "execution_count": 22,
     "metadata": {},
     "output_type": "execute_result"
    }
   ],
   "source": [
    "stops_df.dtypes"
   ]
  },
  {
   "cell_type": "markdown",
   "id": "4450da2f",
   "metadata": {},
   "source": [
    "Pandas objects have axis labels. We have seen that each element in a Series is labeled through an index. Whereas, a DataFrame has a set of labels for each row and another set for columns. We can access these labels for a DataFrame using `.index` and `.columns` methods."
   ]
  },
  {
   "cell_type": "code",
   "execution_count": 26,
   "id": "3f8b9cc8",
   "metadata": {},
   "outputs": [
    {
     "data": {
      "text/plain": [
       "Index(['DATESTOP', 'TIMESTOP', 'DURATION', 'OFFNAME', 'OFFBDGE', 'CITY_I',\n",
       "       'STATE', 'VEHMAKE', 'VEHYEAR', 'YRBIRTH', 'DRSEX', 'DRRACE', 'REASSTOP',\n",
       "       'TYPEMOV', 'RESSTOP', 'BEAT_I', 'VEHCONSREQ', 'VEHCONSGIV',\n",
       "       'VEHSRCHCOND', 'VEHSRCHCONDBY', 'VEHCONTRA', 'VEHDRUGS', 'VEHPARA',\n",
       "       'VEHALC', 'VEHWEAP', 'VEHSTOLPROP', 'VEHOTHER', 'VEHDRAMT', 'DRCONSREQ',\n",
       "       'DRCONSGIV', 'DRVSRCHCOND', 'DRVSRCHCONDBY', 'PASSCONSREQ',\n",
       "       'PASSCONSGIV', 'PASSSRCHCOND', 'PASSSRCHCONDBY', 'PASSDRVCONTRA',\n",
       "       'PASSDRVDRUGS', 'PASSDRVPARA', 'PASSDRVALC', 'PASSDRVWEAP',\n",
       "       'PASSDRVSTOLPROP', 'PASSDRVOTHER', 'PASSDRVDRAMT', 'DOGPERFSNIFF',\n",
       "       'DOGALERT', 'DOGALERTSRCH', 'DOGALERTSRCHCONTRA', 'DOGDRUG', 'DOGPARA',\n",
       "       'DOGALC', 'DOGWEAP', 'DOGSTOLPROP', 'DOGOTHER', 'DOGDRAMT'],\n",
       "      dtype='object')"
      ]
     },
     "execution_count": 26,
     "metadata": {},
     "output_type": "execute_result"
    }
   ],
   "source": [
    "stops_df.columns"
   ]
  },
  {
   "cell_type": "code",
   "execution_count": 27,
   "id": "090b3da2",
   "metadata": {},
   "outputs": [
    {
     "data": {
      "text/plain": [
       "RangeIndex(start=0, stop=377899, step=1)"
      ]
     },
     "execution_count": 27,
     "metadata": {},
     "output_type": "execute_result"
    }
   ],
   "source": [
    "stops_df.index"
   ]
  },
  {
   "cell_type": "markdown",
   "id": "a41a1f54",
   "metadata": {},
   "source": [
    "As you can notice, since there wasn't any index provided by the dataset, Pandas set the default index to range of integers from 0 to length of the DataFrame."
   ]
  }
 ],
 "metadata": {
  "kernelspec": {
   "display_name": "Python 3 (ipykernel)",
   "language": "python",
   "name": "python3"
  },
  "language_info": {
   "codemirror_mode": {
    "name": "ipython",
    "version": 3
   },
   "file_extension": ".py",
   "mimetype": "text/x-python",
   "name": "python",
   "nbconvert_exporter": "python",
   "pygments_lexer": "ipython3",
   "version": "3.9.12"
  }
 },
 "nbformat": 4,
 "nbformat_minor": 5
}
