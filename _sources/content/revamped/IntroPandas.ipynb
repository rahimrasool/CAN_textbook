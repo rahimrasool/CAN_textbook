{
 "cells": [
  {
   "cell_type": "markdown",
   "id": "f8fc6ce7",
   "metadata": {},
   "source": [
    "### Introduction to Pandas "
   ]
  },
  {
   "cell_type": "markdown",
   "id": "92491b20",
   "metadata": {},
   "source": [
    "For doing data analysis and manipulation in Python, Pandas is one of the most powerful, resourceful and easy to begin with packages. It consists of data structures and functions and can assist us with doing a huge set of tasks for analytical work. In order to use these resources, Pandas needs to be loaded using the **import** command, as shown below, for it to be used in our script. We can also define an alias for Pandas (we used pd) as we are going to use Pandas' modules multiple times in our code.\n",
    "\n",
    "<img src=\"https://pandas.pydata.org/docs/_static/pandas.svg\" width=\"200\"/>\n",
    "\n",
    "A little note about Pandas is that it uses object-oriented notations. No need to worry if you are not familiar with this concept. However, getting a high-level intuition about object-oriented programming (OOP) is going to be helpful in understanding how Pandas work. All data structures that store our data in the program are a form of Pandas objects defined by a blueprint called Class. For example, a DataFrame (to be discussed below) is a data-structure to store data in a format similar to spreadsheet. We can create a DataFrame object to store a table of our dataset and this object will have multiple methods and functions that operate on this object.\n",
    "\n",
    "Pandas comes usually installed with Jupyter environments like the one you are using here. If pandas is installed, you can check the current version of Pandas by using the ```pd.__version__``` command after the import command below:\n",
    "\n",
    "*Note: pd is an alias*"
   ]
  },
  {
   "cell_type": "code",
   "execution_count": 1,
   "id": "2dbb932b",
   "metadata": {},
   "outputs": [
    {
     "data": {
      "text/plain": [
       "'1.4.2'"
      ]
     },
     "execution_count": 1,
     "metadata": {},
     "output_type": "execute_result"
    }
   ],
   "source": [
    "import pandas as pd\n",
    "pd.__version__"
   ]
  },
  {
   "cell_type": "markdown",
   "id": "c36d8293",
   "metadata": {},
   "source": [
    "### Data Structures in Pandas"
   ]
  },
  {
   "cell_type": "markdown",
   "id": "37ae8ac6",
   "metadata": {},
   "source": [
    "We will learn the 2 fundamental data structures in Pandas: **Series** and **DataFrames**. \n",
    "\n",
    "<img src=\"series.png\" width=\"300\"/>"
   ]
  },
  {
   "cell_type": "markdown",
   "id": "202fe57f",
   "metadata": {},
   "source": [
    "**Series** is a one-dimensional array which can hold data of various types. Series are labelled where an index labels each element on the axis. Each index element has to be unique. Series can be created out from a list, a python dictionary or even a scalar value. A pandas Series has a single dtype.\n",
    "\n",
    "Below, we will go through 2 of the ways to create a Pandas Series. The method below creates a Series out of a Python dictionary."
   ]
  },
  {
   "cell_type": "code",
   "execution_count": 2,
   "id": "b8db3717",
   "metadata": {},
   "outputs": [],
   "source": [
    "sample_dictionary = {'Mercury': 35, 'Venus': 67, 'Earth': 93}\n",
    "\n",
    "sample_series = pd.Series(sample_dictionary)"
   ]
  },
  {
   "cell_type": "code",
   "execution_count": 3,
   "id": "47c7e909",
   "metadata": {},
   "outputs": [
    {
     "data": {
      "text/plain": [
       "Mercury    35\n",
       "Venus      67\n",
       "Earth      93\n",
       "dtype: int64"
      ]
     },
     "execution_count": 3,
     "metadata": {},
     "output_type": "execute_result"
    }
   ],
   "source": [
    "# Print the series\n",
    "sample_series"
   ]
  },
  {
   "cell_type": "markdown",
   "id": "ab0e523d",
   "metadata": {},
   "source": [
    "Note: if we do not specify the index, the default numeric range will be given.\n",
    "\n",
    "We will now create a Series from a list, without giving the index. In the cell after that, we will provide the index while we create a Series out of a list."
   ]
  },
  {
   "cell_type": "code",
   "execution_count": 4,
   "id": "511030ef",
   "metadata": {},
   "outputs": [
    {
     "data": {
      "text/plain": [
       "0    35\n",
       "1    67\n",
       "2    93\n",
       "dtype: int64"
      ]
     },
     "execution_count": 4,
     "metadata": {},
     "output_type": "execute_result"
    }
   ],
   "source": [
    "sample_list = [35, 67, 93]\n",
    "\n",
    "sample_series = pd.Series(sample_list)\n",
    "\n",
    "sample_series"
   ]
  },
  {
   "cell_type": "code",
   "execution_count": 5,
   "id": "621ba53e",
   "metadata": {},
   "outputs": [
    {
     "data": {
      "text/plain": [
       "Mercury    35\n",
       "Venus      67\n",
       "Earth      93\n",
       "dtype: int64"
      ]
     },
     "execution_count": 5,
     "metadata": {},
     "output_type": "execute_result"
    }
   ],
   "source": [
    "sample_series = pd.Series(sample_list, index = ['Mercury', 'Venus', 'Earth'])\n",
    "\n",
    "sample_series"
   ]
  },
  {
   "cell_type": "markdown",
   "id": "6dbc529e",
   "metadata": {},
   "source": [
    "<hr style=\"border:2px solid gray\">\n",
    "\n",
    "Unlike Series, **DataFrames** are a multi-dimensional, consisting of row and columns. They are similar to a spreadsheet or a SQL table. Pandas provides all the functionality and methods to deal with data in the DataFrame. Each row in a DataFrame is labeled with an index, as in Series. Whereas, there are also labels for each column. In one of upcoming sections, we will also have a look at multi-level indexing for DataFrames.\n",
    "\n",
    "<img src=\"dataframe.png\" width=\"500\"/>\n",
    "\n",
    "There are several ways to create or form a DataFrame. A DataFrame can be made of one or multiple series combined. It can also be formed out of lists and dictionaries. In the first cell, we will create a DataFrame using a Dictionary of lists. \n",
    "\n",
    "In the examples below, we are creating data for site views (in thousands) on a website per browser every year."
   ]
  },
  {
   "cell_type": "code",
   "execution_count": 6,
   "id": "e8d57dbe",
   "metadata": {},
   "outputs": [
    {
     "data": {
      "text/html": [
       "<div>\n",
       "<style scoped>\n",
       "    .dataframe tbody tr th:only-of-type {\n",
       "        vertical-align: middle;\n",
       "    }\n",
       "\n",
       "    .dataframe tbody tr th {\n",
       "        vertical-align: top;\n",
       "    }\n",
       "\n",
       "    .dataframe thead th {\n",
       "        text-align: right;\n",
       "    }\n",
       "</style>\n",
       "<table border=\"1\" class=\"dataframe\">\n",
       "  <thead>\n",
       "    <tr style=\"text-align: right;\">\n",
       "      <th></th>\n",
       "      <th>Chrome</th>\n",
       "      <th>Safari</th>\n",
       "      <th>Firefox</th>\n",
       "    </tr>\n",
       "  </thead>\n",
       "  <tbody>\n",
       "    <tr>\n",
       "      <th>2018</th>\n",
       "      <td>67</td>\n",
       "      <td>44</td>\n",
       "      <td>8</td>\n",
       "    </tr>\n",
       "    <tr>\n",
       "      <th>2019</th>\n",
       "      <td>74</td>\n",
       "      <td>58</td>\n",
       "      <td>14</td>\n",
       "    </tr>\n",
       "    <tr>\n",
       "      <th>2020</th>\n",
       "      <td>89</td>\n",
       "      <td>70</td>\n",
       "      <td>16</td>\n",
       "    </tr>\n",
       "  </tbody>\n",
       "</table>\n",
       "</div>"
      ],
      "text/plain": [
       "      Chrome  Safari  Firefox\n",
       "2018      67      44        8\n",
       "2019      74      58       14\n",
       "2020      89      70       16"
      ]
     },
     "execution_count": 6,
     "metadata": {},
     "output_type": "execute_result"
    }
   ],
   "source": [
    "df = pd.DataFrame({\n",
    "    'Chrome': [67, 74, 89],\n",
    "    'Safari': [44, 58, 70],\n",
    "    'Firefox': [8, 14, 16]\n",
    "}, index = [2018, 2019, 2020])\n",
    "\n",
    "df"
   ]
  },
  {
   "cell_type": "markdown",
   "id": "6aed37a8",
   "metadata": {},
   "source": [
    "Below we will create a DataFrame using a list of dictionaries."
   ]
  },
  {
   "cell_type": "code",
   "execution_count": 7,
   "id": "a9720520",
   "metadata": {},
   "outputs": [
    {
     "data": {
      "text/html": [
       "<div>\n",
       "<style scoped>\n",
       "    .dataframe tbody tr th:only-of-type {\n",
       "        vertical-align: middle;\n",
       "    }\n",
       "\n",
       "    .dataframe tbody tr th {\n",
       "        vertical-align: top;\n",
       "    }\n",
       "\n",
       "    .dataframe thead th {\n",
       "        text-align: right;\n",
       "    }\n",
       "</style>\n",
       "<table border=\"1\" class=\"dataframe\">\n",
       "  <thead>\n",
       "    <tr style=\"text-align: right;\">\n",
       "      <th></th>\n",
       "      <th>Chrome</th>\n",
       "      <th>Safari</th>\n",
       "      <th>Firefox</th>\n",
       "    </tr>\n",
       "  </thead>\n",
       "  <tbody>\n",
       "    <tr>\n",
       "      <th>0</th>\n",
       "      <td>67</td>\n",
       "      <td>44</td>\n",
       "      <td>8</td>\n",
       "    </tr>\n",
       "    <tr>\n",
       "      <th>1</th>\n",
       "      <td>74</td>\n",
       "      <td>58</td>\n",
       "      <td>14</td>\n",
       "    </tr>\n",
       "    <tr>\n",
       "      <th>2</th>\n",
       "      <td>89</td>\n",
       "      <td>70</td>\n",
       "      <td>16</td>\n",
       "    </tr>\n",
       "  </tbody>\n",
       "</table>\n",
       "</div>"
      ],
      "text/plain": [
       "   Chrome  Safari  Firefox\n",
       "0      67      44        8\n",
       "1      74      58       14\n",
       "2      89      70       16"
      ]
     },
     "execution_count": 7,
     "metadata": {},
     "output_type": "execute_result"
    }
   ],
   "source": [
    "df = pd.DataFrame(\n",
    "    [{\"Chrome\": 67, \"Safari\": 44, \"Firefox\":8 }, \n",
    "     {\"Chrome\": 74, \"Safari\": 58, \"Firefox\": 14},\n",
    "    {\"Chrome\": 89, \"Safari\": 70, \"Firefox\": 16}]\n",
    ")\n",
    "\n",
    "df"
   ]
  },
  {
   "cell_type": "markdown",
   "id": "70f7e74f",
   "metadata": {},
   "source": [
    "Note: If we do not provide the index, pandas defaults the index list to a range of integers beginning from 0.\n",
    "\n",
    "In the following cell we will create a DataFrame using a 2 dimensional list."
   ]
  },
  {
   "cell_type": "code",
   "execution_count": 8,
   "id": "04836d98",
   "metadata": {},
   "outputs": [
    {
     "data": {
      "text/html": [
       "<div>\n",
       "<style scoped>\n",
       "    .dataframe tbody tr th:only-of-type {\n",
       "        vertical-align: middle;\n",
       "    }\n",
       "\n",
       "    .dataframe tbody tr th {\n",
       "        vertical-align: top;\n",
       "    }\n",
       "\n",
       "    .dataframe thead th {\n",
       "        text-align: right;\n",
       "    }\n",
       "</style>\n",
       "<table border=\"1\" class=\"dataframe\">\n",
       "  <thead>\n",
       "    <tr style=\"text-align: right;\">\n",
       "      <th></th>\n",
       "      <th>Chrome</th>\n",
       "      <th>Safari</th>\n",
       "      <th>Firefox</th>\n",
       "    </tr>\n",
       "  </thead>\n",
       "  <tbody>\n",
       "    <tr>\n",
       "      <th>2018</th>\n",
       "      <td>67</td>\n",
       "      <td>74</td>\n",
       "      <td>89</td>\n",
       "    </tr>\n",
       "    <tr>\n",
       "      <th>2019</th>\n",
       "      <td>44</td>\n",
       "      <td>58</td>\n",
       "      <td>70</td>\n",
       "    </tr>\n",
       "    <tr>\n",
       "      <th>2020</th>\n",
       "      <td>8</td>\n",
       "      <td>14</td>\n",
       "      <td>16</td>\n",
       "    </tr>\n",
       "  </tbody>\n",
       "</table>\n",
       "</div>"
      ],
      "text/plain": [
       "      Chrome  Safari  Firefox\n",
       "2018      67      74       89\n",
       "2019      44      58       70\n",
       "2020       8      14       16"
      ]
     },
     "execution_count": 8,
     "metadata": {},
     "output_type": "execute_result"
    }
   ],
   "source": [
    "df = pd.DataFrame(\n",
    "    [[67, 74, 89],\n",
    "     [44, 58, 70],\n",
    "     [8, 14, 16]],\n",
    "    index = [2018, 2019, 2020], columns = [\"Chrome\", \"Safari\", \"Firefox\"]\n",
    ")\n",
    "\n",
    "df"
   ]
  },
  {
   "cell_type": "markdown",
   "id": "b25fc4d1",
   "metadata": {},
   "source": [
    "### Files in Pandas"
   ]
  },
  {
   "cell_type": "markdown",
   "id": "0bf78822",
   "metadata": {},
   "source": [
    "The pandas I/O API is a set of top level reader functions accessed like pandas.read_csv() that generally return a pandas object. \n",
    "\n",
    "Pandas offeres reader functions which can read in a data file and return it as a pandas object. The most useful one `read.csv()` will read a text file and convert it to a DataFrame with default arguments. Pandas also offers `read_json()` and `read_excel` to read json and excel files, respectively, 2 of the most common file types for data.\n",
    "\n",
    "We will use the `read.csv` function to read the Chicago Police Traffic Stops data."
   ]
  },
  {
   "cell_type": "code",
   "execution_count": 9,
   "id": "839017a3",
   "metadata": {},
   "outputs": [],
   "source": [
    "stops_df = pd.read_csv('idot/IDOT_2021.csv')"
   ]
  },
  {
   "cell_type": "markdown",
   "id": "ece70417",
   "metadata": {},
   "source": [
    "The [documentation](https://pandas.pydata.org/docs/reference/api/pandas.read_csv.html) provides great detail of the arguments that `read_csv()` function accepts. Some of the common ones that you must know are:\n",
    "\n",
    "**filepath_or_buffer**: Either a path to a file or URL.\n",
    "<br>**sep**: Delimiter to use. Default delimiter is `','` (for comma-separated files. Use `'\\t'` for tab-separated files, tsv)\n",
    "\n",
    "Typing and running the DataFrame name on a Jupyter cell displays the dataset with rows and columns truncated."
   ]
  },
  {
   "cell_type": "code",
   "execution_count": 10,
   "id": "dbf9cd7e",
   "metadata": {},
   "outputs": [
    {
     "data": {
      "text/html": [
       "<div>\n",
       "<style scoped>\n",
       "    .dataframe tbody tr th:only-of-type {\n",
       "        vertical-align: middle;\n",
       "    }\n",
       "\n",
       "    .dataframe tbody tr th {\n",
       "        vertical-align: top;\n",
       "    }\n",
       "\n",
       "    .dataframe thead th {\n",
       "        text-align: right;\n",
       "    }\n",
       "</style>\n",
       "<table border=\"1\" class=\"dataframe\">\n",
       "  <thead>\n",
       "    <tr style=\"text-align: right;\">\n",
       "      <th></th>\n",
       "      <th>DATESTOP</th>\n",
       "      <th>TIMESTOP</th>\n",
       "      <th>DURATION</th>\n",
       "      <th>OFFNAME</th>\n",
       "      <th>OFFBDGE</th>\n",
       "      <th>CITY_I</th>\n",
       "      <th>STATE</th>\n",
       "      <th>VEHMAKE</th>\n",
       "      <th>VEHYEAR</th>\n",
       "      <th>YRBIRTH</th>\n",
       "      <th>...</th>\n",
       "      <th>DOGALERT</th>\n",
       "      <th>DOGALERTSRCH</th>\n",
       "      <th>DOGALERTSRCHCONTRA</th>\n",
       "      <th>DOGDRUG</th>\n",
       "      <th>DOGPARA</th>\n",
       "      <th>DOGALC</th>\n",
       "      <th>DOGWEAP</th>\n",
       "      <th>DOGSTOLPROP</th>\n",
       "      <th>DOGOTHER</th>\n",
       "      <th>DOGDRAMT</th>\n",
       "    </tr>\n",
       "  </thead>\n",
       "  <tbody>\n",
       "    <tr>\n",
       "      <th>0</th>\n",
       "      <td>1/1/21</td>\n",
       "      <td>0:33</td>\n",
       "      <td>5</td>\n",
       "      <td>FIDEL LEGORRETA</td>\n",
       "      <td>5902.0</td>\n",
       "      <td>CHICAGO</td>\n",
       "      <td>IL</td>\n",
       "      <td>CHEVROLET</td>\n",
       "      <td>2017.0</td>\n",
       "      <td>1993</td>\n",
       "      <td>...</td>\n",
       "      <td>0</td>\n",
       "      <td>0</td>\n",
       "      <td>0</td>\n",
       "      <td>0</td>\n",
       "      <td>0</td>\n",
       "      <td>0</td>\n",
       "      <td>0</td>\n",
       "      <td>0</td>\n",
       "      <td>0</td>\n",
       "      <td>0</td>\n",
       "    </tr>\n",
       "    <tr>\n",
       "      <th>1</th>\n",
       "      <td>1/1/21</td>\n",
       "      <td>1:50</td>\n",
       "      <td>4</td>\n",
       "      <td>VICTOR PEREZ</td>\n",
       "      <td>7383.0</td>\n",
       "      <td>CHICAGO</td>\n",
       "      <td>IL</td>\n",
       "      <td>FORD</td>\n",
       "      <td>2012.0</td>\n",
       "      <td>1957</td>\n",
       "      <td>...</td>\n",
       "      <td>0</td>\n",
       "      <td>0</td>\n",
       "      <td>0</td>\n",
       "      <td>0</td>\n",
       "      <td>0</td>\n",
       "      <td>0</td>\n",
       "      <td>0</td>\n",
       "      <td>0</td>\n",
       "      <td>0</td>\n",
       "      <td>0</td>\n",
       "    </tr>\n",
       "    <tr>\n",
       "      <th>2</th>\n",
       "      <td>1/1/21</td>\n",
       "      <td>8:50</td>\n",
       "      <td>4</td>\n",
       "      <td>STEPHANIE ORTIGARA</td>\n",
       "      <td>18302.0</td>\n",
       "      <td>CHICAGO</td>\n",
       "      <td>IL</td>\n",
       "      <td>FORD</td>\n",
       "      <td>2007.0</td>\n",
       "      <td>1967</td>\n",
       "      <td>...</td>\n",
       "      <td>0</td>\n",
       "      <td>0</td>\n",
       "      <td>0</td>\n",
       "      <td>0</td>\n",
       "      <td>0</td>\n",
       "      <td>0</td>\n",
       "      <td>0</td>\n",
       "      <td>0</td>\n",
       "      <td>0</td>\n",
       "      <td>0</td>\n",
       "    </tr>\n",
       "    <tr>\n",
       "      <th>3</th>\n",
       "      <td>1/1/21</td>\n",
       "      <td>12:41</td>\n",
       "      <td>6</td>\n",
       "      <td>JASON ARROYO</td>\n",
       "      <td>14502.0</td>\n",
       "      <td>CHICAGO</td>\n",
       "      <td>IL</td>\n",
       "      <td>BMW</td>\n",
       "      <td>1998.0</td>\n",
       "      <td>1990</td>\n",
       "      <td>...</td>\n",
       "      <td>0</td>\n",
       "      <td>0</td>\n",
       "      <td>0</td>\n",
       "      <td>0</td>\n",
       "      <td>0</td>\n",
       "      <td>0</td>\n",
       "      <td>0</td>\n",
       "      <td>0</td>\n",
       "      <td>0</td>\n",
       "      <td>0</td>\n",
       "    </tr>\n",
       "    <tr>\n",
       "      <th>4</th>\n",
       "      <td>1/1/21</td>\n",
       "      <td>13:51</td>\n",
       "      <td>5</td>\n",
       "      <td>MONTY OWENS</td>\n",
       "      <td>11975.0</td>\n",
       "      <td>CHICAGO</td>\n",
       "      <td>IL</td>\n",
       "      <td>TOYOTA</td>\n",
       "      <td>2002.0</td>\n",
       "      <td>1945</td>\n",
       "      <td>...</td>\n",
       "      <td>0</td>\n",
       "      <td>0</td>\n",
       "      <td>0</td>\n",
       "      <td>0</td>\n",
       "      <td>0</td>\n",
       "      <td>0</td>\n",
       "      <td>0</td>\n",
       "      <td>0</td>\n",
       "      <td>0</td>\n",
       "      <td>0</td>\n",
       "    </tr>\n",
       "    <tr>\n",
       "      <th>...</th>\n",
       "      <td>...</td>\n",
       "      <td>...</td>\n",
       "      <td>...</td>\n",
       "      <td>...</td>\n",
       "      <td>...</td>\n",
       "      <td>...</td>\n",
       "      <td>...</td>\n",
       "      <td>...</td>\n",
       "      <td>...</td>\n",
       "      <td>...</td>\n",
       "      <td>...</td>\n",
       "      <td>...</td>\n",
       "      <td>...</td>\n",
       "      <td>...</td>\n",
       "      <td>...</td>\n",
       "      <td>...</td>\n",
       "      <td>...</td>\n",
       "      <td>...</td>\n",
       "      <td>...</td>\n",
       "      <td>...</td>\n",
       "      <td>...</td>\n",
       "    </tr>\n",
       "    <tr>\n",
       "      <th>377894</th>\n",
       "      <td>12/30/21</td>\n",
       "      <td>23:40</td>\n",
       "      <td>2</td>\n",
       "      <td>MATTHEW DRINNAN</td>\n",
       "      <td>13585.0</td>\n",
       "      <td>CHICAGO</td>\n",
       "      <td>IL</td>\n",
       "      <td>HYUNDAI</td>\n",
       "      <td>2020.0</td>\n",
       "      <td>1964</td>\n",
       "      <td>...</td>\n",
       "      <td>0</td>\n",
       "      <td>0</td>\n",
       "      <td>0</td>\n",
       "      <td>0</td>\n",
       "      <td>0</td>\n",
       "      <td>0</td>\n",
       "      <td>0</td>\n",
       "      <td>0</td>\n",
       "      <td>0</td>\n",
       "      <td>0</td>\n",
       "    </tr>\n",
       "    <tr>\n",
       "      <th>377895</th>\n",
       "      <td>12/31/21</td>\n",
       "      <td>20:35</td>\n",
       "      <td>5</td>\n",
       "      <td>EMMANUEL GARCIA</td>\n",
       "      <td>19038.0</td>\n",
       "      <td>CHICAGO</td>\n",
       "      <td>IL</td>\n",
       "      <td>NISSAN</td>\n",
       "      <td>2007.0</td>\n",
       "      <td>1973</td>\n",
       "      <td>...</td>\n",
       "      <td>0</td>\n",
       "      <td>0</td>\n",
       "      <td>0</td>\n",
       "      <td>0</td>\n",
       "      <td>0</td>\n",
       "      <td>0</td>\n",
       "      <td>0</td>\n",
       "      <td>0</td>\n",
       "      <td>0</td>\n",
       "      <td>0</td>\n",
       "    </tr>\n",
       "    <tr>\n",
       "      <th>377896</th>\n",
       "      <td>12/31/21</td>\n",
       "      <td>20:31</td>\n",
       "      <td>21</td>\n",
       "      <td>LUIS NUNEZ</td>\n",
       "      <td>18229.0</td>\n",
       "      <td>CHICAGO HEIGHTS</td>\n",
       "      <td>IL</td>\n",
       "      <td>HONDA</td>\n",
       "      <td>2007.0</td>\n",
       "      <td>1980</td>\n",
       "      <td>...</td>\n",
       "      <td>0</td>\n",
       "      <td>0</td>\n",
       "      <td>0</td>\n",
       "      <td>0</td>\n",
       "      <td>0</td>\n",
       "      <td>0</td>\n",
       "      <td>0</td>\n",
       "      <td>0</td>\n",
       "      <td>0</td>\n",
       "      <td>0</td>\n",
       "    </tr>\n",
       "    <tr>\n",
       "      <th>377897</th>\n",
       "      <td>12/31/21</td>\n",
       "      <td>21:33</td>\n",
       "      <td>2</td>\n",
       "      <td>GUSTAVO DOMINGUEZ</td>\n",
       "      <td>15235.0</td>\n",
       "      <td>CHICAGO</td>\n",
       "      <td>IL</td>\n",
       "      <td>KIA</td>\n",
       "      <td>2014.0</td>\n",
       "      <td>1982</td>\n",
       "      <td>...</td>\n",
       "      <td>0</td>\n",
       "      <td>0</td>\n",
       "      <td>0</td>\n",
       "      <td>0</td>\n",
       "      <td>0</td>\n",
       "      <td>0</td>\n",
       "      <td>0</td>\n",
       "      <td>0</td>\n",
       "      <td>0</td>\n",
       "      <td>0</td>\n",
       "    </tr>\n",
       "    <tr>\n",
       "      <th>377898</th>\n",
       "      <td>12/31/21</td>\n",
       "      <td>21:20</td>\n",
       "      <td>4</td>\n",
       "      <td>FRANK GIANAKAKIS</td>\n",
       "      <td>6934.0</td>\n",
       "      <td>CHICAGO</td>\n",
       "      <td>IL</td>\n",
       "      <td>TOYOTA</td>\n",
       "      <td>2015.0</td>\n",
       "      <td>1987</td>\n",
       "      <td>...</td>\n",
       "      <td>0</td>\n",
       "      <td>0</td>\n",
       "      <td>0</td>\n",
       "      <td>0</td>\n",
       "      <td>0</td>\n",
       "      <td>0</td>\n",
       "      <td>0</td>\n",
       "      <td>0</td>\n",
       "      <td>0</td>\n",
       "      <td>0</td>\n",
       "    </tr>\n",
       "  </tbody>\n",
       "</table>\n",
       "<p>377899 rows × 55 columns</p>\n",
       "</div>"
      ],
      "text/plain": [
       "        DATESTOP TIMESTOP  DURATION             OFFNAME  OFFBDGE  \\\n",
       "0         1/1/21     0:33         5     FIDEL LEGORRETA   5902.0   \n",
       "1         1/1/21     1:50         4        VICTOR PEREZ   7383.0   \n",
       "2         1/1/21     8:50         4  STEPHANIE ORTIGARA  18302.0   \n",
       "3         1/1/21    12:41         6        JASON ARROYO  14502.0   \n",
       "4         1/1/21    13:51         5         MONTY OWENS  11975.0   \n",
       "...          ...      ...       ...                 ...      ...   \n",
       "377894  12/30/21    23:40         2     MATTHEW DRINNAN  13585.0   \n",
       "377895  12/31/21    20:35         5     EMMANUEL GARCIA  19038.0   \n",
       "377896  12/31/21    20:31        21          LUIS NUNEZ  18229.0   \n",
       "377897  12/31/21    21:33         2   GUSTAVO DOMINGUEZ  15235.0   \n",
       "377898  12/31/21    21:20         4    FRANK GIANAKAKIS   6934.0   \n",
       "\n",
       "                 CITY_I STATE    VEHMAKE  VEHYEAR  YRBIRTH  ...  DOGALERT  \\\n",
       "0               CHICAGO    IL  CHEVROLET   2017.0     1993  ...         0   \n",
       "1               CHICAGO    IL       FORD   2012.0     1957  ...         0   \n",
       "2               CHICAGO    IL       FORD   2007.0     1967  ...         0   \n",
       "3               CHICAGO    IL        BMW   1998.0     1990  ...         0   \n",
       "4               CHICAGO    IL     TOYOTA   2002.0     1945  ...         0   \n",
       "...                 ...   ...        ...      ...      ...  ...       ...   \n",
       "377894          CHICAGO    IL    HYUNDAI   2020.0     1964  ...         0   \n",
       "377895          CHICAGO    IL     NISSAN   2007.0     1973  ...         0   \n",
       "377896  CHICAGO HEIGHTS    IL      HONDA   2007.0     1980  ...         0   \n",
       "377897          CHICAGO    IL        KIA   2014.0     1982  ...         0   \n",
       "377898          CHICAGO    IL     TOYOTA   2015.0     1987  ...         0   \n",
       "\n",
       "        DOGALERTSRCH  DOGALERTSRCHCONTRA  DOGDRUG  DOGPARA  DOGALC  DOGWEAP  \\\n",
       "0                  0                   0        0        0       0        0   \n",
       "1                  0                   0        0        0       0        0   \n",
       "2                  0                   0        0        0       0        0   \n",
       "3                  0                   0        0        0       0        0   \n",
       "4                  0                   0        0        0       0        0   \n",
       "...              ...                 ...      ...      ...     ...      ...   \n",
       "377894             0                   0        0        0       0        0   \n",
       "377895             0                   0        0        0       0        0   \n",
       "377896             0                   0        0        0       0        0   \n",
       "377897             0                   0        0        0       0        0   \n",
       "377898             0                   0        0        0       0        0   \n",
       "\n",
       "        DOGSTOLPROP  DOGOTHER  DOGDRAMT  \n",
       "0                 0         0         0  \n",
       "1                 0         0         0  \n",
       "2                 0         0         0  \n",
       "3                 0         0         0  \n",
       "4                 0         0         0  \n",
       "...             ...       ...       ...  \n",
       "377894            0         0         0  \n",
       "377895            0         0         0  \n",
       "377896            0         0         0  \n",
       "377897            0         0         0  \n",
       "377898            0         0         0  \n",
       "\n",
       "[377899 rows x 55 columns]"
      ]
     },
     "execution_count": 10,
     "metadata": {},
     "output_type": "execute_result"
    }
   ],
   "source": [
    "stops_df"
   ]
  },
  {
   "cell_type": "markdown",
   "id": "8be71667",
   "metadata": {},
   "source": [
    "This dataset is huge! Pandas also offers methods to view a small sample of a Series or DataFrame object. The `head()` and `tail()` methods enable you to do so showing you the first set of rows and last set of rows, respectively. By default, they display 5 rows. The argument to these methods can be changed to the number of rows needed to be displayed."
   ]
  },
  {
   "cell_type": "code",
   "execution_count": 11,
   "id": "694b3a43",
   "metadata": {},
   "outputs": [
    {
     "data": {
      "text/html": [
       "<div>\n",
       "<style scoped>\n",
       "    .dataframe tbody tr th:only-of-type {\n",
       "        vertical-align: middle;\n",
       "    }\n",
       "\n",
       "    .dataframe tbody tr th {\n",
       "        vertical-align: top;\n",
       "    }\n",
       "\n",
       "    .dataframe thead th {\n",
       "        text-align: right;\n",
       "    }\n",
       "</style>\n",
       "<table border=\"1\" class=\"dataframe\">\n",
       "  <thead>\n",
       "    <tr style=\"text-align: right;\">\n",
       "      <th></th>\n",
       "      <th>DATESTOP</th>\n",
       "      <th>TIMESTOP</th>\n",
       "      <th>DURATION</th>\n",
       "      <th>OFFNAME</th>\n",
       "      <th>OFFBDGE</th>\n",
       "      <th>CITY_I</th>\n",
       "      <th>STATE</th>\n",
       "      <th>VEHMAKE</th>\n",
       "      <th>VEHYEAR</th>\n",
       "      <th>YRBIRTH</th>\n",
       "      <th>...</th>\n",
       "      <th>DOGALERT</th>\n",
       "      <th>DOGALERTSRCH</th>\n",
       "      <th>DOGALERTSRCHCONTRA</th>\n",
       "      <th>DOGDRUG</th>\n",
       "      <th>DOGPARA</th>\n",
       "      <th>DOGALC</th>\n",
       "      <th>DOGWEAP</th>\n",
       "      <th>DOGSTOLPROP</th>\n",
       "      <th>DOGOTHER</th>\n",
       "      <th>DOGDRAMT</th>\n",
       "    </tr>\n",
       "  </thead>\n",
       "  <tbody>\n",
       "    <tr>\n",
       "      <th>0</th>\n",
       "      <td>1/1/21</td>\n",
       "      <td>0:33</td>\n",
       "      <td>5</td>\n",
       "      <td>FIDEL LEGORRETA</td>\n",
       "      <td>5902.0</td>\n",
       "      <td>CHICAGO</td>\n",
       "      <td>IL</td>\n",
       "      <td>CHEVROLET</td>\n",
       "      <td>2017.0</td>\n",
       "      <td>1993</td>\n",
       "      <td>...</td>\n",
       "      <td>0</td>\n",
       "      <td>0</td>\n",
       "      <td>0</td>\n",
       "      <td>0</td>\n",
       "      <td>0</td>\n",
       "      <td>0</td>\n",
       "      <td>0</td>\n",
       "      <td>0</td>\n",
       "      <td>0</td>\n",
       "      <td>0</td>\n",
       "    </tr>\n",
       "    <tr>\n",
       "      <th>1</th>\n",
       "      <td>1/1/21</td>\n",
       "      <td>1:50</td>\n",
       "      <td>4</td>\n",
       "      <td>VICTOR PEREZ</td>\n",
       "      <td>7383.0</td>\n",
       "      <td>CHICAGO</td>\n",
       "      <td>IL</td>\n",
       "      <td>FORD</td>\n",
       "      <td>2012.0</td>\n",
       "      <td>1957</td>\n",
       "      <td>...</td>\n",
       "      <td>0</td>\n",
       "      <td>0</td>\n",
       "      <td>0</td>\n",
       "      <td>0</td>\n",
       "      <td>0</td>\n",
       "      <td>0</td>\n",
       "      <td>0</td>\n",
       "      <td>0</td>\n",
       "      <td>0</td>\n",
       "      <td>0</td>\n",
       "    </tr>\n",
       "    <tr>\n",
       "      <th>2</th>\n",
       "      <td>1/1/21</td>\n",
       "      <td>8:50</td>\n",
       "      <td>4</td>\n",
       "      <td>STEPHANIE ORTIGARA</td>\n",
       "      <td>18302.0</td>\n",
       "      <td>CHICAGO</td>\n",
       "      <td>IL</td>\n",
       "      <td>FORD</td>\n",
       "      <td>2007.0</td>\n",
       "      <td>1967</td>\n",
       "      <td>...</td>\n",
       "      <td>0</td>\n",
       "      <td>0</td>\n",
       "      <td>0</td>\n",
       "      <td>0</td>\n",
       "      <td>0</td>\n",
       "      <td>0</td>\n",
       "      <td>0</td>\n",
       "      <td>0</td>\n",
       "      <td>0</td>\n",
       "      <td>0</td>\n",
       "    </tr>\n",
       "    <tr>\n",
       "      <th>3</th>\n",
       "      <td>1/1/21</td>\n",
       "      <td>12:41</td>\n",
       "      <td>6</td>\n",
       "      <td>JASON ARROYO</td>\n",
       "      <td>14502.0</td>\n",
       "      <td>CHICAGO</td>\n",
       "      <td>IL</td>\n",
       "      <td>BMW</td>\n",
       "      <td>1998.0</td>\n",
       "      <td>1990</td>\n",
       "      <td>...</td>\n",
       "      <td>0</td>\n",
       "      <td>0</td>\n",
       "      <td>0</td>\n",
       "      <td>0</td>\n",
       "      <td>0</td>\n",
       "      <td>0</td>\n",
       "      <td>0</td>\n",
       "      <td>0</td>\n",
       "      <td>0</td>\n",
       "      <td>0</td>\n",
       "    </tr>\n",
       "    <tr>\n",
       "      <th>4</th>\n",
       "      <td>1/1/21</td>\n",
       "      <td>13:51</td>\n",
       "      <td>5</td>\n",
       "      <td>MONTY OWENS</td>\n",
       "      <td>11975.0</td>\n",
       "      <td>CHICAGO</td>\n",
       "      <td>IL</td>\n",
       "      <td>TOYOTA</td>\n",
       "      <td>2002.0</td>\n",
       "      <td>1945</td>\n",
       "      <td>...</td>\n",
       "      <td>0</td>\n",
       "      <td>0</td>\n",
       "      <td>0</td>\n",
       "      <td>0</td>\n",
       "      <td>0</td>\n",
       "      <td>0</td>\n",
       "      <td>0</td>\n",
       "      <td>0</td>\n",
       "      <td>0</td>\n",
       "      <td>0</td>\n",
       "    </tr>\n",
       "  </tbody>\n",
       "</table>\n",
       "<p>5 rows × 55 columns</p>\n",
       "</div>"
      ],
      "text/plain": [
       "  DATESTOP TIMESTOP  DURATION             OFFNAME  OFFBDGE   CITY_I STATE  \\\n",
       "0   1/1/21     0:33         5     FIDEL LEGORRETA   5902.0  CHICAGO    IL   \n",
       "1   1/1/21     1:50         4        VICTOR PEREZ   7383.0  CHICAGO    IL   \n",
       "2   1/1/21     8:50         4  STEPHANIE ORTIGARA  18302.0  CHICAGO    IL   \n",
       "3   1/1/21    12:41         6        JASON ARROYO  14502.0  CHICAGO    IL   \n",
       "4   1/1/21    13:51         5         MONTY OWENS  11975.0  CHICAGO    IL   \n",
       "\n",
       "     VEHMAKE  VEHYEAR  YRBIRTH  ...  DOGALERT  DOGALERTSRCH  \\\n",
       "0  CHEVROLET   2017.0     1993  ...         0             0   \n",
       "1       FORD   2012.0     1957  ...         0             0   \n",
       "2       FORD   2007.0     1967  ...         0             0   \n",
       "3        BMW   1998.0     1990  ...         0             0   \n",
       "4     TOYOTA   2002.0     1945  ...         0             0   \n",
       "\n",
       "   DOGALERTSRCHCONTRA  DOGDRUG  DOGPARA  DOGALC  DOGWEAP  DOGSTOLPROP  \\\n",
       "0                   0        0        0       0        0            0   \n",
       "1                   0        0        0       0        0            0   \n",
       "2                   0        0        0       0        0            0   \n",
       "3                   0        0        0       0        0            0   \n",
       "4                   0        0        0       0        0            0   \n",
       "\n",
       "   DOGOTHER  DOGDRAMT  \n",
       "0         0         0  \n",
       "1         0         0  \n",
       "2         0         0  \n",
       "3         0         0  \n",
       "4         0         0  \n",
       "\n",
       "[5 rows x 55 columns]"
      ]
     },
     "execution_count": 11,
     "metadata": {},
     "output_type": "execute_result"
    }
   ],
   "source": [
    "# View first 5 rows\n",
    "stops_df.head()"
   ]
  },
  {
   "cell_type": "code",
   "execution_count": 12,
   "id": "845dce1d",
   "metadata": {},
   "outputs": [
    {
     "data": {
      "text/html": [
       "<div>\n",
       "<style scoped>\n",
       "    .dataframe tbody tr th:only-of-type {\n",
       "        vertical-align: middle;\n",
       "    }\n",
       "\n",
       "    .dataframe tbody tr th {\n",
       "        vertical-align: top;\n",
       "    }\n",
       "\n",
       "    .dataframe thead th {\n",
       "        text-align: right;\n",
       "    }\n",
       "</style>\n",
       "<table border=\"1\" class=\"dataframe\">\n",
       "  <thead>\n",
       "    <tr style=\"text-align: right;\">\n",
       "      <th></th>\n",
       "      <th>DATESTOP</th>\n",
       "      <th>TIMESTOP</th>\n",
       "      <th>DURATION</th>\n",
       "      <th>OFFNAME</th>\n",
       "      <th>OFFBDGE</th>\n",
       "      <th>CITY_I</th>\n",
       "      <th>STATE</th>\n",
       "      <th>VEHMAKE</th>\n",
       "      <th>VEHYEAR</th>\n",
       "      <th>YRBIRTH</th>\n",
       "      <th>...</th>\n",
       "      <th>DOGALERT</th>\n",
       "      <th>DOGALERTSRCH</th>\n",
       "      <th>DOGALERTSRCHCONTRA</th>\n",
       "      <th>DOGDRUG</th>\n",
       "      <th>DOGPARA</th>\n",
       "      <th>DOGALC</th>\n",
       "      <th>DOGWEAP</th>\n",
       "      <th>DOGSTOLPROP</th>\n",
       "      <th>DOGOTHER</th>\n",
       "      <th>DOGDRAMT</th>\n",
       "    </tr>\n",
       "  </thead>\n",
       "  <tbody>\n",
       "    <tr>\n",
       "      <th>377896</th>\n",
       "      <td>12/31/21</td>\n",
       "      <td>20:31</td>\n",
       "      <td>21</td>\n",
       "      <td>LUIS NUNEZ</td>\n",
       "      <td>18229.0</td>\n",
       "      <td>CHICAGO HEIGHTS</td>\n",
       "      <td>IL</td>\n",
       "      <td>HONDA</td>\n",
       "      <td>2007.0</td>\n",
       "      <td>1980</td>\n",
       "      <td>...</td>\n",
       "      <td>0</td>\n",
       "      <td>0</td>\n",
       "      <td>0</td>\n",
       "      <td>0</td>\n",
       "      <td>0</td>\n",
       "      <td>0</td>\n",
       "      <td>0</td>\n",
       "      <td>0</td>\n",
       "      <td>0</td>\n",
       "      <td>0</td>\n",
       "    </tr>\n",
       "    <tr>\n",
       "      <th>377897</th>\n",
       "      <td>12/31/21</td>\n",
       "      <td>21:33</td>\n",
       "      <td>2</td>\n",
       "      <td>GUSTAVO DOMINGUEZ</td>\n",
       "      <td>15235.0</td>\n",
       "      <td>CHICAGO</td>\n",
       "      <td>IL</td>\n",
       "      <td>KIA</td>\n",
       "      <td>2014.0</td>\n",
       "      <td>1982</td>\n",
       "      <td>...</td>\n",
       "      <td>0</td>\n",
       "      <td>0</td>\n",
       "      <td>0</td>\n",
       "      <td>0</td>\n",
       "      <td>0</td>\n",
       "      <td>0</td>\n",
       "      <td>0</td>\n",
       "      <td>0</td>\n",
       "      <td>0</td>\n",
       "      <td>0</td>\n",
       "    </tr>\n",
       "    <tr>\n",
       "      <th>377898</th>\n",
       "      <td>12/31/21</td>\n",
       "      <td>21:20</td>\n",
       "      <td>4</td>\n",
       "      <td>FRANK GIANAKAKIS</td>\n",
       "      <td>6934.0</td>\n",
       "      <td>CHICAGO</td>\n",
       "      <td>IL</td>\n",
       "      <td>TOYOTA</td>\n",
       "      <td>2015.0</td>\n",
       "      <td>1987</td>\n",
       "      <td>...</td>\n",
       "      <td>0</td>\n",
       "      <td>0</td>\n",
       "      <td>0</td>\n",
       "      <td>0</td>\n",
       "      <td>0</td>\n",
       "      <td>0</td>\n",
       "      <td>0</td>\n",
       "      <td>0</td>\n",
       "      <td>0</td>\n",
       "      <td>0</td>\n",
       "    </tr>\n",
       "  </tbody>\n",
       "</table>\n",
       "<p>3 rows × 55 columns</p>\n",
       "</div>"
      ],
      "text/plain": [
       "        DATESTOP TIMESTOP  DURATION            OFFNAME  OFFBDGE  \\\n",
       "377896  12/31/21    20:31        21         LUIS NUNEZ  18229.0   \n",
       "377897  12/31/21    21:33         2  GUSTAVO DOMINGUEZ  15235.0   \n",
       "377898  12/31/21    21:20         4   FRANK GIANAKAKIS   6934.0   \n",
       "\n",
       "                 CITY_I STATE VEHMAKE  VEHYEAR  YRBIRTH  ...  DOGALERT  \\\n",
       "377896  CHICAGO HEIGHTS    IL   HONDA   2007.0     1980  ...         0   \n",
       "377897          CHICAGO    IL     KIA   2014.0     1982  ...         0   \n",
       "377898          CHICAGO    IL  TOYOTA   2015.0     1987  ...         0   \n",
       "\n",
       "        DOGALERTSRCH  DOGALERTSRCHCONTRA  DOGDRUG  DOGPARA  DOGALC  DOGWEAP  \\\n",
       "377896             0                   0        0        0       0        0   \n",
       "377897             0                   0        0        0       0        0   \n",
       "377898             0                   0        0        0       0        0   \n",
       "\n",
       "        DOGSTOLPROP  DOGOTHER  DOGDRAMT  \n",
       "377896            0         0         0  \n",
       "377897            0         0         0  \n",
       "377898            0         0         0  \n",
       "\n",
       "[3 rows x 55 columns]"
      ]
     },
     "execution_count": 12,
     "metadata": {},
     "output_type": "execute_result"
    }
   ],
   "source": [
    "# View last 3 rows\n",
    "stops_df.tail(3)"
   ]
  },
  {
   "cell_type": "markdown",
   "id": "6fdaa9d3",
   "metadata": {},
   "source": [
    "### Basic metadata"
   ]
  },
  {
   "cell_type": "markdown",
   "id": "330e91e5",
   "metadata": {},
   "source": [
    "Pandas enables you to access basic metadata for its object by using some attributes. The important ones we are going to learn here are **shape**, **dtypes** and axis labels.\n",
    "\n",
    "**Shape** gives the axis dimensions of the object. For a DataFrame, it will give the number of rows and columns."
   ]
  },
  {
   "cell_type": "code",
   "execution_count": 13,
   "id": "220e0d4d",
   "metadata": {},
   "outputs": [
    {
     "data": {
      "text/plain": [
       "(377899, 55)"
      ]
     },
     "execution_count": 13,
     "metadata": {},
     "output_type": "execute_result"
    }
   ],
   "source": [
    "stops_df.shape"
   ]
  },
  {
   "cell_type": "markdown",
   "id": "76878282",
   "metadata": {},
   "source": [
    "**dtypes** will give the data type for each column in a DataFrame. We are going to learn more about data types in the upcoming sections."
   ]
  },
  {
   "cell_type": "code",
   "execution_count": 14,
   "id": "470aae43",
   "metadata": {
    "scrolled": true
   },
   "outputs": [
    {
     "data": {
      "text/plain": [
       "DATESTOP               object\n",
       "TIMESTOP               object\n",
       "DURATION                int64\n",
       "OFFNAME                object\n",
       "OFFBDGE               float64\n",
       "CITY_I                 object\n",
       "STATE                  object\n",
       "VEHMAKE                object\n",
       "VEHYEAR               float64\n",
       "YRBIRTH                 int64\n",
       "DRSEX                   int64\n",
       "DRRACE                float64\n",
       "REASSTOP              float64\n",
       "TYPEMOV               float64\n",
       "RESSTOP                 int64\n",
       "BEAT_I                  int64\n",
       "VEHCONSREQ              int64\n",
       "VEHCONSGIV              int64\n",
       "VEHSRCHCOND             int64\n",
       "VEHSRCHCONDBY           int64\n",
       "VEHCONTRA               int64\n",
       "VEHDRUGS                int64\n",
       "VEHPARA                 int64\n",
       "VEHALC                  int64\n",
       "VEHWEAP                 int64\n",
       "VEHSTOLPROP             int64\n",
       "VEHOTHER                int64\n",
       "VEHDRAMT                int64\n",
       "DRCONSREQ               int64\n",
       "DRCONSGIV               int64\n",
       "DRVSRCHCOND             int64\n",
       "DRVSRCHCONDBY           int64\n",
       "PASSCONSREQ             int64\n",
       "PASSCONSGIV             int64\n",
       "PASSSRCHCOND            int64\n",
       "PASSSRCHCONDBY          int64\n",
       "PASSDRVCONTRA           int64\n",
       "PASSDRVDRUGS            int64\n",
       "PASSDRVPARA             int64\n",
       "PASSDRVALC              int64\n",
       "PASSDRVWEAP             int64\n",
       "PASSDRVSTOLPROP         int64\n",
       "PASSDRVOTHER            int64\n",
       "PASSDRVDRAMT            int64\n",
       "DOGPERFSNIFF            int64\n",
       "DOGALERT                int64\n",
       "DOGALERTSRCH            int64\n",
       "DOGALERTSRCHCONTRA      int64\n",
       "DOGDRUG                 int64\n",
       "DOGPARA                 int64\n",
       "DOGALC                  int64\n",
       "DOGWEAP                 int64\n",
       "DOGSTOLPROP             int64\n",
       "DOGOTHER                int64\n",
       "DOGDRAMT                int64\n",
       "dtype: object"
      ]
     },
     "execution_count": 14,
     "metadata": {},
     "output_type": "execute_result"
    }
   ],
   "source": [
    "stops_df.dtypes"
   ]
  },
  {
   "cell_type": "markdown",
   "id": "4450da2f",
   "metadata": {},
   "source": [
    "Pandas objects have axis labels. We have seen that each element in a Series is labeled through an index. Whereas, a DataFrame has a set of labels for each row and another set for columns. We can access these labels for a DataFrame using `.index` and `.columns` methods."
   ]
  },
  {
   "cell_type": "code",
   "execution_count": 15,
   "id": "3f8b9cc8",
   "metadata": {},
   "outputs": [
    {
     "data": {
      "text/plain": [
       "Index(['DATESTOP', 'TIMESTOP', 'DURATION', 'OFFNAME', 'OFFBDGE', 'CITY_I',\n",
       "       'STATE', 'VEHMAKE', 'VEHYEAR', 'YRBIRTH', 'DRSEX', 'DRRACE', 'REASSTOP',\n",
       "       'TYPEMOV', 'RESSTOP', 'BEAT_I', 'VEHCONSREQ', 'VEHCONSGIV',\n",
       "       'VEHSRCHCOND', 'VEHSRCHCONDBY', 'VEHCONTRA', 'VEHDRUGS', 'VEHPARA',\n",
       "       'VEHALC', 'VEHWEAP', 'VEHSTOLPROP', 'VEHOTHER', 'VEHDRAMT', 'DRCONSREQ',\n",
       "       'DRCONSGIV', 'DRVSRCHCOND', 'DRVSRCHCONDBY', 'PASSCONSREQ',\n",
       "       'PASSCONSGIV', 'PASSSRCHCOND', 'PASSSRCHCONDBY', 'PASSDRVCONTRA',\n",
       "       'PASSDRVDRUGS', 'PASSDRVPARA', 'PASSDRVALC', 'PASSDRVWEAP',\n",
       "       'PASSDRVSTOLPROP', 'PASSDRVOTHER', 'PASSDRVDRAMT', 'DOGPERFSNIFF',\n",
       "       'DOGALERT', 'DOGALERTSRCH', 'DOGALERTSRCHCONTRA', 'DOGDRUG', 'DOGPARA',\n",
       "       'DOGALC', 'DOGWEAP', 'DOGSTOLPROP', 'DOGOTHER', 'DOGDRAMT'],\n",
       "      dtype='object')"
      ]
     },
     "execution_count": 15,
     "metadata": {},
     "output_type": "execute_result"
    }
   ],
   "source": [
    "stops_df.columns"
   ]
  },
  {
   "cell_type": "code",
   "execution_count": 16,
   "id": "090b3da2",
   "metadata": {},
   "outputs": [
    {
     "data": {
      "text/plain": [
       "RangeIndex(start=0, stop=377899, step=1)"
      ]
     },
     "execution_count": 16,
     "metadata": {},
     "output_type": "execute_result"
    }
   ],
   "source": [
    "stops_df.index"
   ]
  },
  {
   "cell_type": "markdown",
   "id": "a41a1f54",
   "metadata": {},
   "source": [
    "As you can notice, since there wasn't any index provided by the dataset, Pandas set the default index to range of integers from 0 to length of the DataFrame."
   ]
  },
  {
   "cell_type": "markdown",
   "id": "e5776249",
   "metadata": {},
   "source": [
    "### Selecting and Subsetting"
   ]
  },
  {
   "cell_type": "markdown",
   "id": "b3f5f0c2",
   "metadata": {},
   "source": [
    "Pandas offers a few ways that we can use to select a set of data which can include a cell, row, column or a subset of the entire dataframe. The 3 ways that we will go through are selection using `[]`, `.loc` (label based indexing) and `.iloc` (position based indexing).\n",
    "\n",
    "Using `[]` is an archaic way of indexing which mimics the same way we would index dictionaries in Python. In Pandas, it'll select the lower-dimensional set. For the Series below we are using the row Index to select a row below."
   ]
  },
  {
   "cell_type": "code",
   "execution_count": 17,
   "id": "2b9508fc",
   "metadata": {},
   "outputs": [
    {
     "data": {
      "text/plain": [
       "35"
      ]
     },
     "execution_count": 17,
     "metadata": {},
     "output_type": "execute_result"
    }
   ],
   "source": [
    "sample_series['Mercury']"
   ]
  },
  {
   "cell_type": "markdown",
   "id": "2d2d4fbf",
   "metadata": {},
   "source": [
    "Similarly, we can use this notation to index a column in a DataFrame. This will result in a Series."
   ]
  },
  {
   "cell_type": "code",
   "execution_count": 18,
   "id": "32f49336",
   "metadata": {},
   "outputs": [
    {
     "data": {
      "text/plain": [
       "2018    67\n",
       "2019    44\n",
       "2020     8\n",
       "Name: Chrome, dtype: int64"
      ]
     },
     "execution_count": 18,
     "metadata": {},
     "output_type": "execute_result"
    }
   ],
   "source": [
    "df['Chrome']"
   ]
  },
  {
   "cell_type": "markdown",
   "id": "cc62dba5",
   "metadata": {},
   "source": [
    "While you may stil find this notation being used for indexing DataFrames and Series, it can often result in errors and confusion. The purpose to bring it up here was to provide familiarity with this notation. Therefore, we will focus more on using `.loc` for selection which is a more powerful and explicit indexer.\n",
    "\n",
    "The integer below is the label for the index that will extract the row with index label 2."
   ]
  },
  {
   "cell_type": "code",
   "execution_count": 19,
   "id": "2b5705dc",
   "metadata": {
    "scrolled": true
   },
   "outputs": [
    {
     "data": {
      "text/plain": [
       "DATESTOP                          1/1/21\n",
       "TIMESTOP                            8:50\n",
       "DURATION                               4\n",
       "OFFNAME               STEPHANIE ORTIGARA\n",
       "OFFBDGE                          18302.0\n",
       "CITY_I                           CHICAGO\n",
       "STATE                                 IL\n",
       "VEHMAKE                             FORD\n",
       "VEHYEAR                           2007.0\n",
       "YRBIRTH                             1967\n",
       "DRSEX                                  1\n",
       "DRRACE                               2.0\n",
       "REASSTOP                             3.0\n",
       "TYPEMOV                              NaN\n",
       "RESSTOP                                3\n",
       "BEAT_I                               332\n",
       "VEHCONSREQ                             2\n",
       "VEHCONSGIV                             0\n",
       "VEHSRCHCOND                            2\n",
       "VEHSRCHCONDBY                          0\n",
       "VEHCONTRA                              0\n",
       "VEHDRUGS                               0\n",
       "VEHPARA                                0\n",
       "VEHALC                                 0\n",
       "VEHWEAP                                0\n",
       "VEHSTOLPROP                            0\n",
       "VEHOTHER                               0\n",
       "VEHDRAMT                               0\n",
       "DRCONSREQ                              2\n",
       "DRCONSGIV                              0\n",
       "DRVSRCHCOND                            2\n",
       "DRVSRCHCONDBY                          0\n",
       "PASSCONSREQ                            2\n",
       "PASSCONSGIV                            0\n",
       "PASSSRCHCOND                           2\n",
       "PASSSRCHCONDBY                         0\n",
       "PASSDRVCONTRA                          0\n",
       "PASSDRVDRUGS                           0\n",
       "PASSDRVPARA                            0\n",
       "PASSDRVALC                             0\n",
       "PASSDRVWEAP                            0\n",
       "PASSDRVSTOLPROP                        0\n",
       "PASSDRVOTHER                           0\n",
       "PASSDRVDRAMT                           0\n",
       "DOGPERFSNIFF                           2\n",
       "DOGALERT                               0\n",
       "DOGALERTSRCH                           0\n",
       "DOGALERTSRCHCONTRA                     0\n",
       "DOGDRUG                                0\n",
       "DOGPARA                                0\n",
       "DOGALC                                 0\n",
       "DOGWEAP                                0\n",
       "DOGSTOLPROP                            0\n",
       "DOGOTHER                               0\n",
       "DOGDRAMT                               0\n",
       "Name: 2, dtype: object"
      ]
     },
     "execution_count": 19,
     "metadata": {},
     "output_type": "execute_result"
    }
   ],
   "source": [
    "stops_df.loc[2]"
   ]
  },
  {
   "cell_type": "markdown",
   "id": "58dcb164",
   "metadata": {},
   "source": [
    "We can also print out a set of rows using slices. `:2` refers to index in the the range 0 to 2, a shorthand for `0:2`. \n",
    "\n",
    "Note that the index labels are interger in this DataFrame. This method also works well with non-integer index. For eg. we can also using slicing for sting labels. In that case, pandas will return all the rows in between the rows whose labels are specified in the slice, including the specified rows as well."
   ]
  },
  {
   "cell_type": "code",
   "execution_count": 20,
   "id": "690293d0",
   "metadata": {},
   "outputs": [
    {
     "data": {
      "text/html": [
       "<div>\n",
       "<style scoped>\n",
       "    .dataframe tbody tr th:only-of-type {\n",
       "        vertical-align: middle;\n",
       "    }\n",
       "\n",
       "    .dataframe tbody tr th {\n",
       "        vertical-align: top;\n",
       "    }\n",
       "\n",
       "    .dataframe thead th {\n",
       "        text-align: right;\n",
       "    }\n",
       "</style>\n",
       "<table border=\"1\" class=\"dataframe\">\n",
       "  <thead>\n",
       "    <tr style=\"text-align: right;\">\n",
       "      <th></th>\n",
       "      <th>DATESTOP</th>\n",
       "      <th>TIMESTOP</th>\n",
       "      <th>DURATION</th>\n",
       "      <th>OFFNAME</th>\n",
       "      <th>OFFBDGE</th>\n",
       "      <th>CITY_I</th>\n",
       "      <th>STATE</th>\n",
       "      <th>VEHMAKE</th>\n",
       "      <th>VEHYEAR</th>\n",
       "      <th>YRBIRTH</th>\n",
       "      <th>...</th>\n",
       "      <th>DOGALERT</th>\n",
       "      <th>DOGALERTSRCH</th>\n",
       "      <th>DOGALERTSRCHCONTRA</th>\n",
       "      <th>DOGDRUG</th>\n",
       "      <th>DOGPARA</th>\n",
       "      <th>DOGALC</th>\n",
       "      <th>DOGWEAP</th>\n",
       "      <th>DOGSTOLPROP</th>\n",
       "      <th>DOGOTHER</th>\n",
       "      <th>DOGDRAMT</th>\n",
       "    </tr>\n",
       "  </thead>\n",
       "  <tbody>\n",
       "    <tr>\n",
       "      <th>0</th>\n",
       "      <td>1/1/21</td>\n",
       "      <td>0:33</td>\n",
       "      <td>5</td>\n",
       "      <td>FIDEL LEGORRETA</td>\n",
       "      <td>5902.0</td>\n",
       "      <td>CHICAGO</td>\n",
       "      <td>IL</td>\n",
       "      <td>CHEVROLET</td>\n",
       "      <td>2017.0</td>\n",
       "      <td>1993</td>\n",
       "      <td>...</td>\n",
       "      <td>0</td>\n",
       "      <td>0</td>\n",
       "      <td>0</td>\n",
       "      <td>0</td>\n",
       "      <td>0</td>\n",
       "      <td>0</td>\n",
       "      <td>0</td>\n",
       "      <td>0</td>\n",
       "      <td>0</td>\n",
       "      <td>0</td>\n",
       "    </tr>\n",
       "    <tr>\n",
       "      <th>1</th>\n",
       "      <td>1/1/21</td>\n",
       "      <td>1:50</td>\n",
       "      <td>4</td>\n",
       "      <td>VICTOR PEREZ</td>\n",
       "      <td>7383.0</td>\n",
       "      <td>CHICAGO</td>\n",
       "      <td>IL</td>\n",
       "      <td>FORD</td>\n",
       "      <td>2012.0</td>\n",
       "      <td>1957</td>\n",
       "      <td>...</td>\n",
       "      <td>0</td>\n",
       "      <td>0</td>\n",
       "      <td>0</td>\n",
       "      <td>0</td>\n",
       "      <td>0</td>\n",
       "      <td>0</td>\n",
       "      <td>0</td>\n",
       "      <td>0</td>\n",
       "      <td>0</td>\n",
       "      <td>0</td>\n",
       "    </tr>\n",
       "    <tr>\n",
       "      <th>2</th>\n",
       "      <td>1/1/21</td>\n",
       "      <td>8:50</td>\n",
       "      <td>4</td>\n",
       "      <td>STEPHANIE ORTIGARA</td>\n",
       "      <td>18302.0</td>\n",
       "      <td>CHICAGO</td>\n",
       "      <td>IL</td>\n",
       "      <td>FORD</td>\n",
       "      <td>2007.0</td>\n",
       "      <td>1967</td>\n",
       "      <td>...</td>\n",
       "      <td>0</td>\n",
       "      <td>0</td>\n",
       "      <td>0</td>\n",
       "      <td>0</td>\n",
       "      <td>0</td>\n",
       "      <td>0</td>\n",
       "      <td>0</td>\n",
       "      <td>0</td>\n",
       "      <td>0</td>\n",
       "      <td>0</td>\n",
       "    </tr>\n",
       "  </tbody>\n",
       "</table>\n",
       "<p>3 rows × 55 columns</p>\n",
       "</div>"
      ],
      "text/plain": [
       "  DATESTOP TIMESTOP  DURATION             OFFNAME  OFFBDGE   CITY_I STATE  \\\n",
       "0   1/1/21     0:33         5     FIDEL LEGORRETA   5902.0  CHICAGO    IL   \n",
       "1   1/1/21     1:50         4        VICTOR PEREZ   7383.0  CHICAGO    IL   \n",
       "2   1/1/21     8:50         4  STEPHANIE ORTIGARA  18302.0  CHICAGO    IL   \n",
       "\n",
       "     VEHMAKE  VEHYEAR  YRBIRTH  ...  DOGALERT  DOGALERTSRCH  \\\n",
       "0  CHEVROLET   2017.0     1993  ...         0             0   \n",
       "1       FORD   2012.0     1957  ...         0             0   \n",
       "2       FORD   2007.0     1967  ...         0             0   \n",
       "\n",
       "   DOGALERTSRCHCONTRA  DOGDRUG  DOGPARA  DOGALC  DOGWEAP  DOGSTOLPROP  \\\n",
       "0                   0        0        0       0        0            0   \n",
       "1                   0        0        0       0        0            0   \n",
       "2                   0        0        0       0        0            0   \n",
       "\n",
       "   DOGOTHER  DOGDRAMT  \n",
       "0         0         0  \n",
       "1         0         0  \n",
       "2         0         0  \n",
       "\n",
       "[3 rows x 55 columns]"
      ]
     },
     "execution_count": 20,
     "metadata": {},
     "output_type": "execute_result"
    }
   ],
   "source": [
    "stops_df.loc[:2]"
   ]
  },
  {
   "cell_type": "markdown",
   "id": "da774f34",
   "metadata": {},
   "source": [
    "Using the `.loc` attribute, we can also select the second dimension (column for a DataFrame). In the cell below, we are selecting all rows and the 'OFFNAME' column."
   ]
  },
  {
   "cell_type": "code",
   "execution_count": 21,
   "id": "c5964930",
   "metadata": {},
   "outputs": [
    {
     "data": {
      "text/plain": [
       "0            FIDEL LEGORRETA\n",
       "1               VICTOR PEREZ\n",
       "2         STEPHANIE ORTIGARA\n",
       "3               JASON ARROYO\n",
       "4                MONTY OWENS\n",
       "                 ...        \n",
       "377894       MATTHEW DRINNAN\n",
       "377895       EMMANUEL GARCIA\n",
       "377896            LUIS NUNEZ\n",
       "377897     GUSTAVO DOMINGUEZ\n",
       "377898      FRANK GIANAKAKIS\n",
       "Name: OFFNAME, Length: 377899, dtype: object"
      ]
     },
     "execution_count": 21,
     "metadata": {},
     "output_type": "execute_result"
    }
   ],
   "source": [
    "stops_df.loc[: ,'OFFNAME']"
   ]
  },
  {
   "cell_type": "markdown",
   "id": "d6d03b8e",
   "metadata": {},
   "source": [
    "By specifying a single value in both the dimensions, we can select the specific cell as well."
   ]
  },
  {
   "cell_type": "code",
   "execution_count": 22,
   "id": "04abda64",
   "metadata": {},
   "outputs": [
    {
     "data": {
      "text/plain": [
       "'MONTY OWENS'"
      ]
     },
     "execution_count": 22,
     "metadata": {},
     "output_type": "execute_result"
    }
   ],
   "source": [
    "stops_df.loc[5 ,'OFFNAME']"
   ]
  },
  {
   "cell_type": "markdown",
   "id": "2edde152",
   "metadata": {},
   "source": [
    "Or select a range of rows over multiple columns."
   ]
  },
  {
   "cell_type": "code",
   "execution_count": 23,
   "id": "4b82f7f9",
   "metadata": {},
   "outputs": [
    {
     "data": {
      "text/html": [
       "<div>\n",
       "<style scoped>\n",
       "    .dataframe tbody tr th:only-of-type {\n",
       "        vertical-align: middle;\n",
       "    }\n",
       "\n",
       "    .dataframe tbody tr th {\n",
       "        vertical-align: top;\n",
       "    }\n",
       "\n",
       "    .dataframe thead th {\n",
       "        text-align: right;\n",
       "    }\n",
       "</style>\n",
       "<table border=\"1\" class=\"dataframe\">\n",
       "  <thead>\n",
       "    <tr style=\"text-align: right;\">\n",
       "      <th></th>\n",
       "      <th>OFFNAME</th>\n",
       "      <th>DRSEX</th>\n",
       "    </tr>\n",
       "  </thead>\n",
       "  <tbody>\n",
       "    <tr>\n",
       "      <th>55</th>\n",
       "      <td>ESTEBAN PEREZ</td>\n",
       "      <td>1</td>\n",
       "    </tr>\n",
       "    <tr>\n",
       "      <th>56</th>\n",
       "      <td>BRENDAN CIMAGLIA</td>\n",
       "      <td>1</td>\n",
       "    </tr>\n",
       "    <tr>\n",
       "      <th>57</th>\n",
       "      <td>RAUL GONZALEZ</td>\n",
       "      <td>1</td>\n",
       "    </tr>\n",
       "    <tr>\n",
       "      <th>58</th>\n",
       "      <td>HAMZEH SUWI</td>\n",
       "      <td>2</td>\n",
       "    </tr>\n",
       "    <tr>\n",
       "      <th>59</th>\n",
       "      <td>JESSICA BAUTISTA</td>\n",
       "      <td>2</td>\n",
       "    </tr>\n",
       "    <tr>\n",
       "      <th>60</th>\n",
       "      <td>NAWACHUD BURAKETRACHAKUL</td>\n",
       "      <td>2</td>\n",
       "    </tr>\n",
       "  </tbody>\n",
       "</table>\n",
       "</div>"
      ],
      "text/plain": [
       "                     OFFNAME  DRSEX\n",
       "55             ESTEBAN PEREZ      1\n",
       "56          BRENDAN CIMAGLIA      1\n",
       "57             RAUL GONZALEZ      1\n",
       "58               HAMZEH SUWI      2\n",
       "59          JESSICA BAUTISTA      2\n",
       "60  NAWACHUD BURAKETRACHAKUL      2"
      ]
     },
     "execution_count": 23,
     "metadata": {},
     "output_type": "execute_result"
    }
   ],
   "source": [
    "stops_df.loc[55:60, ['OFFNAME','DRSEX']]"
   ]
  },
  {
   "cell_type": "markdown",
   "id": "b92d939b",
   "metadata": {},
   "source": [
    "The selection can also be a list of indices rather than a range."
   ]
  },
  {
   "cell_type": "code",
   "execution_count": 24,
   "id": "d11e6580",
   "metadata": {},
   "outputs": [
    {
     "data": {
      "text/html": [
       "<div>\n",
       "<style scoped>\n",
       "    .dataframe tbody tr th:only-of-type {\n",
       "        vertical-align: middle;\n",
       "    }\n",
       "\n",
       "    .dataframe tbody tr th {\n",
       "        vertical-align: top;\n",
       "    }\n",
       "\n",
       "    .dataframe thead th {\n",
       "        text-align: right;\n",
       "    }\n",
       "</style>\n",
       "<table border=\"1\" class=\"dataframe\">\n",
       "  <thead>\n",
       "    <tr style=\"text-align: right;\">\n",
       "      <th></th>\n",
       "      <th>OFFNAME</th>\n",
       "      <th>DRSEX</th>\n",
       "    </tr>\n",
       "  </thead>\n",
       "  <tbody>\n",
       "    <tr>\n",
       "      <th>55</th>\n",
       "      <td>ESTEBAN PEREZ</td>\n",
       "      <td>1</td>\n",
       "    </tr>\n",
       "    <tr>\n",
       "      <th>78</th>\n",
       "      <td>MICHAEL MANNION</td>\n",
       "      <td>1</td>\n",
       "    </tr>\n",
       "    <tr>\n",
       "      <th>903</th>\n",
       "      <td>LUIS HUESCA</td>\n",
       "      <td>2</td>\n",
       "    </tr>\n",
       "  </tbody>\n",
       "</table>\n",
       "</div>"
      ],
      "text/plain": [
       "             OFFNAME  DRSEX\n",
       "55     ESTEBAN PEREZ      1\n",
       "78   MICHAEL MANNION      1\n",
       "903      LUIS HUESCA      2"
      ]
     },
     "execution_count": 24,
     "metadata": {},
     "output_type": "execute_result"
    }
   ],
   "source": [
    "stops_df.loc[[55,78,903], ['OFFNAME','DRSEX']]"
   ]
  },
  {
   "cell_type": "markdown",
   "id": "20f3042f",
   "metadata": {},
   "source": [
    "Another useful approach that comes handy when performing data manipulation operations is selection using boolean operators. In the cell below, before the comparision operator, we are subsetting the DataFrame to return all rows in the 'DURATION' column. We are then comparing the 'DURATION' value and returning `True` if the value is strictly less than 5. This returns a boolean array. "
   ]
  },
  {
   "cell_type": "code",
   "execution_count": 25,
   "id": "b1559fff",
   "metadata": {},
   "outputs": [
    {
     "data": {
      "text/plain": [
       "0         False\n",
       "1          True\n",
       "2          True\n",
       "3         False\n",
       "4         False\n",
       "          ...  \n",
       "377894     True\n",
       "377895    False\n",
       "377896    False\n",
       "377897     True\n",
       "377898     True\n",
       "Name: DURATION, Length: 377899, dtype: bool"
      ]
     },
     "execution_count": 25,
     "metadata": {},
     "output_type": "execute_result"
    }
   ],
   "source": [
    "stops_df.loc[:, 'DURATION'] < 5"
   ]
  },
  {
   "cell_type": "markdown",
   "id": "7d7d766e",
   "metadata": {},
   "source": [
    "The above comparision operation can then be used to filter out rows that are True for the above case. In the cell below, we are using the same comparision operation to return cells from the entire DataFrame that have a stop duration of less than 5. Notice, we are then subsetting it to only provide Officer's Names of those rows."
   ]
  },
  {
   "cell_type": "code",
   "execution_count": 26,
   "id": "eda311c3",
   "metadata": {},
   "outputs": [
    {
     "data": {
      "text/plain": [
       "1               VICTOR PEREZ\n",
       "2         STEPHANIE ORTIGARA\n",
       "5                MONTY OWENS\n",
       "8                CARLOS MOTA\n",
       "9            MARCUS LYLES JR\n",
       "                 ...        \n",
       "377891         JOSEPH ALFARO\n",
       "377892       KRYSTAL TROTTER\n",
       "377894       MATTHEW DRINNAN\n",
       "377897     GUSTAVO DOMINGUEZ\n",
       "377898      FRANK GIANAKAKIS\n",
       "Name: OFFNAME, Length: 198861, dtype: object"
      ]
     },
     "execution_count": 26,
     "metadata": {},
     "output_type": "execute_result"
    }
   ],
   "source": [
    "stops_df.loc[stops_df.loc[:,'DURATION'] < 5, 'OFFNAME']"
   ]
  },
  {
   "cell_type": "markdown",
   "id": "28c0e482",
   "metadata": {},
   "source": [
    "Another form of selection that we introduced is Selection by Position using `.iloc`. This attribute is a form of indexing using integers that mark position of the cell. "
   ]
  },
  {
   "cell_type": "code",
   "execution_count": 27,
   "id": "594c2d19",
   "metadata": {
    "scrolled": true
   },
   "outputs": [
    {
     "data": {
      "text/plain": [
       "DATESTOP                        1/1/21\n",
       "TIMESTOP                         17:26\n",
       "DURATION                             2\n",
       "OFFNAME                    CARLOS MOTA\n",
       "OFFBDGE                         3548.0\n",
       "CITY_I                GLENDALE HEIGHTS\n",
       "STATE                               IL\n",
       "VEHMAKE                          LEXUS\n",
       "VEHYEAR                         2014.0\n",
       "YRBIRTH                           1980\n",
       "DRSEX                                1\n",
       "DRRACE                             5.0\n",
       "REASSTOP                           1.0\n",
       "TYPEMOV                            6.0\n",
       "RESSTOP                              3\n",
       "BEAT_I                            1824\n",
       "VEHCONSREQ                           2\n",
       "VEHCONSGIV                           0\n",
       "VEHSRCHCOND                          2\n",
       "VEHSRCHCONDBY                        0\n",
       "VEHCONTRA                            0\n",
       "VEHDRUGS                             0\n",
       "VEHPARA                              0\n",
       "VEHALC                               0\n",
       "VEHWEAP                              0\n",
       "VEHSTOLPROP                          0\n",
       "VEHOTHER                             0\n",
       "VEHDRAMT                             0\n",
       "DRCONSREQ                            2\n",
       "DRCONSGIV                            0\n",
       "DRVSRCHCOND                          2\n",
       "DRVSRCHCONDBY                        0\n",
       "PASSCONSREQ                          2\n",
       "PASSCONSGIV                          0\n",
       "PASSSRCHCOND                         2\n",
       "PASSSRCHCONDBY                       0\n",
       "PASSDRVCONTRA                        0\n",
       "PASSDRVDRUGS                         0\n",
       "PASSDRVPARA                          0\n",
       "PASSDRVALC                           0\n",
       "PASSDRVWEAP                          0\n",
       "PASSDRVSTOLPROP                      0\n",
       "PASSDRVOTHER                         0\n",
       "PASSDRVDRAMT                         0\n",
       "DOGPERFSNIFF                         2\n",
       "DOGALERT                             0\n",
       "DOGALERTSRCH                         0\n",
       "DOGALERTSRCHCONTRA                   0\n",
       "DOGDRUG                              0\n",
       "DOGPARA                              0\n",
       "DOGALC                               0\n",
       "DOGWEAP                              0\n",
       "DOGSTOLPROP                          0\n",
       "DOGOTHER                             0\n",
       "DOGDRAMT                             0\n",
       "Name: 8, dtype: object"
      ]
     },
     "execution_count": 27,
     "metadata": {},
     "output_type": "execute_result"
    }
   ],
   "source": [
    "stops_df.iloc[8]"
   ]
  },
  {
   "cell_type": "markdown",
   "id": "c0fe2355",
   "metadata": {},
   "source": [
    "In the case of this dataset, index labels are sorted integers which is the same as the index position as well, therefore, in this specific case, using wither `.loc` or `.iloc` will return the same set of rows. However, since we have string labels for eac column, we will have to provide integer values that mark the position of the column in the DataFrame. Providing column name or any non-integer value in `.iloc` will return an error.\n",
    "\n",
    "In the cell below, we are selecting rows 2 till 6, with 2 included, and selecting the 4th column ('DURATION' is at position 4)."
   ]
  },
  {
   "cell_type": "code",
   "execution_count": 28,
   "id": "ba07f8c1",
   "metadata": {},
   "outputs": [
    {
     "data": {
      "text/plain": [
       "2    18302.0\n",
       "3    14502.0\n",
       "4    11975.0\n",
       "5    11975.0\n",
       "Name: OFFBDGE, dtype: float64"
      ]
     },
     "execution_count": 28,
     "metadata": {},
     "output_type": "execute_result"
    }
   ],
   "source": [
    "stops_df.iloc[2:6, 4]"
   ]
  },
  {
   "cell_type": "markdown",
   "id": "43e91d78",
   "metadata": {},
   "source": [
    "We can also select a range for rows as well as for columns."
   ]
  },
  {
   "cell_type": "code",
   "execution_count": 29,
   "id": "7c6a8824",
   "metadata": {},
   "outputs": [
    {
     "data": {
      "text/html": [
       "<div>\n",
       "<style scoped>\n",
       "    .dataframe tbody tr th:only-of-type {\n",
       "        vertical-align: middle;\n",
       "    }\n",
       "\n",
       "    .dataframe tbody tr th {\n",
       "        vertical-align: top;\n",
       "    }\n",
       "\n",
       "    .dataframe thead th {\n",
       "        text-align: right;\n",
       "    }\n",
       "</style>\n",
       "<table border=\"1\" class=\"dataframe\">\n",
       "  <thead>\n",
       "    <tr style=\"text-align: right;\">\n",
       "      <th></th>\n",
       "      <th>OFFBDGE</th>\n",
       "      <th>CITY_I</th>\n",
       "      <th>STATE</th>\n",
       "      <th>VEHMAKE</th>\n",
       "    </tr>\n",
       "  </thead>\n",
       "  <tbody>\n",
       "    <tr>\n",
       "      <th>2</th>\n",
       "      <td>18302.0</td>\n",
       "      <td>CHICAGO</td>\n",
       "      <td>IL</td>\n",
       "      <td>FORD</td>\n",
       "    </tr>\n",
       "    <tr>\n",
       "      <th>3</th>\n",
       "      <td>14502.0</td>\n",
       "      <td>CHICAGO</td>\n",
       "      <td>IL</td>\n",
       "      <td>BMW</td>\n",
       "    </tr>\n",
       "    <tr>\n",
       "      <th>4</th>\n",
       "      <td>11975.0</td>\n",
       "      <td>CHICAGO</td>\n",
       "      <td>IL</td>\n",
       "      <td>TOYOTA</td>\n",
       "    </tr>\n",
       "    <tr>\n",
       "      <th>5</th>\n",
       "      <td>11975.0</td>\n",
       "      <td>CHICAGO</td>\n",
       "      <td>IL</td>\n",
       "      <td>HONDA</td>\n",
       "    </tr>\n",
       "  </tbody>\n",
       "</table>\n",
       "</div>"
      ],
      "text/plain": [
       "   OFFBDGE   CITY_I STATE VEHMAKE\n",
       "2  18302.0  CHICAGO    IL    FORD\n",
       "3  14502.0  CHICAGO    IL     BMW\n",
       "4  11975.0  CHICAGO    IL  TOYOTA\n",
       "5  11975.0  CHICAGO    IL   HONDA"
      ]
     },
     "execution_count": 29,
     "metadata": {},
     "output_type": "execute_result"
    }
   ],
   "source": [
    "stops_df.iloc[2:6, 4:8]"
   ]
  },
  {
   "cell_type": "markdown",
   "id": "556deff6",
   "metadata": {},
   "source": [
    "Note: Out of range slice indexes are handled gracefully just as in Python. It will not return an error but will return everything in the range apart from the our of range slices. If the entire slice index is out of range, Python will return empty list.\n"
   ]
  },
  {
   "cell_type": "markdown",
   "id": "fe4e672c",
   "metadata": {},
   "source": [
    "### Data types and conversion"
   ]
  },
  {
   "cell_type": "markdown",
   "id": "c9b93361",
   "metadata": {},
   "source": [
    "We saw above how the attribute `dtypes` provides us with the the data type for each column in a DataFrame. Pandas has a set of data types that it understands and manipulates. It also includes a set of extended types from third-party libraries that have implemented this extension.\n",
    "\n",
    "We will touch upon the most basic and common ones that you saw in the result returned from running the command `stops_df.dtypes`. In brief, they include:\n",
    "\n",
    "- integer: default integer types are int64 (called nullable integers too)\n",
    "- float: default float types are float64\n",
    "- boolean: stores boolean data (True/False) with missing values\n",
    "- date/time: datetime64[ns] format timestamp\n",
    "- object:  holds any Python object, including strings\n",
    "- string: dedicated to strings\n",
    "- category: stores limited, fixed number of possible values\n",
    "\n",
    "We can print the data types for the stops DataFrame again and can see that by default, Pandas doesn't interpret all data types correctly in the form that can be useful for us. For eg. DATESTOP and TIMESTOP are object types (stored as strings) and will prevent us from performing several temporal operations. (We will cover datetime in detail in the following section)\n",
    "\n",
    "Similarly, DRRACE and DRSEX, which indicates the category of the Driver's Race and Sex, respectively. However, since these categories are assigned float and integer, respectively, this can mislead our analytical process and any prediction we might want to make."
   ]
  },
  {
   "cell_type": "code",
   "execution_count": 30,
   "id": "6f6fac41",
   "metadata": {
    "scrolled": true
   },
   "outputs": [
    {
     "data": {
      "text/plain": [
       "DATESTOP     object\n",
       "TIMESTOP     object\n",
       "DURATION      int64\n",
       "OFFNAME      object\n",
       "OFFBDGE     float64\n",
       "CITY_I       object\n",
       "STATE        object\n",
       "VEHMAKE      object\n",
       "VEHYEAR     float64\n",
       "YRBIRTH       int64\n",
       "DRSEX         int64\n",
       "DRRACE      float64\n",
       "REASSTOP    float64\n",
       "TYPEMOV     float64\n",
       "RESSTOP       int64\n",
       "dtype: object"
      ]
     },
     "execution_count": 30,
     "metadata": {},
     "output_type": "execute_result"
    }
   ],
   "source": [
    "stops_df.iloc[:, :15].dtypes"
   ]
  },
  {
   "cell_type": "markdown",
   "id": "4a7c1956",
   "metadata": {},
   "source": [
    "The `astype` method enables us to convert data types to the desired ones. A convenient way of performing this operation is to pass a dictionary with the column name whose type needs to be changed as key and the desired data type as value. We are then assigning the returned result to the original DataFrame to replace it with these new changes."
   ]
  },
  {
   "cell_type": "code",
   "execution_count": 31,
   "id": "8d00d73d",
   "metadata": {
    "scrolled": true
   },
   "outputs": [],
   "source": [
    "stops_df = stops_df.astype({'OFFBDGE': 'object', 'DRRACE': 'category'})"
   ]
  },
  {
   "cell_type": "markdown",
   "id": "1177708d",
   "metadata": {},
   "source": [
    "Let's use `dtypes` to check the new assigned data types"
   ]
  },
  {
   "cell_type": "code",
   "execution_count": 33,
   "id": "2af01a2e",
   "metadata": {},
   "outputs": [
    {
     "data": {
      "text/plain": [
       "DATESTOP      object\n",
       "TIMESTOP      object\n",
       "DURATION       int64\n",
       "OFFNAME       object\n",
       "OFFBDGE       object\n",
       "CITY_I        object\n",
       "STATE         object\n",
       "VEHMAKE       object\n",
       "VEHYEAR      float64\n",
       "YRBIRTH        int64\n",
       "DRSEX          int64\n",
       "DRRACE      category\n",
       "REASSTOP     float64\n",
       "TYPEMOV      float64\n",
       "RESSTOP        int64\n",
       "dtype: object"
      ]
     },
     "execution_count": 33,
     "metadata": {},
     "output_type": "execute_result"
    }
   ],
   "source": [
    "stops_df.iloc[:, :15].dtypes"
   ]
  },
  {
   "cell_type": "markdown",
   "id": "ac83af82",
   "metadata": {},
   "source": [
    "### Datetime in Pandas"
   ]
  },
  {
   "cell_type": "markdown",
   "id": "37550fdb",
   "metadata": {},
   "source": [
    "Temporal data (consisting of date and time stamps) is highly useful in data analytics and can result in useful features. Pandas offers the ability to parse time series information from various sources and formats. This can enable us to perform several operations on datetime values such as sorting, predicting or categorizing data by certain time periods.\n",
    "\n",
    "One of the most convenient formats for datetime that Pandas uses is referred to as Date times which is a specific date and time with timezone support. You can notice that this is in the form of datetime64[ns].\n",
    "\n",
    "Series and DataFrame have extended data type support and functionality for datetime. To convert object of in a DataFrame to date-like objects  we will use the to_datetime function"
   ]
  },
  {
   "cell_type": "code",
   "execution_count": 35,
   "id": "031f3313",
   "metadata": {},
   "outputs": [
    {
     "data": {
      "text/plain": [
       "Timestamp('2010-11-12 00:00:00')"
      ]
     },
     "execution_count": 35,
     "metadata": {},
     "output_type": "execute_result"
    }
   ],
   "source": [
    "pd.to_datetime(\"2010/11/12\", format=\"%Y/%m/%d\")"
   ]
  },
  {
   "cell_type": "markdown",
   "id": "7d97815e",
   "metadata": {},
   "source": [
    "Using it on the stops DataFrame, we get the following result. We will then assign it back to the original DataFrame."
   ]
  },
  {
   "cell_type": "code",
   "execution_count": 39,
   "id": "a2f4ba22",
   "metadata": {},
   "outputs": [
    {
     "data": {
      "text/plain": [
       "0        2021-01-01\n",
       "1        2021-01-01\n",
       "2        2021-01-01\n",
       "3        2021-01-01\n",
       "4        2021-01-01\n",
       "            ...    \n",
       "377894   2021-12-30\n",
       "377895   2021-12-31\n",
       "377896   2021-12-31\n",
       "377897   2021-12-31\n",
       "377898   2021-12-31\n",
       "Name: DATESTOP, Length: 377899, dtype: datetime64[ns]"
      ]
     },
     "execution_count": 39,
     "metadata": {},
     "output_type": "execute_result"
    }
   ],
   "source": [
    "pd.to_datetime(stops_df['DATESTOP'])"
   ]
  },
  {
   "cell_type": "markdown",
   "id": "a402b08c",
   "metadata": {},
   "source": [
    "In addition to the required datetime string, a format argument can be passed to ensure specific parsing. This could also potentially speed up the conversion considerably."
   ]
  },
  {
   "cell_type": "markdown",
   "id": "f831f1f2",
   "metadata": {},
   "source": [
    "There are several time/date properties that one can access from Timestamp or a collection of timestamps like a DatetimeIndex. We will use one such way to extract month out of our dataset."
   ]
  },
  {
   "cell_type": "code",
   "execution_count": 41,
   "id": "bee284a2",
   "metadata": {},
   "outputs": [
    {
     "data": {
      "text/plain": [
       "0          1\n",
       "1          1\n",
       "2          1\n",
       "3          1\n",
       "4          1\n",
       "          ..\n",
       "377894    12\n",
       "377895    12\n",
       "377896    12\n",
       "377897    12\n",
       "377898    12\n",
       "Name: DATESTOP, Length: 377899, dtype: int64"
      ]
     },
     "execution_count": 41,
     "metadata": {},
     "output_type": "execute_result"
    }
   ],
   "source": [
    "pd.to_datetime(stops_df['DATESTOP']).dt.month"
   ]
  }
 ],
 "metadata": {
  "kernelspec": {
   "display_name": "Python 3 (ipykernel)",
   "language": "python",
   "name": "python3"
  },
  "language_info": {
   "codemirror_mode": {
    "name": "ipython",
    "version": 3
   },
   "file_extension": ".py",
   "mimetype": "text/x-python",
   "name": "python",
   "nbconvert_exporter": "python",
   "pygments_lexer": "ipython3",
   "version": "3.9.12"
  }
 },
 "nbformat": 4,
 "nbformat_minor": 5
}
