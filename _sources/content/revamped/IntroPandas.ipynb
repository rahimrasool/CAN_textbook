{
 "cells": [
  {
   "cell_type": "markdown",
   "id": "f8fc6ce7",
   "metadata": {},
   "source": [
    "# Introduction to Pandas "
   ]
  },
  {
   "cell_type": "markdown",
   "id": "431c7277",
   "metadata": {},
   "source": [
    "For doing data analysis and manipulation in Python, Pandas is one of the most powerful, resourceful and easy to begin with packages. It consists of data structures and functions and can assist us with doing a huge set of tasks for analytical work. In order to use these resources, Pandas needs to be loaded using the **import** command, as shown below, for it to be used in our script. We can also define an alias for Pandas (we used pd) as we are going to use Pandas' modules multiple times in our code.\n",
    "\n",
    "<img src=\"https://pandas.pydata.org/docs/_static/pandas.svg\" width=\"200\"/>"
   ]
  },
  {
   "cell_type": "markdown",
   "id": "92491b20",
   "metadata": {},
   "source": [
    "A little note about Pandas is that it uses object-oriented notations. No need to worry if you are not familiar with this concept. However, getting a high-level intuition about object-oriented programming (OOP) is going to be helpful in understanding how Pandas work. All data structures that store our data in the program are a form of Pandas objects defined by a blueprint called Class. For example, a DataFrame (to be discussed below) is a data-structure to store data in a format similar to spreadsheet. We can create a DataFrame object to store a table of our dataset and this object will have multiple methods and functions that operate on this object.\n",
    "\n",
    "Pandas comes usually installed with Jupyter environments like the one you are using here. If pandas is installed, you can check the current version of Pandas by using the ```pd.__version__``` command after the import command below:\n",
    "\n",
    "*Note: pd is an alias for pandas*"
   ]
  },
  {
   "cell_type": "code",
   "execution_count": 1,
   "id": "2dbb932b",
   "metadata": {},
   "outputs": [
    {
     "data": {
      "text/plain": [
       "'1.4.2'"
      ]
     },
     "execution_count": 1,
     "metadata": {},
     "output_type": "execute_result"
    }
   ],
   "source": [
    "import pandas as pd\n",
    "pd.__version__"
   ]
  },
  {
   "cell_type": "markdown",
   "id": "c36d8293",
   "metadata": {},
   "source": [
    "### Data Structures in Pandas"
   ]
  },
  {
   "cell_type": "markdown",
   "id": "37ae8ac6",
   "metadata": {},
   "source": [
    "We will learn the 2 fundamental data structures in Pandas: **Series** and **DataFrames**. \n",
    "\n",
    "<img src=\"series.png\" width=\"300\"/>"
   ]
  },
  {
   "cell_type": "markdown",
   "id": "202fe57f",
   "metadata": {},
   "source": [
    "**Series** is a one-dimensional array which can hold data of various types. Series are labelled where an index labels each element on the axis. Each index element has to be unique. Series can be created out from a list, a python dictionary or even a scalar value. A pandas Series has a single dtype.\n",
    "\n",
    "Below, we will go through 2 of the ways to create a Pandas Series. The method below creates a Series out of a Python dictionary."
   ]
  },
  {
   "cell_type": "code",
   "execution_count": 2,
   "id": "5d053047",
   "metadata": {},
   "outputs": [],
   "source": [
    "sample_dictionary = {'Mercury': 35, 'Venus': 67, 'Earth': 93}\n",
    "\n",
    "sample_series = pd.Series(sample_dictionary)"
   ]
  },
  {
   "cell_type": "code",
   "execution_count": 3,
   "id": "47c7e909",
   "metadata": {},
   "outputs": [
    {
     "data": {
      "text/plain": [
       "Mercury    35\n",
       "Venus      67\n",
       "Earth      93\n",
       "dtype: int64"
      ]
     },
     "execution_count": 3,
     "metadata": {},
     "output_type": "execute_result"
    }
   ],
   "source": [
    "# Print the series\n",
    "sample_series"
   ]
  },
  {
   "cell_type": "markdown",
   "id": "ab0e523d",
   "metadata": {},
   "source": [
    "Note: if we do not specify the index, the default numeric range will be given.\n",
    "\n",
    "We will now create a Series from a list, without giving the index. In the cell after that, we will provide the index while we create a Series out of a list."
   ]
  },
  {
   "cell_type": "code",
   "execution_count": 4,
   "id": "511030ef",
   "metadata": {},
   "outputs": [
    {
     "data": {
      "text/plain": [
       "0    35\n",
       "1    67\n",
       "2    93\n",
       "dtype: int64"
      ]
     },
     "execution_count": 4,
     "metadata": {},
     "output_type": "execute_result"
    }
   ],
   "source": [
    "sample_list = [35, 67, 93]\n",
    "\n",
    "sample_series = pd.Series(sample_list)\n",
    "\n",
    "sample_series"
   ]
  },
  {
   "cell_type": "code",
   "execution_count": 5,
   "id": "621ba53e",
   "metadata": {},
   "outputs": [
    {
     "data": {
      "text/plain": [
       "Mercury    35\n",
       "Venus      67\n",
       "Earth      93\n",
       "dtype: int64"
      ]
     },
     "execution_count": 5,
     "metadata": {},
     "output_type": "execute_result"
    }
   ],
   "source": [
    "sample_series = pd.Series(sample_list, index = ['Mercury', 'Venus', 'Earth'])\n",
    "\n",
    "sample_series"
   ]
  },
  {
   "cell_type": "markdown",
   "id": "6dbc529e",
   "metadata": {},
   "source": [
    "<hr style=\"border:2px solid gray\">\n",
    "\n",
    "Unlike Series, **DataFrames** are a multi-dimensional, consisting of row and columns. They are similar to a spreadsheet or a SQL table. Pandas provides all the functionality and methods to deal with data in the DataFrame. Each row in a DataFrame is labeled with an index, as in Series. Whereas, there are also labels for each column. In one of upcoming sections, we will also have a look at multi-level indexing for DataFrames.\n",
    "\n",
    "<img src=\"dataframe.png\" width=\"500\"/>\n",
    "\n",
    "There are several ways to create or form a DataFrame. A DataFrame can be made of one or multiple series combined. It can also be formed out of lists and dictionaries. In the first cell, we will create a DataFrame using a Dictionary of lists. \n",
    "\n",
    "In the examples below, we are creating data for site views (in thousands) on a website per browser every year."
   ]
  },
  {
   "cell_type": "code",
   "execution_count": 117,
   "id": "e8d57dbe",
   "metadata": {},
   "outputs": [
    {
     "data": {
      "text/html": [
       "<div>\n",
       "<style scoped>\n",
       "    .dataframe tbody tr th:only-of-type {\n",
       "        vertical-align: middle;\n",
       "    }\n",
       "\n",
       "    .dataframe tbody tr th {\n",
       "        vertical-align: top;\n",
       "    }\n",
       "\n",
       "    .dataframe thead th {\n",
       "        text-align: right;\n",
       "    }\n",
       "</style>\n",
       "<table border=\"1\" class=\"dataframe\">\n",
       "  <thead>\n",
       "    <tr style=\"text-align: right;\">\n",
       "      <th></th>\n",
       "      <th>Chrome</th>\n",
       "      <th>Safari</th>\n",
       "      <th>Firefox</th>\n",
       "    </tr>\n",
       "  </thead>\n",
       "  <tbody>\n",
       "    <tr>\n",
       "      <th>2018</th>\n",
       "      <td>67</td>\n",
       "      <td>44</td>\n",
       "      <td>8</td>\n",
       "    </tr>\n",
       "    <tr>\n",
       "      <th>2019</th>\n",
       "      <td>74</td>\n",
       "      <td>58</td>\n",
       "      <td>14</td>\n",
       "    </tr>\n",
       "    <tr>\n",
       "      <th>2020</th>\n",
       "      <td>89</td>\n",
       "      <td>70</td>\n",
       "      <td>16</td>\n",
       "    </tr>\n",
       "  </tbody>\n",
       "</table>\n",
       "</div>"
      ],
      "text/plain": [
       "      Chrome  Safari  Firefox\n",
       "2018      67      44        8\n",
       "2019      74      58       14\n",
       "2020      89      70       16"
      ]
     },
     "execution_count": 117,
     "metadata": {},
     "output_type": "execute_result"
    }
   ],
   "source": [
    "df = pd.DataFrame({\n",
    "    'Chrome': [67, 74, 89],\n",
    "    'Safari': [44, 58, 70],\n",
    "    'Firefox': [8, 14, 16]\n",
    "}, index = [2018, 2019, 2020])\n",
    "\n",
    "df"
   ]
  },
  {
   "cell_type": "markdown",
   "id": "71b2a595",
   "metadata": {},
   "source": [
    "Below we will create a DataFrame using a list of dictionaries."
   ]
  },
  {
   "cell_type": "code",
   "execution_count": 7,
   "id": "a9720520",
   "metadata": {},
   "outputs": [
    {
     "data": {
      "text/html": [
       "<div>\n",
       "<style scoped>\n",
       "    .dataframe tbody tr th:only-of-type {\n",
       "        vertical-align: middle;\n",
       "    }\n",
       "\n",
       "    .dataframe tbody tr th {\n",
       "        vertical-align: top;\n",
       "    }\n",
       "\n",
       "    .dataframe thead th {\n",
       "        text-align: right;\n",
       "    }\n",
       "</style>\n",
       "<table border=\"1\" class=\"dataframe\">\n",
       "  <thead>\n",
       "    <tr style=\"text-align: right;\">\n",
       "      <th></th>\n",
       "      <th>Chrome</th>\n",
       "      <th>Safari</th>\n",
       "      <th>Firefox</th>\n",
       "    </tr>\n",
       "  </thead>\n",
       "  <tbody>\n",
       "    <tr>\n",
       "      <th>0</th>\n",
       "      <td>67</td>\n",
       "      <td>44</td>\n",
       "      <td>8</td>\n",
       "    </tr>\n",
       "    <tr>\n",
       "      <th>1</th>\n",
       "      <td>74</td>\n",
       "      <td>58</td>\n",
       "      <td>14</td>\n",
       "    </tr>\n",
       "    <tr>\n",
       "      <th>2</th>\n",
       "      <td>89</td>\n",
       "      <td>70</td>\n",
       "      <td>16</td>\n",
       "    </tr>\n",
       "  </tbody>\n",
       "</table>\n",
       "</div>"
      ],
      "text/plain": [
       "   Chrome  Safari  Firefox\n",
       "0      67      44        8\n",
       "1      74      58       14\n",
       "2      89      70       16"
      ]
     },
     "execution_count": 7,
     "metadata": {},
     "output_type": "execute_result"
    }
   ],
   "source": [
    "df = pd.DataFrame(\n",
    "    [{\"Chrome\": 67, \"Safari\": 44, \"Firefox\":8 }, \n",
    "     {\"Chrome\": 74, \"Safari\": 58, \"Firefox\": 14},\n",
    "    {\"Chrome\": 89, \"Safari\": 70, \"Firefox\": 16}]\n",
    ")\n",
    "\n",
    "df"
   ]
  },
  {
   "cell_type": "markdown",
   "id": "70f7e74f",
   "metadata": {},
   "source": [
    "Note: If we do not provide the index, pandas defaults the index list to a range of integers beginning from 0.\n",
    "\n",
    "In the following cell we will create a DataFrame using a 2 dimensional list."
   ]
  },
  {
   "cell_type": "code",
   "execution_count": 8,
   "id": "04836d98",
   "metadata": {},
   "outputs": [
    {
     "data": {
      "text/html": [
       "<div>\n",
       "<style scoped>\n",
       "    .dataframe tbody tr th:only-of-type {\n",
       "        vertical-align: middle;\n",
       "    }\n",
       "\n",
       "    .dataframe tbody tr th {\n",
       "        vertical-align: top;\n",
       "    }\n",
       "\n",
       "    .dataframe thead th {\n",
       "        text-align: right;\n",
       "    }\n",
       "</style>\n",
       "<table border=\"1\" class=\"dataframe\">\n",
       "  <thead>\n",
       "    <tr style=\"text-align: right;\">\n",
       "      <th></th>\n",
       "      <th>Chrome</th>\n",
       "      <th>Safari</th>\n",
       "      <th>Firefox</th>\n",
       "    </tr>\n",
       "  </thead>\n",
       "  <tbody>\n",
       "    <tr>\n",
       "      <th>2018</th>\n",
       "      <td>67</td>\n",
       "      <td>74</td>\n",
       "      <td>89</td>\n",
       "    </tr>\n",
       "    <tr>\n",
       "      <th>2019</th>\n",
       "      <td>44</td>\n",
       "      <td>58</td>\n",
       "      <td>70</td>\n",
       "    </tr>\n",
       "    <tr>\n",
       "      <th>2020</th>\n",
       "      <td>8</td>\n",
       "      <td>14</td>\n",
       "      <td>16</td>\n",
       "    </tr>\n",
       "  </tbody>\n",
       "</table>\n",
       "</div>"
      ],
      "text/plain": [
       "      Chrome  Safari  Firefox\n",
       "2018      67      74       89\n",
       "2019      44      58       70\n",
       "2020       8      14       16"
      ]
     },
     "execution_count": 8,
     "metadata": {},
     "output_type": "execute_result"
    }
   ],
   "source": [
    "df = pd.DataFrame(\n",
    "    [[67, 74, 89],\n",
    "     [44, 58, 70],\n",
    "     [8, 14, 16]],\n",
    "    index = [2018, 2019, 2020], columns = [\"Chrome\", \"Safari\", \"Firefox\"]\n",
    ")\n",
    "\n",
    "df"
   ]
  },
  {
   "cell_type": "markdown",
   "id": "b25fc4d1",
   "metadata": {},
   "source": [
    "### Files in Pandas"
   ]
  },
  {
   "cell_type": "markdown",
   "id": "0bf78822",
   "metadata": {},
   "source": [
    "The pandas I/O API is a set of top level reader functions accessed like pandas.read_csv() that generally return a pandas object. \n",
    "\n",
    "Pandas offeres reader functions which can read in a data file and return it as a pandas object. The most useful one `read.csv()` will read a text file and convert it to a DataFrame with default arguments. Pandas also offers `read_json()` and `read_excel` to read json and excel files, respectively, 2 of the most common file types for data.\n",
    "\n",
    "We will use the `read.csv` function to read the Chicago Police Traffic Stops data."
   ]
  },
  {
   "cell_type": "code",
   "execution_count": 9,
   "id": "839017a3",
   "metadata": {},
   "outputs": [],
   "source": [
    "stops_df = pd.read_csv('TrafficStopsChicago.csv')"
   ]
  },
  {
   "cell_type": "markdown",
   "id": "ece70417",
   "metadata": {},
   "source": [
    "The [documentation](https://pandas.pydata.org/docs/reference/api/pandas.read_csv.html) provides great detail of the arguments that `read_csv()` function accepts. Some of the common ones that you must know are:\n",
    "\n",
    "**filepath_or_buffer**: Either a path to a file or URL.\n",
    "<br>**sep**: Delimiter to use. Default delimiter is `','` (for comma-separated files. Use `'\\t'` for tab-separated files, tsv)\n",
    "\n",
    "Typing and running the DataFrame name on a Jupyter cell displays the dataset with rows and columns truncated."
   ]
  },
  {
   "cell_type": "code",
   "execution_count": 10,
   "id": "dbf9cd7e",
   "metadata": {},
   "outputs": [
    {
     "data": {
      "text/html": [
       "<div>\n",
       "<style scoped>\n",
       "    .dataframe tbody tr th:only-of-type {\n",
       "        vertical-align: middle;\n",
       "    }\n",
       "\n",
       "    .dataframe tbody tr th {\n",
       "        vertical-align: top;\n",
       "    }\n",
       "\n",
       "    .dataframe thead th {\n",
       "        text-align: right;\n",
       "    }\n",
       "</style>\n",
       "<table border=\"1\" class=\"dataframe\">\n",
       "  <thead>\n",
       "    <tr style=\"text-align: right;\">\n",
       "      <th></th>\n",
       "      <th>DateStop</th>\n",
       "      <th>TimeStop</th>\n",
       "      <th>Duration</th>\n",
       "      <th>City</th>\n",
       "      <th>DriverRace</th>\n",
       "      <th>ReasonStop</th>\n",
       "      <th>TypeOfMovingViolation</th>\n",
       "      <th>Beat</th>\n",
       "      <th>SearchConducted</th>\n",
       "      <th>ContraFound</th>\n",
       "      <th>DrugsFound</th>\n",
       "      <th>WeaponFound</th>\n",
       "    </tr>\n",
       "  </thead>\n",
       "  <tbody>\n",
       "    <tr>\n",
       "      <th>0</th>\n",
       "      <td>2021-01-01</td>\n",
       "      <td>0:33</td>\n",
       "      <td>5</td>\n",
       "      <td>CHICAGO</td>\n",
       "      <td>4.0</td>\n",
       "      <td>2.0</td>\n",
       "      <td>NaN</td>\n",
       "      <td>1234</td>\n",
       "      <td>2</td>\n",
       "      <td>0</td>\n",
       "      <td>0</td>\n",
       "      <td>0</td>\n",
       "    </tr>\n",
       "    <tr>\n",
       "      <th>1</th>\n",
       "      <td>2021-01-01</td>\n",
       "      <td>1:50</td>\n",
       "      <td>4</td>\n",
       "      <td>CHICAGO</td>\n",
       "      <td>2.0</td>\n",
       "      <td>2.0</td>\n",
       "      <td>NaN</td>\n",
       "      <td>1122</td>\n",
       "      <td>2</td>\n",
       "      <td>0</td>\n",
       "      <td>0</td>\n",
       "      <td>0</td>\n",
       "    </tr>\n",
       "    <tr>\n",
       "      <th>2</th>\n",
       "      <td>2021-01-01</td>\n",
       "      <td>8:50</td>\n",
       "      <td>4</td>\n",
       "      <td>CHICAGO</td>\n",
       "      <td>2.0</td>\n",
       "      <td>3.0</td>\n",
       "      <td>NaN</td>\n",
       "      <td>332</td>\n",
       "      <td>2</td>\n",
       "      <td>0</td>\n",
       "      <td>0</td>\n",
       "      <td>0</td>\n",
       "    </tr>\n",
       "    <tr>\n",
       "      <th>3</th>\n",
       "      <td>2021-01-01</td>\n",
       "      <td>12:41</td>\n",
       "      <td>6</td>\n",
       "      <td>CHICAGO</td>\n",
       "      <td>2.0</td>\n",
       "      <td>2.0</td>\n",
       "      <td>NaN</td>\n",
       "      <td>1121</td>\n",
       "      <td>2</td>\n",
       "      <td>0</td>\n",
       "      <td>0</td>\n",
       "      <td>0</td>\n",
       "    </tr>\n",
       "    <tr>\n",
       "      <th>4</th>\n",
       "      <td>2021-01-01</td>\n",
       "      <td>13:51</td>\n",
       "      <td>5</td>\n",
       "      <td>CHICAGO</td>\n",
       "      <td>2.0</td>\n",
       "      <td>2.0</td>\n",
       "      <td>NaN</td>\n",
       "      <td>423</td>\n",
       "      <td>2</td>\n",
       "      <td>0</td>\n",
       "      <td>0</td>\n",
       "      <td>0</td>\n",
       "    </tr>\n",
       "    <tr>\n",
       "      <th>...</th>\n",
       "      <td>...</td>\n",
       "      <td>...</td>\n",
       "      <td>...</td>\n",
       "      <td>...</td>\n",
       "      <td>...</td>\n",
       "      <td>...</td>\n",
       "      <td>...</td>\n",
       "      <td>...</td>\n",
       "      <td>...</td>\n",
       "      <td>...</td>\n",
       "      <td>...</td>\n",
       "      <td>...</td>\n",
       "    </tr>\n",
       "    <tr>\n",
       "      <th>76275</th>\n",
       "      <td>2021-02-28</td>\n",
       "      <td>20:34</td>\n",
       "      <td>9</td>\n",
       "      <td>CHICAGO</td>\n",
       "      <td>4.0</td>\n",
       "      <td>1.0</td>\n",
       "      <td>4.0</td>\n",
       "      <td>1533</td>\n",
       "      <td>2</td>\n",
       "      <td>0</td>\n",
       "      <td>0</td>\n",
       "      <td>0</td>\n",
       "    </tr>\n",
       "    <tr>\n",
       "      <th>76276</th>\n",
       "      <td>2021-02-28</td>\n",
       "      <td>20:06</td>\n",
       "      <td>4</td>\n",
       "      <td>CHICAGO</td>\n",
       "      <td>2.0</td>\n",
       "      <td>2.0</td>\n",
       "      <td>NaN</td>\n",
       "      <td>214</td>\n",
       "      <td>2</td>\n",
       "      <td>0</td>\n",
       "      <td>0</td>\n",
       "      <td>0</td>\n",
       "    </tr>\n",
       "    <tr>\n",
       "      <th>76277</th>\n",
       "      <td>2021-02-28</td>\n",
       "      <td>21:47</td>\n",
       "      <td>4</td>\n",
       "      <td>SAINT PAUL</td>\n",
       "      <td>2.0</td>\n",
       "      <td>3.0</td>\n",
       "      <td>NaN</td>\n",
       "      <td>1821</td>\n",
       "      <td>2</td>\n",
       "      <td>0</td>\n",
       "      <td>0</td>\n",
       "      <td>0</td>\n",
       "    </tr>\n",
       "    <tr>\n",
       "      <th>76278</th>\n",
       "      <td>2021-02-28</td>\n",
       "      <td>21:15</td>\n",
       "      <td>5</td>\n",
       "      <td>CHICAGO</td>\n",
       "      <td>2.0</td>\n",
       "      <td>2.0</td>\n",
       "      <td>NaN</td>\n",
       "      <td>331</td>\n",
       "      <td>2</td>\n",
       "      <td>0</td>\n",
       "      <td>0</td>\n",
       "      <td>0</td>\n",
       "    </tr>\n",
       "    <tr>\n",
       "      <th>76279</th>\n",
       "      <td>2021-02-28</td>\n",
       "      <td>21:15</td>\n",
       "      <td>4</td>\n",
       "      <td>CHICAGO</td>\n",
       "      <td>4.0</td>\n",
       "      <td>2.0</td>\n",
       "      <td>NaN</td>\n",
       "      <td>1033</td>\n",
       "      <td>2</td>\n",
       "      <td>0</td>\n",
       "      <td>0</td>\n",
       "      <td>0</td>\n",
       "    </tr>\n",
       "  </tbody>\n",
       "</table>\n",
       "<p>76280 rows × 12 columns</p>\n",
       "</div>"
      ],
      "text/plain": [
       "         DateStop TimeStop  Duration        City  DriverRace  ReasonStop  \\\n",
       "0      2021-01-01     0:33         5     CHICAGO         4.0         2.0   \n",
       "1      2021-01-01     1:50         4     CHICAGO         2.0         2.0   \n",
       "2      2021-01-01     8:50         4     CHICAGO         2.0         3.0   \n",
       "3      2021-01-01    12:41         6     CHICAGO         2.0         2.0   \n",
       "4      2021-01-01    13:51         5     CHICAGO         2.0         2.0   \n",
       "...           ...      ...       ...         ...         ...         ...   \n",
       "76275  2021-02-28    20:34         9     CHICAGO         4.0         1.0   \n",
       "76276  2021-02-28    20:06         4     CHICAGO         2.0         2.0   \n",
       "76277  2021-02-28    21:47         4  SAINT PAUL         2.0         3.0   \n",
       "76278  2021-02-28    21:15         5     CHICAGO         2.0         2.0   \n",
       "76279  2021-02-28    21:15         4     CHICAGO         4.0         2.0   \n",
       "\n",
       "       TypeOfMovingViolation  Beat  SearchConducted  ContraFound  DrugsFound  \\\n",
       "0                        NaN  1234                2            0           0   \n",
       "1                        NaN  1122                2            0           0   \n",
       "2                        NaN   332                2            0           0   \n",
       "3                        NaN  1121                2            0           0   \n",
       "4                        NaN   423                2            0           0   \n",
       "...                      ...   ...              ...          ...         ...   \n",
       "76275                    4.0  1533                2            0           0   \n",
       "76276                    NaN   214                2            0           0   \n",
       "76277                    NaN  1821                2            0           0   \n",
       "76278                    NaN   331                2            0           0   \n",
       "76279                    NaN  1033                2            0           0   \n",
       "\n",
       "       WeaponFound  \n",
       "0                0  \n",
       "1                0  \n",
       "2                0  \n",
       "3                0  \n",
       "4                0  \n",
       "...            ...  \n",
       "76275            0  \n",
       "76276            0  \n",
       "76277            0  \n",
       "76278            0  \n",
       "76279            0  \n",
       "\n",
       "[76280 rows x 12 columns]"
      ]
     },
     "execution_count": 10,
     "metadata": {},
     "output_type": "execute_result"
    }
   ],
   "source": [
    "stops_df"
   ]
  },
  {
   "cell_type": "markdown",
   "id": "8be71667",
   "metadata": {},
   "source": [
    "This dataset is huge! Pandas also offers methods to view a small sample of a Series or DataFrame object. The `head()` and `tail()` methods enable you to do so showing you the first set of rows and last set of rows, respectively. By default, they display 5 rows. The argument to these methods can be changed to the number of rows needed to be displayed."
   ]
  },
  {
   "cell_type": "code",
   "execution_count": 11,
   "id": "694b3a43",
   "metadata": {},
   "outputs": [
    {
     "data": {
      "text/html": [
       "<div>\n",
       "<style scoped>\n",
       "    .dataframe tbody tr th:only-of-type {\n",
       "        vertical-align: middle;\n",
       "    }\n",
       "\n",
       "    .dataframe tbody tr th {\n",
       "        vertical-align: top;\n",
       "    }\n",
       "\n",
       "    .dataframe thead th {\n",
       "        text-align: right;\n",
       "    }\n",
       "</style>\n",
       "<table border=\"1\" class=\"dataframe\">\n",
       "  <thead>\n",
       "    <tr style=\"text-align: right;\">\n",
       "      <th></th>\n",
       "      <th>DateStop</th>\n",
       "      <th>TimeStop</th>\n",
       "      <th>Duration</th>\n",
       "      <th>City</th>\n",
       "      <th>DriverRace</th>\n",
       "      <th>ReasonStop</th>\n",
       "      <th>TypeOfMovingViolation</th>\n",
       "      <th>Beat</th>\n",
       "      <th>SearchConducted</th>\n",
       "      <th>ContraFound</th>\n",
       "      <th>DrugsFound</th>\n",
       "      <th>WeaponFound</th>\n",
       "    </tr>\n",
       "  </thead>\n",
       "  <tbody>\n",
       "    <tr>\n",
       "      <th>0</th>\n",
       "      <td>2021-01-01</td>\n",
       "      <td>0:33</td>\n",
       "      <td>5</td>\n",
       "      <td>CHICAGO</td>\n",
       "      <td>4.0</td>\n",
       "      <td>2.0</td>\n",
       "      <td>NaN</td>\n",
       "      <td>1234</td>\n",
       "      <td>2</td>\n",
       "      <td>0</td>\n",
       "      <td>0</td>\n",
       "      <td>0</td>\n",
       "    </tr>\n",
       "    <tr>\n",
       "      <th>1</th>\n",
       "      <td>2021-01-01</td>\n",
       "      <td>1:50</td>\n",
       "      <td>4</td>\n",
       "      <td>CHICAGO</td>\n",
       "      <td>2.0</td>\n",
       "      <td>2.0</td>\n",
       "      <td>NaN</td>\n",
       "      <td>1122</td>\n",
       "      <td>2</td>\n",
       "      <td>0</td>\n",
       "      <td>0</td>\n",
       "      <td>0</td>\n",
       "    </tr>\n",
       "    <tr>\n",
       "      <th>2</th>\n",
       "      <td>2021-01-01</td>\n",
       "      <td>8:50</td>\n",
       "      <td>4</td>\n",
       "      <td>CHICAGO</td>\n",
       "      <td>2.0</td>\n",
       "      <td>3.0</td>\n",
       "      <td>NaN</td>\n",
       "      <td>332</td>\n",
       "      <td>2</td>\n",
       "      <td>0</td>\n",
       "      <td>0</td>\n",
       "      <td>0</td>\n",
       "    </tr>\n",
       "    <tr>\n",
       "      <th>3</th>\n",
       "      <td>2021-01-01</td>\n",
       "      <td>12:41</td>\n",
       "      <td>6</td>\n",
       "      <td>CHICAGO</td>\n",
       "      <td>2.0</td>\n",
       "      <td>2.0</td>\n",
       "      <td>NaN</td>\n",
       "      <td>1121</td>\n",
       "      <td>2</td>\n",
       "      <td>0</td>\n",
       "      <td>0</td>\n",
       "      <td>0</td>\n",
       "    </tr>\n",
       "    <tr>\n",
       "      <th>4</th>\n",
       "      <td>2021-01-01</td>\n",
       "      <td>13:51</td>\n",
       "      <td>5</td>\n",
       "      <td>CHICAGO</td>\n",
       "      <td>2.0</td>\n",
       "      <td>2.0</td>\n",
       "      <td>NaN</td>\n",
       "      <td>423</td>\n",
       "      <td>2</td>\n",
       "      <td>0</td>\n",
       "      <td>0</td>\n",
       "      <td>0</td>\n",
       "    </tr>\n",
       "  </tbody>\n",
       "</table>\n",
       "</div>"
      ],
      "text/plain": [
       "     DateStop TimeStop  Duration     City  DriverRace  ReasonStop  \\\n",
       "0  2021-01-01     0:33         5  CHICAGO         4.0         2.0   \n",
       "1  2021-01-01     1:50         4  CHICAGO         2.0         2.0   \n",
       "2  2021-01-01     8:50         4  CHICAGO         2.0         3.0   \n",
       "3  2021-01-01    12:41         6  CHICAGO         2.0         2.0   \n",
       "4  2021-01-01    13:51         5  CHICAGO         2.0         2.0   \n",
       "\n",
       "   TypeOfMovingViolation  Beat  SearchConducted  ContraFound  DrugsFound  \\\n",
       "0                    NaN  1234                2            0           0   \n",
       "1                    NaN  1122                2            0           0   \n",
       "2                    NaN   332                2            0           0   \n",
       "3                    NaN  1121                2            0           0   \n",
       "4                    NaN   423                2            0           0   \n",
       "\n",
       "   WeaponFound  \n",
       "0            0  \n",
       "1            0  \n",
       "2            0  \n",
       "3            0  \n",
       "4            0  "
      ]
     },
     "execution_count": 11,
     "metadata": {},
     "output_type": "execute_result"
    }
   ],
   "source": [
    "# View first 5 rows\n",
    "stops_df.head()"
   ]
  },
  {
   "cell_type": "code",
   "execution_count": 12,
   "id": "845dce1d",
   "metadata": {},
   "outputs": [
    {
     "data": {
      "text/html": [
       "<div>\n",
       "<style scoped>\n",
       "    .dataframe tbody tr th:only-of-type {\n",
       "        vertical-align: middle;\n",
       "    }\n",
       "\n",
       "    .dataframe tbody tr th {\n",
       "        vertical-align: top;\n",
       "    }\n",
       "\n",
       "    .dataframe thead th {\n",
       "        text-align: right;\n",
       "    }\n",
       "</style>\n",
       "<table border=\"1\" class=\"dataframe\">\n",
       "  <thead>\n",
       "    <tr style=\"text-align: right;\">\n",
       "      <th></th>\n",
       "      <th>DateStop</th>\n",
       "      <th>TimeStop</th>\n",
       "      <th>Duration</th>\n",
       "      <th>City</th>\n",
       "      <th>DriverRace</th>\n",
       "      <th>ReasonStop</th>\n",
       "      <th>TypeOfMovingViolation</th>\n",
       "      <th>Beat</th>\n",
       "      <th>SearchConducted</th>\n",
       "      <th>ContraFound</th>\n",
       "      <th>DrugsFound</th>\n",
       "      <th>WeaponFound</th>\n",
       "    </tr>\n",
       "  </thead>\n",
       "  <tbody>\n",
       "    <tr>\n",
       "      <th>76277</th>\n",
       "      <td>2021-02-28</td>\n",
       "      <td>21:47</td>\n",
       "      <td>4</td>\n",
       "      <td>SAINT PAUL</td>\n",
       "      <td>2.0</td>\n",
       "      <td>3.0</td>\n",
       "      <td>NaN</td>\n",
       "      <td>1821</td>\n",
       "      <td>2</td>\n",
       "      <td>0</td>\n",
       "      <td>0</td>\n",
       "      <td>0</td>\n",
       "    </tr>\n",
       "    <tr>\n",
       "      <th>76278</th>\n",
       "      <td>2021-02-28</td>\n",
       "      <td>21:15</td>\n",
       "      <td>5</td>\n",
       "      <td>CHICAGO</td>\n",
       "      <td>2.0</td>\n",
       "      <td>2.0</td>\n",
       "      <td>NaN</td>\n",
       "      <td>331</td>\n",
       "      <td>2</td>\n",
       "      <td>0</td>\n",
       "      <td>0</td>\n",
       "      <td>0</td>\n",
       "    </tr>\n",
       "    <tr>\n",
       "      <th>76279</th>\n",
       "      <td>2021-02-28</td>\n",
       "      <td>21:15</td>\n",
       "      <td>4</td>\n",
       "      <td>CHICAGO</td>\n",
       "      <td>4.0</td>\n",
       "      <td>2.0</td>\n",
       "      <td>NaN</td>\n",
       "      <td>1033</td>\n",
       "      <td>2</td>\n",
       "      <td>0</td>\n",
       "      <td>0</td>\n",
       "      <td>0</td>\n",
       "    </tr>\n",
       "  </tbody>\n",
       "</table>\n",
       "</div>"
      ],
      "text/plain": [
       "         DateStop TimeStop  Duration        City  DriverRace  ReasonStop  \\\n",
       "76277  2021-02-28    21:47         4  SAINT PAUL         2.0         3.0   \n",
       "76278  2021-02-28    21:15         5     CHICAGO         2.0         2.0   \n",
       "76279  2021-02-28    21:15         4     CHICAGO         4.0         2.0   \n",
       "\n",
       "       TypeOfMovingViolation  Beat  SearchConducted  ContraFound  DrugsFound  \\\n",
       "76277                    NaN  1821                2            0           0   \n",
       "76278                    NaN   331                2            0           0   \n",
       "76279                    NaN  1033                2            0           0   \n",
       "\n",
       "       WeaponFound  \n",
       "76277            0  \n",
       "76278            0  \n",
       "76279            0  "
      ]
     },
     "execution_count": 12,
     "metadata": {},
     "output_type": "execute_result"
    }
   ],
   "source": [
    "# View last 3 rows\n",
    "stops_df.tail(3)"
   ]
  },
  {
   "cell_type": "markdown",
   "id": "6fdaa9d3",
   "metadata": {},
   "source": [
    "### Basic metadata"
   ]
  },
  {
   "cell_type": "markdown",
   "id": "330e91e5",
   "metadata": {},
   "source": [
    "Pandas enables you to access basic metadata for its object by using some attributes. The important ones we are going to learn here are **shape**, **dtypes** and axis labels.\n",
    "\n",
    "**Shape** gives the axis dimensions of the object. For a DataFrame, it will give the number of rows and columns."
   ]
  },
  {
   "cell_type": "code",
   "execution_count": 13,
   "id": "220e0d4d",
   "metadata": {},
   "outputs": [
    {
     "data": {
      "text/plain": [
       "(76280, 12)"
      ]
     },
     "execution_count": 13,
     "metadata": {},
     "output_type": "execute_result"
    }
   ],
   "source": [
    "stops_df.shape"
   ]
  },
  {
   "cell_type": "markdown",
   "id": "76878282",
   "metadata": {},
   "source": [
    "**dtypes** will give the data type for each column in a DataFrame. We are going to learn more about data types in the upcoming sections."
   ]
  },
  {
   "cell_type": "code",
   "execution_count": 14,
   "id": "470aae43",
   "metadata": {
    "scrolled": true
   },
   "outputs": [
    {
     "data": {
      "text/plain": [
       "DateStop                  object\n",
       "TimeStop                  object\n",
       "Duration                   int64\n",
       "City                      object\n",
       "DriverRace               float64\n",
       "ReasonStop               float64\n",
       "TypeOfMovingViolation    float64\n",
       "Beat                       int64\n",
       "SearchConducted            int64\n",
       "ContraFound                int64\n",
       "DrugsFound                 int64\n",
       "WeaponFound                int64\n",
       "dtype: object"
      ]
     },
     "execution_count": 14,
     "metadata": {},
     "output_type": "execute_result"
    }
   ],
   "source": [
    "stops_df.dtypes"
   ]
  },
  {
   "cell_type": "markdown",
   "id": "4450da2f",
   "metadata": {},
   "source": [
    "Pandas objects have axis labels. We have seen that each element in a Series is labeled through an index. Whereas, a DataFrame has a set of labels for each row and another set for columns. We can access these labels for a DataFrame using `.index` and `.columns` methods."
   ]
  },
  {
   "cell_type": "code",
   "execution_count": 15,
   "id": "3f8b9cc8",
   "metadata": {},
   "outputs": [
    {
     "data": {
      "text/plain": [
       "Index(['DateStop', 'TimeStop', 'Duration', 'City', 'DriverRace', 'ReasonStop',\n",
       "       'TypeOfMovingViolation', 'Beat', 'SearchConducted', 'ContraFound',\n",
       "       'DrugsFound', 'WeaponFound'],\n",
       "      dtype='object')"
      ]
     },
     "execution_count": 15,
     "metadata": {},
     "output_type": "execute_result"
    }
   ],
   "source": [
    "stops_df.columns"
   ]
  },
  {
   "cell_type": "code",
   "execution_count": 16,
   "id": "090b3da2",
   "metadata": {},
   "outputs": [
    {
     "data": {
      "text/plain": [
       "RangeIndex(start=0, stop=76280, step=1)"
      ]
     },
     "execution_count": 16,
     "metadata": {},
     "output_type": "execute_result"
    }
   ],
   "source": [
    "stops_df.index"
   ]
  },
  {
   "cell_type": "markdown",
   "id": "a41a1f54",
   "metadata": {},
   "source": [
    "As you can notice, since there wasn't any index provided by the dataset, Pandas set the default index to range of integers from 0 to length of the DataFrame."
   ]
  },
  {
   "cell_type": "markdown",
   "id": "e05d52a3",
   "metadata": {},
   "source": [
    "### Selecting and Subsetting"
   ]
  },
  {
   "cell_type": "markdown",
   "id": "f20ee844",
   "metadata": {},
   "source": [
    "Pandas offers a few ways that we can use to select a set of data which can include a cell, row, column or a subset of the entire dataframe. The 3 ways that we will go through are selection using `[]`, `.loc` (label based indexing) and `.iloc` (position based indexing).\n",
    "\n",
    "Using `[]` is an archaic way of indexing which mimics the same way we would index dictionaries in Python. In Pandas, it'll select the lower-dimensional set. For the Series below we are using the row Index to select a row below."
   ]
  },
  {
   "cell_type": "code",
   "execution_count": 17,
   "id": "beab459e",
   "metadata": {},
   "outputs": [
    {
     "data": {
      "text/plain": [
       "35"
      ]
     },
     "execution_count": 17,
     "metadata": {},
     "output_type": "execute_result"
    }
   ],
   "source": [
    "sample_series['Mercury']"
   ]
  },
  {
   "cell_type": "markdown",
   "id": "8ad45fff",
   "metadata": {},
   "source": [
    "Similarly, we can use this notation to index a column in a DataFrame. This will result in a Series."
   ]
  },
  {
   "cell_type": "code",
   "execution_count": 18,
   "id": "24f5caf0",
   "metadata": {},
   "outputs": [
    {
     "data": {
      "text/plain": [
       "2018    67\n",
       "2019    44\n",
       "2020     8\n",
       "Name: Chrome, dtype: int64"
      ]
     },
     "execution_count": 18,
     "metadata": {},
     "output_type": "execute_result"
    }
   ],
   "source": [
    "df['Chrome']"
   ]
  },
  {
   "cell_type": "markdown",
   "id": "33a26dbf",
   "metadata": {},
   "source": [
    "While you may stil find this notation being used for indexing DataFrames and Series, it can often result in errors and confusion. The purpose to bring it up here was to provide familiarity with this notation. Therefore, we will focus more on using `.loc` for selection which is a more powerful and explicit indexer. The format it follows is `.loc[row_indexer,col_indexer]`\n",
    "\n",
    "The integer below is the label for the index that will extract the row with index label 2."
   ]
  },
  {
   "cell_type": "code",
   "execution_count": 19,
   "id": "e85c05a9",
   "metadata": {
    "scrolled": true
   },
   "outputs": [
    {
     "data": {
      "text/plain": [
       "DateStop                 2021-01-01\n",
       "TimeStop                       8:50\n",
       "Duration                          4\n",
       "City                        CHICAGO\n",
       "DriverRace                      2.0\n",
       "ReasonStop                      3.0\n",
       "TypeOfMovingViolation           NaN\n",
       "Beat                            332\n",
       "SearchConducted                   2\n",
       "ContraFound                       0\n",
       "DrugsFound                        0\n",
       "WeaponFound                       0\n",
       "Name: 2, dtype: object"
      ]
     },
     "execution_count": 19,
     "metadata": {},
     "output_type": "execute_result"
    }
   ],
   "source": [
    "stops_df.loc[2]"
   ]
  },
  {
   "cell_type": "markdown",
   "id": "28885219",
   "metadata": {},
   "source": [
    "We can also print out a set of rows using slices. `:2` refers to index in the the range 0 to 2, a shorthand for `0:2`. \n",
    "\n",
    "Note that the index labels are interger in this DataFrame. This method also works well with non-integer index. For eg. we can also using slicing for sting labels. In that case, pandas will return all the rows in between the rows whose labels are specified in the slice, including the specified rows as well."
   ]
  },
  {
   "cell_type": "code",
   "execution_count": 20,
   "id": "00d59114",
   "metadata": {},
   "outputs": [
    {
     "data": {
      "text/html": [
       "<div>\n",
       "<style scoped>\n",
       "    .dataframe tbody tr th:only-of-type {\n",
       "        vertical-align: middle;\n",
       "    }\n",
       "\n",
       "    .dataframe tbody tr th {\n",
       "        vertical-align: top;\n",
       "    }\n",
       "\n",
       "    .dataframe thead th {\n",
       "        text-align: right;\n",
       "    }\n",
       "</style>\n",
       "<table border=\"1\" class=\"dataframe\">\n",
       "  <thead>\n",
       "    <tr style=\"text-align: right;\">\n",
       "      <th></th>\n",
       "      <th>DateStop</th>\n",
       "      <th>TimeStop</th>\n",
       "      <th>Duration</th>\n",
       "      <th>City</th>\n",
       "      <th>DriverRace</th>\n",
       "      <th>ReasonStop</th>\n",
       "      <th>TypeOfMovingViolation</th>\n",
       "      <th>Beat</th>\n",
       "      <th>SearchConducted</th>\n",
       "      <th>ContraFound</th>\n",
       "      <th>DrugsFound</th>\n",
       "      <th>WeaponFound</th>\n",
       "    </tr>\n",
       "  </thead>\n",
       "  <tbody>\n",
       "    <tr>\n",
       "      <th>0</th>\n",
       "      <td>2021-01-01</td>\n",
       "      <td>0:33</td>\n",
       "      <td>5</td>\n",
       "      <td>CHICAGO</td>\n",
       "      <td>4.0</td>\n",
       "      <td>2.0</td>\n",
       "      <td>NaN</td>\n",
       "      <td>1234</td>\n",
       "      <td>2</td>\n",
       "      <td>0</td>\n",
       "      <td>0</td>\n",
       "      <td>0</td>\n",
       "    </tr>\n",
       "    <tr>\n",
       "      <th>1</th>\n",
       "      <td>2021-01-01</td>\n",
       "      <td>1:50</td>\n",
       "      <td>4</td>\n",
       "      <td>CHICAGO</td>\n",
       "      <td>2.0</td>\n",
       "      <td>2.0</td>\n",
       "      <td>NaN</td>\n",
       "      <td>1122</td>\n",
       "      <td>2</td>\n",
       "      <td>0</td>\n",
       "      <td>0</td>\n",
       "      <td>0</td>\n",
       "    </tr>\n",
       "    <tr>\n",
       "      <th>2</th>\n",
       "      <td>2021-01-01</td>\n",
       "      <td>8:50</td>\n",
       "      <td>4</td>\n",
       "      <td>CHICAGO</td>\n",
       "      <td>2.0</td>\n",
       "      <td>3.0</td>\n",
       "      <td>NaN</td>\n",
       "      <td>332</td>\n",
       "      <td>2</td>\n",
       "      <td>0</td>\n",
       "      <td>0</td>\n",
       "      <td>0</td>\n",
       "    </tr>\n",
       "  </tbody>\n",
       "</table>\n",
       "</div>"
      ],
      "text/plain": [
       "     DateStop TimeStop  Duration     City  DriverRace  ReasonStop  \\\n",
       "0  2021-01-01     0:33         5  CHICAGO         4.0         2.0   \n",
       "1  2021-01-01     1:50         4  CHICAGO         2.0         2.0   \n",
       "2  2021-01-01     8:50         4  CHICAGO         2.0         3.0   \n",
       "\n",
       "   TypeOfMovingViolation  Beat  SearchConducted  ContraFound  DrugsFound  \\\n",
       "0                    NaN  1234                2            0           0   \n",
       "1                    NaN  1122                2            0           0   \n",
       "2                    NaN   332                2            0           0   \n",
       "\n",
       "   WeaponFound  \n",
       "0            0  \n",
       "1            0  \n",
       "2            0  "
      ]
     },
     "execution_count": 20,
     "metadata": {},
     "output_type": "execute_result"
    }
   ],
   "source": [
    "stops_df.loc[:2]"
   ]
  },
  {
   "cell_type": "markdown",
   "id": "248f95a3",
   "metadata": {},
   "source": [
    "Using the `.loc` attribute, we can also select the second dimension (column for a DataFrame). In the cell below, we are selecting all rows and the 'City' column."
   ]
  },
  {
   "cell_type": "code",
   "execution_count": 21,
   "id": "ea8f2e5d",
   "metadata": {},
   "outputs": [
    {
     "data": {
      "text/plain": [
       "0           CHICAGO\n",
       "1           CHICAGO\n",
       "2           CHICAGO\n",
       "3           CHICAGO\n",
       "4           CHICAGO\n",
       "            ...    \n",
       "76275       CHICAGO\n",
       "76276       CHICAGO\n",
       "76277    SAINT PAUL\n",
       "76278       CHICAGO\n",
       "76279       CHICAGO\n",
       "Name: City, Length: 76280, dtype: object"
      ]
     },
     "execution_count": 21,
     "metadata": {},
     "output_type": "execute_result"
    }
   ],
   "source": [
    "stops_df.loc[: ,'City']"
   ]
  },
  {
   "cell_type": "markdown",
   "id": "6c5208cd",
   "metadata": {},
   "source": [
    "By specifying a single value in both the dimensions, we can select the specific cell as well."
   ]
  },
  {
   "cell_type": "code",
   "execution_count": 22,
   "id": "c5f5b2c9",
   "metadata": {},
   "outputs": [
    {
     "data": {
      "text/plain": [
       "'CHICAGO'"
      ]
     },
     "execution_count": 22,
     "metadata": {},
     "output_type": "execute_result"
    }
   ],
   "source": [
    "stops_df.loc[5 ,'City']"
   ]
  },
  {
   "cell_type": "markdown",
   "id": "5d158190",
   "metadata": {},
   "source": [
    "Or select a range of rows over multiple columns."
   ]
  },
  {
   "cell_type": "code",
   "execution_count": 23,
   "id": "b9b59821",
   "metadata": {},
   "outputs": [
    {
     "data": {
      "text/html": [
       "<div>\n",
       "<style scoped>\n",
       "    .dataframe tbody tr th:only-of-type {\n",
       "        vertical-align: middle;\n",
       "    }\n",
       "\n",
       "    .dataframe tbody tr th {\n",
       "        vertical-align: top;\n",
       "    }\n",
       "\n",
       "    .dataframe thead th {\n",
       "        text-align: right;\n",
       "    }\n",
       "</style>\n",
       "<table border=\"1\" class=\"dataframe\">\n",
       "  <thead>\n",
       "    <tr style=\"text-align: right;\">\n",
       "      <th></th>\n",
       "      <th>City</th>\n",
       "      <th>DriverRace</th>\n",
       "    </tr>\n",
       "  </thead>\n",
       "  <tbody>\n",
       "    <tr>\n",
       "      <th>55</th>\n",
       "      <td>MAYWOOD</td>\n",
       "      <td>2.0</td>\n",
       "    </tr>\n",
       "    <tr>\n",
       "      <th>56</th>\n",
       "      <td>CHICAGO</td>\n",
       "      <td>2.0</td>\n",
       "    </tr>\n",
       "    <tr>\n",
       "      <th>57</th>\n",
       "      <td>CHICAGO</td>\n",
       "      <td>2.0</td>\n",
       "    </tr>\n",
       "    <tr>\n",
       "      <th>58</th>\n",
       "      <td>FORES PARK</td>\n",
       "      <td>2.0</td>\n",
       "    </tr>\n",
       "    <tr>\n",
       "      <th>59</th>\n",
       "      <td>BELVIDERE</td>\n",
       "      <td>2.0</td>\n",
       "    </tr>\n",
       "    <tr>\n",
       "      <th>60</th>\n",
       "      <td>CHICAGO</td>\n",
       "      <td>1.0</td>\n",
       "    </tr>\n",
       "  </tbody>\n",
       "</table>\n",
       "</div>"
      ],
      "text/plain": [
       "          City  DriverRace\n",
       "55    MAYWOOD          2.0\n",
       "56     CHICAGO         2.0\n",
       "57     CHICAGO         2.0\n",
       "58  FORES PARK         2.0\n",
       "59   BELVIDERE         2.0\n",
       "60     CHICAGO         1.0"
      ]
     },
     "execution_count": 23,
     "metadata": {},
     "output_type": "execute_result"
    }
   ],
   "source": [
    "stops_df.loc[55:60, ['City','DriverRace']]"
   ]
  },
  {
   "cell_type": "markdown",
   "id": "ca54406b",
   "metadata": {},
   "source": [
    "The selection can also be a list of indices rather than a range."
   ]
  },
  {
   "cell_type": "code",
   "execution_count": 24,
   "id": "dfcb425f",
   "metadata": {},
   "outputs": [
    {
     "data": {
      "text/html": [
       "<div>\n",
       "<style scoped>\n",
       "    .dataframe tbody tr th:only-of-type {\n",
       "        vertical-align: middle;\n",
       "    }\n",
       "\n",
       "    .dataframe tbody tr th {\n",
       "        vertical-align: top;\n",
       "    }\n",
       "\n",
       "    .dataframe thead th {\n",
       "        text-align: right;\n",
       "    }\n",
       "</style>\n",
       "<table border=\"1\" class=\"dataframe\">\n",
       "  <thead>\n",
       "    <tr style=\"text-align: right;\">\n",
       "      <th></th>\n",
       "      <th>City</th>\n",
       "      <th>DriverRace</th>\n",
       "    </tr>\n",
       "  </thead>\n",
       "  <tbody>\n",
       "    <tr>\n",
       "      <th>55</th>\n",
       "      <td>MAYWOOD</td>\n",
       "      <td>2.0</td>\n",
       "    </tr>\n",
       "    <tr>\n",
       "      <th>78</th>\n",
       "      <td>CHICAGO</td>\n",
       "      <td>4.0</td>\n",
       "    </tr>\n",
       "    <tr>\n",
       "      <th>903</th>\n",
       "      <td>CHICAGO</td>\n",
       "      <td>1.0</td>\n",
       "    </tr>\n",
       "  </tbody>\n",
       "</table>\n",
       "</div>"
      ],
      "text/plain": [
       "         City  DriverRace\n",
       "55   MAYWOOD          2.0\n",
       "78    CHICAGO         4.0\n",
       "903   CHICAGO         1.0"
      ]
     },
     "execution_count": 24,
     "metadata": {},
     "output_type": "execute_result"
    }
   ],
   "source": [
    "stops_df.loc[[55,78,903], ['City','DriverRace']]"
   ]
  },
  {
   "cell_type": "markdown",
   "id": "4da1c69b",
   "metadata": {},
   "source": [
    "Another useful approach that comes handy when performing data manipulation operations is selection using boolean operators. In the cell below, before the comparision operator, we are subsetting the DataFrame to return all rows in the 'Duration' column. We are then comparing the 'Duration' value and returning `True` if the value is strictly less than 5. This returns a boolean array. "
   ]
  },
  {
   "cell_type": "code",
   "execution_count": 25,
   "id": "2be6c070",
   "metadata": {},
   "outputs": [
    {
     "data": {
      "text/plain": [
       "0        False\n",
       "1         True\n",
       "2         True\n",
       "3        False\n",
       "4        False\n",
       "         ...  \n",
       "76275    False\n",
       "76276     True\n",
       "76277     True\n",
       "76278    False\n",
       "76279     True\n",
       "Name: Duration, Length: 76280, dtype: bool"
      ]
     },
     "execution_count": 25,
     "metadata": {},
     "output_type": "execute_result"
    }
   ],
   "source": [
    "stops_df.loc[:, 'Duration'] < 5"
   ]
  },
  {
   "cell_type": "markdown",
   "id": "9e3720dd",
   "metadata": {},
   "source": [
    "The above comparision operation can then be used to filter out rows that are True for the above case. In the cell below, we are using the same comparision operation to return cells from the entire DataFrame that have a stop duration of less than 5. Notice, we are then subsetting it to only provide City Names of those rows."
   ]
  },
  {
   "cell_type": "code",
   "execution_count": 26,
   "id": "896938f5",
   "metadata": {},
   "outputs": [
    {
     "data": {
      "text/plain": [
       "1                 CHICAGO\n",
       "2                 CHICAGO\n",
       "5                 CHICAGO\n",
       "8        GLENDALE HEIGHTS\n",
       "9                 CHICAGO\n",
       "               ...       \n",
       "76270             CHICAGO\n",
       "76272             CHICAGO\n",
       "76276             CHICAGO\n",
       "76277          SAINT PAUL\n",
       "76279             CHICAGO\n",
       "Name: City, Length: 40558, dtype: object"
      ]
     },
     "execution_count": 26,
     "metadata": {},
     "output_type": "execute_result"
    }
   ],
   "source": [
    "stops_df.loc[stops_df.loc[:,'Duration'] < 5, 'City']"
   ]
  },
  {
   "cell_type": "markdown",
   "id": "ed52be57",
   "metadata": {},
   "source": [
    "Another form of selection that we introduced is Selection by Position using `.iloc`. This attribute is a form of indexing using integers that mark position of the cell. "
   ]
  },
  {
   "cell_type": "code",
   "execution_count": 27,
   "id": "87fd3f97",
   "metadata": {
    "scrolled": true
   },
   "outputs": [
    {
     "data": {
      "text/plain": [
       "DateStop                       2021-01-01\n",
       "TimeStop                            17:26\n",
       "Duration                                2\n",
       "City                     GLENDALE HEIGHTS\n",
       "DriverRace                            5.0\n",
       "ReasonStop                            1.0\n",
       "TypeOfMovingViolation                 6.0\n",
       "Beat                                 1824\n",
       "SearchConducted                         2\n",
       "ContraFound                             0\n",
       "DrugsFound                              0\n",
       "WeaponFound                             0\n",
       "Name: 8, dtype: object"
      ]
     },
     "execution_count": 27,
     "metadata": {},
     "output_type": "execute_result"
    }
   ],
   "source": [
    "stops_df.iloc[8]"
   ]
  },
  {
   "cell_type": "markdown",
   "id": "4ad5ea3a",
   "metadata": {},
   "source": [
    "In the case of this dataset, index labels are sorted integers which is the same as the index position as well, therefore, in this specific case, using wither `.loc` or `.iloc` will return the same set of rows. However, since we have string labels for eac column, we will have to provide integer values that mark the position of the column in the DataFrame. Providing column name or any non-integer value in `.iloc` will return an error.\n",
    "\n",
    "In the cell below, we are selecting rows 2 till 6, with 2 included, and selecting the 4th column ('Duration' is at position 4)."
   ]
  },
  {
   "cell_type": "code",
   "execution_count": 28,
   "id": "41b96639",
   "metadata": {},
   "outputs": [
    {
     "data": {
      "text/plain": [
       "2    2.0\n",
       "3    2.0\n",
       "4    2.0\n",
       "5    2.0\n",
       "Name: DriverRace, dtype: float64"
      ]
     },
     "execution_count": 28,
     "metadata": {},
     "output_type": "execute_result"
    }
   ],
   "source": [
    "stops_df.iloc[2:6, 4]"
   ]
  },
  {
   "cell_type": "markdown",
   "id": "639f2b94",
   "metadata": {},
   "source": [
    "We can also select a range for rows as well as for columns."
   ]
  },
  {
   "cell_type": "code",
   "execution_count": 29,
   "id": "139c2168",
   "metadata": {},
   "outputs": [
    {
     "data": {
      "text/html": [
       "<div>\n",
       "<style scoped>\n",
       "    .dataframe tbody tr th:only-of-type {\n",
       "        vertical-align: middle;\n",
       "    }\n",
       "\n",
       "    .dataframe tbody tr th {\n",
       "        vertical-align: top;\n",
       "    }\n",
       "\n",
       "    .dataframe thead th {\n",
       "        text-align: right;\n",
       "    }\n",
       "</style>\n",
       "<table border=\"1\" class=\"dataframe\">\n",
       "  <thead>\n",
       "    <tr style=\"text-align: right;\">\n",
       "      <th></th>\n",
       "      <th>DriverRace</th>\n",
       "      <th>ReasonStop</th>\n",
       "      <th>TypeOfMovingViolation</th>\n",
       "      <th>Beat</th>\n",
       "    </tr>\n",
       "  </thead>\n",
       "  <tbody>\n",
       "    <tr>\n",
       "      <th>2</th>\n",
       "      <td>2.0</td>\n",
       "      <td>3.0</td>\n",
       "      <td>NaN</td>\n",
       "      <td>332</td>\n",
       "    </tr>\n",
       "    <tr>\n",
       "      <th>3</th>\n",
       "      <td>2.0</td>\n",
       "      <td>2.0</td>\n",
       "      <td>NaN</td>\n",
       "      <td>1121</td>\n",
       "    </tr>\n",
       "    <tr>\n",
       "      <th>4</th>\n",
       "      <td>2.0</td>\n",
       "      <td>2.0</td>\n",
       "      <td>NaN</td>\n",
       "      <td>423</td>\n",
       "    </tr>\n",
       "    <tr>\n",
       "      <th>5</th>\n",
       "      <td>2.0</td>\n",
       "      <td>2.0</td>\n",
       "      <td>NaN</td>\n",
       "      <td>423</td>\n",
       "    </tr>\n",
       "  </tbody>\n",
       "</table>\n",
       "</div>"
      ],
      "text/plain": [
       "   DriverRace  ReasonStop  TypeOfMovingViolation  Beat\n",
       "2         2.0         3.0                    NaN   332\n",
       "3         2.0         2.0                    NaN  1121\n",
       "4         2.0         2.0                    NaN   423\n",
       "5         2.0         2.0                    NaN   423"
      ]
     },
     "execution_count": 29,
     "metadata": {},
     "output_type": "execute_result"
    }
   ],
   "source": [
    "stops_df.iloc[2:6, 4:8]"
   ]
  },
  {
   "cell_type": "markdown",
   "id": "c164fb02",
   "metadata": {},
   "source": [
    "Note: Out of range slice indexes are handled gracefully just as in Python. It will not return an error but will return everything in the range apart from the our of range slices. If the entire slice index is out of range, Python will return empty list.\n"
   ]
  },
  {
   "cell_type": "markdown",
   "id": "f7b5decd",
   "metadata": {},
   "source": [
    "### Data types and conversion"
   ]
  },
  {
   "cell_type": "markdown",
   "id": "9c9af342",
   "metadata": {},
   "source": [
    "We saw above how the attribute `dtypes` provides us with the the data type for each column in a DataFrame. Pandas has a set of data types that it understands and manipulates. It also includes a set of extended types from third-party libraries that have implemented this extension.\n",
    "\n",
    "We will touch upon the most basic and common ones that you saw in the result returned from running the command `stops_df.dtypes`. In brief, they include:\n",
    "\n",
    "- integer: default integer types are int64 (called nullable integers too)\n",
    "- float: default float types are float64\n",
    "- boolean: stores boolean data (True/False) with missing values\n",
    "- date/time: timestamp for scalar and datetime64[ns] format for series\n",
    "- object:  holds any Python object, including strings\n",
    "- string: dedicated to strings\n",
    "- category: stores limited, fixed number of possible values\n",
    "\n",
    "We can print the data types for the stops DataFrame again and can see that by default, Pandas doesn't interpret all data types in the form that can be useful for us. For eg. DateStop and TimeStop are object types (stored as strings) and will prevent us from performing several temporal operations. (We will cover datetime in detail in the following section)\n",
    "\n",
    "Similarly, DriverRace and ReasonStop, which indicates the category of the Driver's Race and Reason for Stop, respectively. However, since these categories are assigned float and integer, respectively, this can mislead our analytical process and any prediction we might want to make."
   ]
  },
  {
   "cell_type": "code",
   "execution_count": 30,
   "id": "27ad3411",
   "metadata": {
    "scrolled": true
   },
   "outputs": [
    {
     "data": {
      "text/plain": [
       "DateStop                  object\n",
       "TimeStop                  object\n",
       "Duration                   int64\n",
       "City                      object\n",
       "DriverRace               float64\n",
       "ReasonStop               float64\n",
       "TypeOfMovingViolation    float64\n",
       "Beat                       int64\n",
       "SearchConducted            int64\n",
       "ContraFound                int64\n",
       "DrugsFound                 int64\n",
       "WeaponFound                int64\n",
       "dtype: object"
      ]
     },
     "execution_count": 30,
     "metadata": {},
     "output_type": "execute_result"
    }
   ],
   "source": [
    "stops_df.dtypes"
   ]
  },
  {
   "cell_type": "markdown",
   "id": "c487003e",
   "metadata": {},
   "source": [
    "The `astype` method enables us to convert data types to the desired ones. A convenient way of performing this operation is to pass a dictionary with the column name whose type needs to be changed as key and the desired data type as value. We are then assigning the returned result to the original DataFrame to replace it with these new changes."
   ]
  },
  {
   "cell_type": "code",
   "execution_count": 31,
   "id": "bac21ff0",
   "metadata": {
    "scrolled": true
   },
   "outputs": [],
   "source": [
    "stops_df = stops_df.astype({'DriverRace': 'category', \n",
    "                            'ReasonStop': 'category'})"
   ]
  },
  {
   "cell_type": "markdown",
   "id": "b0e04b73",
   "metadata": {},
   "source": [
    "Let's use `dtypes` to check the new assigned data types"
   ]
  },
  {
   "cell_type": "code",
   "execution_count": 32,
   "id": "e2e14258",
   "metadata": {},
   "outputs": [
    {
     "data": {
      "text/plain": [
       "DateStop                   object\n",
       "TimeStop                   object\n",
       "Duration                    int64\n",
       "City                       object\n",
       "DriverRace               category\n",
       "ReasonStop               category\n",
       "TypeOfMovingViolation     float64\n",
       "Beat                        int64\n",
       "SearchConducted             int64\n",
       "ContraFound                 int64\n",
       "DrugsFound                  int64\n",
       "WeaponFound                 int64\n",
       "dtype: object"
      ]
     },
     "execution_count": 32,
     "metadata": {},
     "output_type": "execute_result"
    }
   ],
   "source": [
    "stops_df.dtypes"
   ]
  },
  {
   "cell_type": "markdown",
   "id": "27548ea3",
   "metadata": {},
   "source": [
    "### Datetime in Pandas"
   ]
  },
  {
   "cell_type": "markdown",
   "id": "da38bcbf",
   "metadata": {},
   "source": [
    "Temporal data (consisting of date and time stamps) is highly useful in data analytics and can result in useful features. Pandas offers the ability to work with time series information in various formats. This can enable us to perform several operations on datetime values such as sorting, predicting or categorizing data by certain time periods.\n",
    "\n",
    "A convenient format for datetime that Pandas uses is datetime from Python's [datetime](https://docs.python.org/3/library/datetime.html) library. This provides the ability for manipulating dates and times. We will work with datetime.datetime type from this library which is a combination of both date and time. Pandas will assign either datetime64[ns] or datetime64[ns, tz] data type to such a format.\n",
    "\n",
    "Series and DataFrame have extended data type support and functionality for datetime. In order to create this format from a Series or list consisting of timestamps in String or Object form (as is in the case of `stops_df` dataframe), we will use pandas' `to_datetime` function. A single scalar value will be converted to Timestamp data type, whereas, a pandas object will convert to datetime64[ns]."
   ]
  },
  {
   "cell_type": "code",
   "execution_count": 33,
   "id": "b8c0d378",
   "metadata": {},
   "outputs": [
    {
     "data": {
      "text/plain": [
       "Timestamp('2010-11-12 00:00:00')"
      ]
     },
     "execution_count": 33,
     "metadata": {},
     "output_type": "execute_result"
    }
   ],
   "source": [
    "pd.to_datetime(\"2010/11/12\")"
   ]
  },
  {
   "cell_type": "markdown",
   "id": "b1beeb5c",
   "metadata": {},
   "source": [
    "Using this function on the stops DataFrame will result in pandas parsing it to datetime.datetime like format. You can notice the data type it gets converted into. "
   ]
  },
  {
   "cell_type": "code",
   "execution_count": 34,
   "id": "c3dcf535",
   "metadata": {},
   "outputs": [
    {
     "data": {
      "text/plain": [
       "0       2021-01-01\n",
       "1       2021-01-01\n",
       "2       2021-01-01\n",
       "3       2021-01-01\n",
       "4       2021-01-01\n",
       "           ...    \n",
       "76275   2021-02-28\n",
       "76276   2021-02-28\n",
       "76277   2021-02-28\n",
       "76278   2021-02-28\n",
       "76279   2021-02-28\n",
       "Name: DateStop, Length: 76280, dtype: datetime64[ns]"
      ]
     },
     "execution_count": 34,
     "metadata": {},
     "output_type": "execute_result"
    }
   ],
   "source": [
    "pd.to_datetime(stops_df['DateStop'])"
   ]
  },
  {
   "cell_type": "markdown",
   "id": "97e51e3f",
   "metadata": {},
   "source": [
    "We will now assign it back to the original DataFrame. The `to_datetime` function also enables to pass a format argument to ensure specific parsing. This could also potentially speed up the conversion considerably. You can find the format codes on this [link](https://docs.python.org/3/library/datetime.html#strftime-and-strptime-format-codes)."
   ]
  },
  {
   "cell_type": "code",
   "execution_count": 35,
   "id": "2e7f03bf",
   "metadata": {},
   "outputs": [],
   "source": [
    "stops_df['DateStop'] = pd.to_datetime(stops_df['DateStop'], \n",
    "                                      format=\"%Y-%m-%d\")"
   ]
  },
  {
   "cell_type": "markdown",
   "id": "1e71fab0",
   "metadata": {},
   "source": [
    "Every Timestamp has a set of time/date properties or temporal features that can be extracted.\n",
    "\n",
    "For a Series of type datetime, we can use the .dt accessor to extract these properties. This [table](https://pandas.pydata.org/docs/user_guide/timeseries.html#time-date-components) lists all the properties that can be accessed. We will use it to get hour of the day and the day of the week (to classify if the stop was on a weekend or a weekday). We will assign these to a new column in the DataFrame."
   ]
  },
  {
   "cell_type": "code",
   "execution_count": 36,
   "id": "09224d23",
   "metadata": {},
   "outputs": [],
   "source": [
    "stops_df['Month'] = stops_df['DateStop'].dt.month\n",
    "stops_df['Weekday'] = stops_df['DateStop'].dt.weekday"
   ]
  },
  {
   "cell_type": "markdown",
   "id": "9c59f1ea",
   "metadata": {},
   "source": [
    "We can see how we accessed properties from the timestamp in DATESTOP column for some randomly selected rows."
   ]
  },
  {
   "cell_type": "code",
   "execution_count": 37,
   "id": "0882cf8d",
   "metadata": {},
   "outputs": [
    {
     "data": {
      "text/html": [
       "<div>\n",
       "<style scoped>\n",
       "    .dataframe tbody tr th:only-of-type {\n",
       "        vertical-align: middle;\n",
       "    }\n",
       "\n",
       "    .dataframe tbody tr th {\n",
       "        vertical-align: top;\n",
       "    }\n",
       "\n",
       "    .dataframe thead th {\n",
       "        text-align: right;\n",
       "    }\n",
       "</style>\n",
       "<table border=\"1\" class=\"dataframe\">\n",
       "  <thead>\n",
       "    <tr style=\"text-align: right;\">\n",
       "      <th></th>\n",
       "      <th>DateStop</th>\n",
       "      <th>Month</th>\n",
       "      <th>Weekday</th>\n",
       "    </tr>\n",
       "  </thead>\n",
       "  <tbody>\n",
       "    <tr>\n",
       "      <th>1</th>\n",
       "      <td>2021-01-01</td>\n",
       "      <td>1</td>\n",
       "      <td>4</td>\n",
       "    </tr>\n",
       "    <tr>\n",
       "      <th>44</th>\n",
       "      <td>2021-01-01</td>\n",
       "      <td>1</td>\n",
       "      <td>4</td>\n",
       "    </tr>\n",
       "    <tr>\n",
       "      <th>5400</th>\n",
       "      <td>2021-02-06</td>\n",
       "      <td>2</td>\n",
       "      <td>5</td>\n",
       "    </tr>\n",
       "    <tr>\n",
       "      <th>10434</th>\n",
       "      <td>2021-01-05</td>\n",
       "      <td>1</td>\n",
       "      <td>1</td>\n",
       "    </tr>\n",
       "    <tr>\n",
       "      <th>55400</th>\n",
       "      <td>2021-02-20</td>\n",
       "      <td>2</td>\n",
       "      <td>5</td>\n",
       "    </tr>\n",
       "  </tbody>\n",
       "</table>\n",
       "</div>"
      ],
      "text/plain": [
       "        DateStop  Month  Weekday\n",
       "1     2021-01-01      1        4\n",
       "44    2021-01-01      1        4\n",
       "5400  2021-02-06      2        5\n",
       "10434 2021-01-05      1        1\n",
       "55400 2021-02-20      2        5"
      ]
     },
     "execution_count": 37,
     "metadata": {},
     "output_type": "execute_result"
    }
   ],
   "source": [
    "stops_df.loc[[1,44,5400,10434,55400], ['DateStop','Month','Weekday']]"
   ]
  },
  {
   "cell_type": "markdown",
   "id": "df936071",
   "metadata": {},
   "source": [
    "### Missing Values"
   ]
  },
  {
   "cell_type": "markdown",
   "id": "b04458fe",
   "metadata": {},
   "source": [
    "Dealing with missing values is a major component of the data cleaning process. Fortunately, pandas has a set of markers and methods to help us do that. Primarily, pandas uses NaN as the default missing value marker and can be found in different data types.\n",
    "\n",
    "Pandas offers a set of methids to detect, fill or replace NaN values. Moreover, NaNs can also be ignored in pandas function by specifying to ignore NaNs in the function areguments if possible. Therefore, it is handy to convert any value indicating a missing value to a NaN.\n",
    "\n",
    "In order to check for NaN in a DataFrame or Series, we can use `.isna()` or `.notna()` attribute."
   ]
  },
  {
   "cell_type": "code",
   "execution_count": 38,
   "id": "fa1a95c1",
   "metadata": {},
   "outputs": [
    {
     "data": {
      "text/html": [
       "<div>\n",
       "<style scoped>\n",
       "    .dataframe tbody tr th:only-of-type {\n",
       "        vertical-align: middle;\n",
       "    }\n",
       "\n",
       "    .dataframe tbody tr th {\n",
       "        vertical-align: top;\n",
       "    }\n",
       "\n",
       "    .dataframe thead th {\n",
       "        text-align: right;\n",
       "    }\n",
       "</style>\n",
       "<table border=\"1\" class=\"dataframe\">\n",
       "  <thead>\n",
       "    <tr style=\"text-align: right;\">\n",
       "      <th></th>\n",
       "      <th>DateStop</th>\n",
       "      <th>TimeStop</th>\n",
       "      <th>Duration</th>\n",
       "      <th>City</th>\n",
       "      <th>DriverRace</th>\n",
       "      <th>ReasonStop</th>\n",
       "      <th>TypeOfMovingViolation</th>\n",
       "      <th>Beat</th>\n",
       "      <th>SearchConducted</th>\n",
       "      <th>ContraFound</th>\n",
       "      <th>DrugsFound</th>\n",
       "      <th>WeaponFound</th>\n",
       "      <th>Month</th>\n",
       "      <th>Weekday</th>\n",
       "    </tr>\n",
       "  </thead>\n",
       "  <tbody>\n",
       "    <tr>\n",
       "      <th>0</th>\n",
       "      <td>False</td>\n",
       "      <td>False</td>\n",
       "      <td>False</td>\n",
       "      <td>False</td>\n",
       "      <td>False</td>\n",
       "      <td>False</td>\n",
       "      <td>True</td>\n",
       "      <td>False</td>\n",
       "      <td>False</td>\n",
       "      <td>False</td>\n",
       "      <td>False</td>\n",
       "      <td>False</td>\n",
       "      <td>False</td>\n",
       "      <td>False</td>\n",
       "    </tr>\n",
       "    <tr>\n",
       "      <th>1</th>\n",
       "      <td>False</td>\n",
       "      <td>False</td>\n",
       "      <td>False</td>\n",
       "      <td>False</td>\n",
       "      <td>False</td>\n",
       "      <td>False</td>\n",
       "      <td>True</td>\n",
       "      <td>False</td>\n",
       "      <td>False</td>\n",
       "      <td>False</td>\n",
       "      <td>False</td>\n",
       "      <td>False</td>\n",
       "      <td>False</td>\n",
       "      <td>False</td>\n",
       "    </tr>\n",
       "    <tr>\n",
       "      <th>2</th>\n",
       "      <td>False</td>\n",
       "      <td>False</td>\n",
       "      <td>False</td>\n",
       "      <td>False</td>\n",
       "      <td>False</td>\n",
       "      <td>False</td>\n",
       "      <td>True</td>\n",
       "      <td>False</td>\n",
       "      <td>False</td>\n",
       "      <td>False</td>\n",
       "      <td>False</td>\n",
       "      <td>False</td>\n",
       "      <td>False</td>\n",
       "      <td>False</td>\n",
       "    </tr>\n",
       "    <tr>\n",
       "      <th>3</th>\n",
       "      <td>False</td>\n",
       "      <td>False</td>\n",
       "      <td>False</td>\n",
       "      <td>False</td>\n",
       "      <td>False</td>\n",
       "      <td>False</td>\n",
       "      <td>True</td>\n",
       "      <td>False</td>\n",
       "      <td>False</td>\n",
       "      <td>False</td>\n",
       "      <td>False</td>\n",
       "      <td>False</td>\n",
       "      <td>False</td>\n",
       "      <td>False</td>\n",
       "    </tr>\n",
       "    <tr>\n",
       "      <th>4</th>\n",
       "      <td>False</td>\n",
       "      <td>False</td>\n",
       "      <td>False</td>\n",
       "      <td>False</td>\n",
       "      <td>False</td>\n",
       "      <td>False</td>\n",
       "      <td>True</td>\n",
       "      <td>False</td>\n",
       "      <td>False</td>\n",
       "      <td>False</td>\n",
       "      <td>False</td>\n",
       "      <td>False</td>\n",
       "      <td>False</td>\n",
       "      <td>False</td>\n",
       "    </tr>\n",
       "  </tbody>\n",
       "</table>\n",
       "</div>"
      ],
      "text/plain": [
       "   DateStop  TimeStop  Duration   City  DriverRace  ReasonStop  \\\n",
       "0     False     False     False  False       False       False   \n",
       "1     False     False     False  False       False       False   \n",
       "2     False     False     False  False       False       False   \n",
       "3     False     False     False  False       False       False   \n",
       "4     False     False     False  False       False       False   \n",
       "\n",
       "   TypeOfMovingViolation   Beat  SearchConducted  ContraFound  DrugsFound  \\\n",
       "0                   True  False            False        False       False   \n",
       "1                   True  False            False        False       False   \n",
       "2                   True  False            False        False       False   \n",
       "3                   True  False            False        False       False   \n",
       "4                   True  False            False        False       False   \n",
       "\n",
       "   WeaponFound  Month  Weekday  \n",
       "0        False  False    False  \n",
       "1        False  False    False  \n",
       "2        False  False    False  \n",
       "3        False  False    False  \n",
       "4        False  False    False  "
      ]
     },
     "execution_count": 38,
     "metadata": {},
     "output_type": "execute_result"
    }
   ],
   "source": [
    "stops_df.isna().head()"
   ]
  },
  {
   "cell_type": "markdown",
   "id": "240ec962",
   "metadata": {},
   "source": [
    "Using `.notna()` will reverse the results. As you can notice above, we can find missing values in the column 'TypeOfMovingViolation' with slight glimpse over the dataframe. In order to count the total missing values in all columns, we can suffix it with a method `.sum()` which adds all cells where value is True (where each True is 1)."
   ]
  },
  {
   "cell_type": "code",
   "execution_count": 39,
   "id": "4c8bae75",
   "metadata": {},
   "outputs": [
    {
     "data": {
      "text/plain": [
       "DateStop                     0\n",
       "TimeStop                     0\n",
       "Duration                     0\n",
       "City                         0\n",
       "DriverRace                   3\n",
       "ReasonStop                   0\n",
       "TypeOfMovingViolation    53326\n",
       "Beat                         0\n",
       "SearchConducted              0\n",
       "ContraFound                  0\n",
       "DrugsFound                   0\n",
       "WeaponFound                  0\n",
       "Month                        0\n",
       "Weekday                      0\n",
       "dtype: int64"
      ]
     },
     "execution_count": 39,
     "metadata": {},
     "output_type": "execute_result"
    }
   ],
   "source": [
    "stops_df.isna().sum()"
   ]
  },
  {
   "cell_type": "markdown",
   "id": "0ac2f8e1",
   "metadata": {},
   "source": [
    "One of the ways to deal with these missing values is to fill in the NaNs with a scaler value using `.fillna()`. Here, the method accepts the value to be replaced. The inplace argument, when set to True, applies the changes to the DataFrame."
   ]
  },
  {
   "cell_type": "code",
   "execution_count": 40,
   "id": "78790009",
   "metadata": {},
   "outputs": [],
   "source": [
    "stops_df['TypeOfMovingViolation'].fillna('No moving violation', \n",
    "                                         inplace = True)"
   ]
  },
  {
   "cell_type": "markdown",
   "id": "8aadecba",
   "metadata": {},
   "source": [
    "**Note**: For storage purposes, it isn't optimal to fill in categorical with a long string. Therefore, categories are usually mapped to a single character to save space.\n",
    "\n",
    "Another way is to simply exclude rows or columns from a dataset that might contain missing values. We need to be very careful when deciding to use this approach since we might lose critical data or reduce the data size.\n",
    "\n",
    "In case we plan to, `dropna()` will do the job for use. By specifying the axis in the argument (either 'index' or 'columns'), the specified axis containing atleast one NaN will be removed.\n",
    "\n",
    "We will use it below to remove the rows where the Driver's Race is missing since that is the key value for our analysis. We specify the column name as the subset argument to only remove rows where 'DriveRace' is missing."
   ]
  },
  {
   "cell_type": "code",
   "execution_count": 41,
   "id": "371395a9",
   "metadata": {},
   "outputs": [],
   "source": [
    "stops_df.dropna(axis='index', \n",
    "                subset=['DriverRace'], \n",
    "                inplace=True)"
   ]
  },
  {
   "cell_type": "markdown",
   "id": "8c2b3a7a",
   "metadata": {},
   "source": [
    "### Mapping/Replacing values and labels"
   ]
  },
  {
   "cell_type": "markdown",
   "id": "e19c43a8",
   "metadata": {},
   "source": [
    "Data cleaning process usuallly requires replacing vague, misspled or missing values with correct ones. IT also requires structuring the index and column labels properly in order to make it easier for analysis.\n",
    "\n",
    "In order to rename index labels or columns, the rename method is very useful. By mapping the existing value to a new one, we can replace the column name."
   ]
  },
  {
   "cell_type": "code",
   "execution_count": 137,
   "id": "3395c43c",
   "metadata": {},
   "outputs": [
    {
     "data": {
      "text/plain": [
       "Index(['DateStop', 'TimeStop', 'Duration', 'City', 'DriverRace', 'ReasonStop',\n",
       "       'TypeOfMovingViolation', 'BeatCode', 'SearchConducted', 'ContraFound',\n",
       "       'DrugsFound', 'WeaponFound', 'Month', 'Weekday'],\n",
       "      dtype='object')"
      ]
     },
     "execution_count": 137,
     "metadata": {},
     "output_type": "execute_result"
    }
   ],
   "source": [
    "stops_df.rename(columns={\"Beat\": \"BeatCode\"}, \n",
    "                inplace= True)\n",
    "stops_df.columns"
   ]
  },
  {
   "cell_type": "markdown",
   "id": "d2709a21",
   "metadata": {},
   "source": [
    "To change any cells value, we can use `.loc()` and `.iloc` as shown below. "
   ]
  },
  {
   "cell_type": "code",
   "execution_count": 188,
   "id": "fb549a9f",
   "metadata": {},
   "outputs": [],
   "source": [
    "stops_df.loc[230, 'City'] = 'Chicago'"
   ]
  },
  {
   "cell_type": "markdown",
   "id": "6917fcdc",
   "metadata": {},
   "source": [
    "However, value replacement, particularly for data cleaning purposes, is usually applied on set of values combined. For such purposes, pandas provides the map method that maps value in a Series (or a column in a DataFrame) to a given set of values. \n",
    "\n",
    "In the cell below, we are using the map method to convert the categorical values of race in numerical form to the actual race title in string as provided in the data dictionary. Note that we are using a dictionary where the key is the existing value and the value is the new string we want to replace it with. Providing a dictionary for mapping is the most convenient way, however, map method takes other forms of inputs too."
   ]
  },
  {
   "cell_type": "code",
   "execution_count": 158,
   "id": "1b0bec04",
   "metadata": {},
   "outputs": [],
   "source": [
    "stops_df['DriverRace'] = stops_df['DriverRace'].map({\n",
    "    1.0: 'White',\n",
    "    2.0: 'Black or African American',\n",
    "    3.0: 'American Indian or Alaska Native',\n",
    "    4.0: 'Hispanic or Latino',\n",
    "    5.0: 'Asian',\n",
    "    6.0: 'Native Hawaiian or Other Pacific Islander',\n",
    "})"
   ]
  },
  {
   "cell_type": "code",
   "execution_count": 192,
   "id": "beb016c1",
   "metadata": {},
   "outputs": [],
   "source": [
    "stops_df['TypeOfMovingViolation'] = stops_df['TypeOfMovingViolation'].map({\n",
    "    1.0: 'Speed',\n",
    "    2.0: 'Lane Violation',\n",
    "    3.0: 'Seat Belt',\n",
    "    4.0: 'Traffic Sign or Signal',\n",
    "    5.0: 'Follow too close',\n",
    "    6.0: 'Other',\n",
    "})"
   ]
  },
  {
   "cell_type": "markdown",
   "id": "e6b878b5",
   "metadata": {},
   "source": [
    "### Statistics"
   ]
  },
  {
   "cell_type": "markdown",
   "id": "96646a9e",
   "metadata": {},
   "source": [
    "In the exploratory process, it is essential to have an understanding of the distribution of data and its summary statistics. Pandas offers a set of methods that provide this information and additionaly, enable us to visualize it.\n",
    "\n",
    "A few ways to do this includes using `mean()` and `median` method to get these summary statis for a DataFrame or a Series. See the cells below:"
   ]
  },
  {
   "cell_type": "code",
   "execution_count": 47,
   "id": "95e21420",
   "metadata": {},
   "outputs": [
    {
     "data": {
      "text/plain": [
       "7.579952016990705"
      ]
     },
     "execution_count": 47,
     "metadata": {},
     "output_type": "execute_result"
    }
   ],
   "source": [
    "stops_df['Duration'].mean()"
   ]
  },
  {
   "cell_type": "code",
   "execution_count": 48,
   "id": "41fa1991",
   "metadata": {},
   "outputs": [
    {
     "data": {
      "text/plain": [
       "4.0"
      ]
     },
     "execution_count": 48,
     "metadata": {},
     "output_type": "execute_result"
    }
   ],
   "source": [
    "stops_df['Duration'].median()"
   ]
  },
  {
   "cell_type": "markdown",
   "id": "70261e11",
   "metadata": {},
   "source": [
    "We got the mean and median duration for all Traffic stops. Depending on the data type, we can gather more of such stats to assist with our analysis. We can also use the `.describe()` method to provide us with a quick way to see essential summary stats for each column. Notice, that summary stats are only given for numeric columns, therefore, we do not see summary stats for any column with datetime, categorical or object type.\n",
    "\n",
    "You can also notice that columns that were supposed to have categorical types and were picked up as integer or float data type, got statistical values that are not relevant. For eg. Month has mean and percentiles. Therefore, this emphasizes on the relevance of converting such columns to categorical data types to get a suitable analysis."
   ]
  },
  {
   "cell_type": "code",
   "execution_count": 50,
   "id": "bdd10b60",
   "metadata": {},
   "outputs": [
    {
     "data": {
      "text/html": [
       "<div>\n",
       "<style scoped>\n",
       "    .dataframe tbody tr th:only-of-type {\n",
       "        vertical-align: middle;\n",
       "    }\n",
       "\n",
       "    .dataframe tbody tr th {\n",
       "        vertical-align: top;\n",
       "    }\n",
       "\n",
       "    .dataframe thead th {\n",
       "        text-align: right;\n",
       "    }\n",
       "</style>\n",
       "<table border=\"1\" class=\"dataframe\">\n",
       "  <thead>\n",
       "    <tr style=\"text-align: right;\">\n",
       "      <th></th>\n",
       "      <th>Duration</th>\n",
       "      <th>Beat</th>\n",
       "      <th>SearchConducted</th>\n",
       "      <th>ContraFound</th>\n",
       "      <th>DrugsFound</th>\n",
       "      <th>WeaponFound</th>\n",
       "      <th>Month</th>\n",
       "      <th>Weekday</th>\n",
       "    </tr>\n",
       "  </thead>\n",
       "  <tbody>\n",
       "    <tr>\n",
       "      <th>count</th>\n",
       "      <td>76277.000000</td>\n",
       "      <td>76277.000000</td>\n",
       "      <td>76277.000000</td>\n",
       "      <td>76277.000000</td>\n",
       "      <td>76277.000000</td>\n",
       "      <td>76277.000000</td>\n",
       "      <td>76277.000000</td>\n",
       "      <td>76277.000000</td>\n",
       "    </tr>\n",
       "    <tr>\n",
       "      <th>mean</th>\n",
       "      <td>7.579952</td>\n",
       "      <td>1081.627070</td>\n",
       "      <td>1.985251</td>\n",
       "      <td>0.026076</td>\n",
       "      <td>0.027151</td>\n",
       "      <td>0.029091</td>\n",
       "      <td>1.440133</td>\n",
       "      <td>3.116064</td>\n",
       "    </tr>\n",
       "    <tr>\n",
       "      <th>std</th>\n",
       "      <td>26.182170</td>\n",
       "      <td>646.260818</td>\n",
       "      <td>0.120547</td>\n",
       "      <td>0.219205</td>\n",
       "      <td>0.226316</td>\n",
       "      <td>0.238602</td>\n",
       "      <td>0.496406</td>\n",
       "      <td>1.958205</td>\n",
       "    </tr>\n",
       "    <tr>\n",
       "      <th>min</th>\n",
       "      <td>0.000000</td>\n",
       "      <td>111.000000</td>\n",
       "      <td>1.000000</td>\n",
       "      <td>0.000000</td>\n",
       "      <td>0.000000</td>\n",
       "      <td>0.000000</td>\n",
       "      <td>1.000000</td>\n",
       "      <td>0.000000</td>\n",
       "    </tr>\n",
       "    <tr>\n",
       "      <th>25%</th>\n",
       "      <td>3.000000</td>\n",
       "      <td>612.000000</td>\n",
       "      <td>2.000000</td>\n",
       "      <td>0.000000</td>\n",
       "      <td>0.000000</td>\n",
       "      <td>0.000000</td>\n",
       "      <td>1.000000</td>\n",
       "      <td>1.000000</td>\n",
       "    </tr>\n",
       "    <tr>\n",
       "      <th>50%</th>\n",
       "      <td>4.000000</td>\n",
       "      <td>1022.000000</td>\n",
       "      <td>2.000000</td>\n",
       "      <td>0.000000</td>\n",
       "      <td>0.000000</td>\n",
       "      <td>0.000000</td>\n",
       "      <td>1.000000</td>\n",
       "      <td>3.000000</td>\n",
       "    </tr>\n",
       "    <tr>\n",
       "      <th>75%</th>\n",
       "      <td>6.000000</td>\n",
       "      <td>1522.000000</td>\n",
       "      <td>2.000000</td>\n",
       "      <td>0.000000</td>\n",
       "      <td>0.000000</td>\n",
       "      <td>0.000000</td>\n",
       "      <td>2.000000</td>\n",
       "      <td>5.000000</td>\n",
       "    </tr>\n",
       "    <tr>\n",
       "      <th>max</th>\n",
       "      <td>719.000000</td>\n",
       "      <td>6100.000000</td>\n",
       "      <td>2.000000</td>\n",
       "      <td>2.000000</td>\n",
       "      <td>2.000000</td>\n",
       "      <td>2.000000</td>\n",
       "      <td>2.000000</td>\n",
       "      <td>6.000000</td>\n",
       "    </tr>\n",
       "  </tbody>\n",
       "</table>\n",
       "</div>"
      ],
      "text/plain": [
       "           Duration          Beat  SearchConducted   ContraFound  \\\n",
       "count  76277.000000  76277.000000     76277.000000  76277.000000   \n",
       "mean       7.579952   1081.627070         1.985251      0.026076   \n",
       "std       26.182170    646.260818         0.120547      0.219205   \n",
       "min        0.000000    111.000000         1.000000      0.000000   \n",
       "25%        3.000000    612.000000         2.000000      0.000000   \n",
       "50%        4.000000   1022.000000         2.000000      0.000000   \n",
       "75%        6.000000   1522.000000         2.000000      0.000000   \n",
       "max      719.000000   6100.000000         2.000000      2.000000   \n",
       "\n",
       "         DrugsFound   WeaponFound         Month       Weekday  \n",
       "count  76277.000000  76277.000000  76277.000000  76277.000000  \n",
       "mean       0.027151      0.029091      1.440133      3.116064  \n",
       "std        0.226316      0.238602      0.496406      1.958205  \n",
       "min        0.000000      0.000000      1.000000      0.000000  \n",
       "25%        0.000000      0.000000      1.000000      1.000000  \n",
       "50%        0.000000      0.000000      1.000000      3.000000  \n",
       "75%        0.000000      0.000000      2.000000      5.000000  \n",
       "max        2.000000      2.000000      2.000000      6.000000  "
      ]
     },
     "execution_count": 50,
     "metadata": {},
     "output_type": "execute_result"
    }
   ],
   "source": [
    "stops_df.describe()"
   ]
  },
  {
   "cell_type": "markdown",
   "id": "7fafd8a7",
   "metadata": {},
   "source": [
    "Other significant attributes that give useful information include `value_counts()` which provides count of unique values in a series. We can use it to see the number of stops on each day of the week.<br><br>Note: Pandas weekday attribute maps Monday to 0 and Sunday to 6"
   ]
  },
  {
   "cell_type": "code",
   "execution_count": 55,
   "id": "200c9143",
   "metadata": {},
   "outputs": [
    {
     "data": {
      "text/plain": [
       "4    12198\n",
       "5    11944\n",
       "3    10899\n",
       "6    10780\n",
       "2    10695\n",
       "1    10405\n",
       "0     9356\n",
       "Name: Weekday, dtype: int64"
      ]
     },
     "execution_count": 55,
     "metadata": {},
     "output_type": "execute_result"
    }
   ],
   "source": [
    "stops_df['Weekday'].value_counts()"
   ]
  },
  {
   "cell_type": "markdown",
   "id": "b4a53dfd",
   "metadata": {},
   "source": [
    "### Pointers and Object References"
   ]
  },
  {
   "cell_type": "markdown",
   "id": "4bbba80a",
   "metadata": {},
   "source": [
    "It is important to know how Pandas objects are treated, especially when they are passed to functions or when changes are made to them. You might be familiar with how arguments to functions are pass-by-value where python creates a copy of the variable inside the function and works with that copy. However, pandas objects, particularly DataFrame and Series are passed as pass-by-reference, where the variable *pointing* to the pandas object is given to the function and, therefore, any changes made to the object the pointer variable is pointing to within the function, also changes the object in place.\n",
    "\n",
    "Moreover, any assignment to a new variable such as `df2 = df` just makes the new variable point to the same DataFrame and as a result, any changes made to `df2` will also impact `df` since they both point to the same object."
   ]
  },
  {
   "cell_type": "code",
   "execution_count": 118,
   "id": "a69dc765",
   "metadata": {},
   "outputs": [
    {
     "data": {
      "text/html": [
       "<div>\n",
       "<style scoped>\n",
       "    .dataframe tbody tr th:only-of-type {\n",
       "        vertical-align: middle;\n",
       "    }\n",
       "\n",
       "    .dataframe tbody tr th {\n",
       "        vertical-align: top;\n",
       "    }\n",
       "\n",
       "    .dataframe thead th {\n",
       "        text-align: right;\n",
       "    }\n",
       "</style>\n",
       "<table border=\"1\" class=\"dataframe\">\n",
       "  <thead>\n",
       "    <tr style=\"text-align: right;\">\n",
       "      <th></th>\n",
       "      <th>Chrome</th>\n",
       "      <th>Safari</th>\n",
       "      <th>Firefox</th>\n",
       "    </tr>\n",
       "  </thead>\n",
       "  <tbody>\n",
       "    <tr>\n",
       "      <th>2018</th>\n",
       "      <td>67</td>\n",
       "      <td>44</td>\n",
       "      <td>8</td>\n",
       "    </tr>\n",
       "    <tr>\n",
       "      <th>2019</th>\n",
       "      <td>74</td>\n",
       "      <td>58</td>\n",
       "      <td>14</td>\n",
       "    </tr>\n",
       "    <tr>\n",
       "      <th>2020</th>\n",
       "      <td>89</td>\n",
       "      <td>70</td>\n",
       "      <td>16</td>\n",
       "    </tr>\n",
       "  </tbody>\n",
       "</table>\n",
       "</div>"
      ],
      "text/plain": [
       "      Chrome  Safari  Firefox\n",
       "2018      67      44        8\n",
       "2019      74      58       14\n",
       "2020      89      70       16"
      ]
     },
     "execution_count": 118,
     "metadata": {},
     "output_type": "execute_result"
    }
   ],
   "source": [
    "df"
   ]
  },
  {
   "cell_type": "code",
   "execution_count": 119,
   "id": "48471861",
   "metadata": {},
   "outputs": [],
   "source": [
    "df2 = df"
   ]
  },
  {
   "cell_type": "code",
   "execution_count": 120,
   "id": "f47ad5fe",
   "metadata": {},
   "outputs": [],
   "source": [
    "df2.loc[2018, 'Safari'] = 87"
   ]
  },
  {
   "cell_type": "code",
   "execution_count": 121,
   "id": "44470e13",
   "metadata": {},
   "outputs": [
    {
     "data": {
      "text/html": [
       "<div>\n",
       "<style scoped>\n",
       "    .dataframe tbody tr th:only-of-type {\n",
       "        vertical-align: middle;\n",
       "    }\n",
       "\n",
       "    .dataframe tbody tr th {\n",
       "        vertical-align: top;\n",
       "    }\n",
       "\n",
       "    .dataframe thead th {\n",
       "        text-align: right;\n",
       "    }\n",
       "</style>\n",
       "<table border=\"1\" class=\"dataframe\">\n",
       "  <thead>\n",
       "    <tr style=\"text-align: right;\">\n",
       "      <th></th>\n",
       "      <th>Chrome</th>\n",
       "      <th>Safari</th>\n",
       "      <th>Firefox</th>\n",
       "    </tr>\n",
       "  </thead>\n",
       "  <tbody>\n",
       "    <tr>\n",
       "      <th>2018</th>\n",
       "      <td>67</td>\n",
       "      <td>87</td>\n",
       "      <td>8</td>\n",
       "    </tr>\n",
       "    <tr>\n",
       "      <th>2019</th>\n",
       "      <td>74</td>\n",
       "      <td>58</td>\n",
       "      <td>14</td>\n",
       "    </tr>\n",
       "    <tr>\n",
       "      <th>2020</th>\n",
       "      <td>89</td>\n",
       "      <td>70</td>\n",
       "      <td>16</td>\n",
       "    </tr>\n",
       "  </tbody>\n",
       "</table>\n",
       "</div>"
      ],
      "text/plain": [
       "      Chrome  Safari  Firefox\n",
       "2018      67      87        8\n",
       "2019      74      58       14\n",
       "2020      89      70       16"
      ]
     },
     "execution_count": 121,
     "metadata": {},
     "output_type": "execute_result"
    }
   ],
   "source": [
    "df"
   ]
  },
  {
   "cell_type": "code",
   "execution_count": 122,
   "id": "929ad09b",
   "metadata": {},
   "outputs": [
    {
     "data": {
      "text/html": [
       "<div>\n",
       "<style scoped>\n",
       "    .dataframe tbody tr th:only-of-type {\n",
       "        vertical-align: middle;\n",
       "    }\n",
       "\n",
       "    .dataframe tbody tr th {\n",
       "        vertical-align: top;\n",
       "    }\n",
       "\n",
       "    .dataframe thead th {\n",
       "        text-align: right;\n",
       "    }\n",
       "</style>\n",
       "<table border=\"1\" class=\"dataframe\">\n",
       "  <thead>\n",
       "    <tr style=\"text-align: right;\">\n",
       "      <th></th>\n",
       "      <th>Chrome</th>\n",
       "      <th>Safari</th>\n",
       "      <th>Firefox</th>\n",
       "    </tr>\n",
       "  </thead>\n",
       "  <tbody>\n",
       "    <tr>\n",
       "      <th>2018</th>\n",
       "      <td>67</td>\n",
       "      <td>87</td>\n",
       "      <td>8</td>\n",
       "    </tr>\n",
       "    <tr>\n",
       "      <th>2019</th>\n",
       "      <td>74</td>\n",
       "      <td>58</td>\n",
       "      <td>14</td>\n",
       "    </tr>\n",
       "    <tr>\n",
       "      <th>2020</th>\n",
       "      <td>89</td>\n",
       "      <td>70</td>\n",
       "      <td>16</td>\n",
       "    </tr>\n",
       "    <tr>\n",
       "      <th>2021</th>\n",
       "      <td>32</td>\n",
       "      <td>19</td>\n",
       "      <td>45</td>\n",
       "    </tr>\n",
       "  </tbody>\n",
       "</table>\n",
       "</div>"
      ],
      "text/plain": [
       "      Chrome  Safari  Firefox\n",
       "2018      67      87        8\n",
       "2019      74      58       14\n",
       "2020      89      70       16\n",
       "2021      32      19       45"
      ]
     },
     "execution_count": 122,
     "metadata": {},
     "output_type": "execute_result"
    }
   ],
   "source": [
    "df2.loc[2021] = [32, 19, 45]\n",
    "df"
   ]
  },
  {
   "cell_type": "markdown",
   "id": "eaea6603",
   "metadata": {},
   "source": [
    "Similarly, passing dataframe as an argument to a function call doesn't create a new copy but changes the DataFrame in-place as it is only passing the reference of the DataFrame object and not the data."
   ]
  },
  {
   "cell_type": "code",
   "execution_count": 123,
   "id": "5ca6aae8",
   "metadata": {},
   "outputs": [],
   "source": [
    "def square_vals(dataframe):\n",
    "    print(dataframe**2)"
   ]
  },
  {
   "cell_type": "code",
   "execution_count": 124,
   "id": "dca10479",
   "metadata": {},
   "outputs": [
    {
     "name": "stdout",
     "output_type": "stream",
     "text": [
      "      Chrome  Safari  Firefox\n",
      "2018    4489    7569       64\n",
      "2019    5476    3364      196\n",
      "2020    7921    4900      256\n",
      "2021    1024     361     2025\n"
     ]
    }
   ],
   "source": [
    "square_vals(df)"
   ]
  },
  {
   "cell_type": "markdown",
   "id": "91c14f9c",
   "metadata": {},
   "source": [
    "The process above of assigning DataFrame to a new variable using `=` sign doesn't copy the values but just makes the new variable another point of reference for the dataframe. \n",
    "\n",
    "Pandas uses a method called shallow copy. This creates a new object where the object will only have references to the original data and its indexes but not the data and index itself. Any changes to values in a shallow copy will also reflect in the original dataframe. The difference this has with using the assignment operator `=` is that we can append extra rows and columns to the shallow copied dataframe without affecting the original one. The original dataframe will only change if we change existing values as we are changing the values that are referred to in both the dataframes."
   ]
  },
  {
   "cell_type": "code",
   "execution_count": 125,
   "id": "4f071707",
   "metadata": {},
   "outputs": [
    {
     "data": {
      "text/html": [
       "<div>\n",
       "<style scoped>\n",
       "    .dataframe tbody tr th:only-of-type {\n",
       "        vertical-align: middle;\n",
       "    }\n",
       "\n",
       "    .dataframe tbody tr th {\n",
       "        vertical-align: top;\n",
       "    }\n",
       "\n",
       "    .dataframe thead th {\n",
       "        text-align: right;\n",
       "    }\n",
       "</style>\n",
       "<table border=\"1\" class=\"dataframe\">\n",
       "  <thead>\n",
       "    <tr style=\"text-align: right;\">\n",
       "      <th></th>\n",
       "      <th>Chrome</th>\n",
       "      <th>Safari</th>\n",
       "      <th>Firefox</th>\n",
       "    </tr>\n",
       "  </thead>\n",
       "  <tbody>\n",
       "    <tr>\n",
       "      <th>2018</th>\n",
       "      <td>67</td>\n",
       "      <td>87</td>\n",
       "      <td>8</td>\n",
       "    </tr>\n",
       "    <tr>\n",
       "      <th>2019</th>\n",
       "      <td>74</td>\n",
       "      <td>58</td>\n",
       "      <td>14</td>\n",
       "    </tr>\n",
       "    <tr>\n",
       "      <th>2020</th>\n",
       "      <td>89</td>\n",
       "      <td>70</td>\n",
       "      <td>16</td>\n",
       "    </tr>\n",
       "    <tr>\n",
       "      <th>2021</th>\n",
       "      <td>32</td>\n",
       "      <td>19</td>\n",
       "      <td>45</td>\n",
       "    </tr>\n",
       "  </tbody>\n",
       "</table>\n",
       "</div>"
      ],
      "text/plain": [
       "      Chrome  Safari  Firefox\n",
       "2018      67      87        8\n",
       "2019      74      58       14\n",
       "2020      89      70       16\n",
       "2021      32      19       45"
      ]
     },
     "execution_count": 125,
     "metadata": {},
     "output_type": "execute_result"
    }
   ],
   "source": [
    "df"
   ]
  },
  {
   "cell_type": "code",
   "execution_count": 126,
   "id": "c55d857e",
   "metadata": {},
   "outputs": [],
   "source": [
    "df_shallow = df.copy(deep=False)"
   ]
  },
  {
   "cell_type": "code",
   "execution_count": 127,
   "id": "df85bd6b",
   "metadata": {},
   "outputs": [
    {
     "data": {
      "text/html": [
       "<div>\n",
       "<style scoped>\n",
       "    .dataframe tbody tr th:only-of-type {\n",
       "        vertical-align: middle;\n",
       "    }\n",
       "\n",
       "    .dataframe tbody tr th {\n",
       "        vertical-align: top;\n",
       "    }\n",
       "\n",
       "    .dataframe thead th {\n",
       "        text-align: right;\n",
       "    }\n",
       "</style>\n",
       "<table border=\"1\" class=\"dataframe\">\n",
       "  <thead>\n",
       "    <tr style=\"text-align: right;\">\n",
       "      <th></th>\n",
       "      <th>Chrome</th>\n",
       "      <th>Safari</th>\n",
       "      <th>Firefox</th>\n",
       "    </tr>\n",
       "  </thead>\n",
       "  <tbody>\n",
       "    <tr>\n",
       "      <th>2018</th>\n",
       "      <td>67</td>\n",
       "      <td>87</td>\n",
       "      <td>8</td>\n",
       "    </tr>\n",
       "    <tr>\n",
       "      <th>2019</th>\n",
       "      <td>74</td>\n",
       "      <td>58</td>\n",
       "      <td>14</td>\n",
       "    </tr>\n",
       "    <tr>\n",
       "      <th>2020</th>\n",
       "      <td>80</td>\n",
       "      <td>70</td>\n",
       "      <td>16</td>\n",
       "    </tr>\n",
       "    <tr>\n",
       "      <th>2021</th>\n",
       "      <td>32</td>\n",
       "      <td>19</td>\n",
       "      <td>45</td>\n",
       "    </tr>\n",
       "  </tbody>\n",
       "</table>\n",
       "</div>"
      ],
      "text/plain": [
       "      Chrome  Safari  Firefox\n",
       "2018      67      87        8\n",
       "2019      74      58       14\n",
       "2020      80      70       16\n",
       "2021      32      19       45"
      ]
     },
     "execution_count": 127,
     "metadata": {},
     "output_type": "execute_result"
    }
   ],
   "source": [
    "df_shallow.loc[2020, 'Chrome'] = 80\n",
    "df"
   ]
  },
  {
   "cell_type": "code",
   "execution_count": 128,
   "id": "a303ff48",
   "metadata": {},
   "outputs": [
    {
     "data": {
      "text/html": [
       "<div>\n",
       "<style scoped>\n",
       "    .dataframe tbody tr th:only-of-type {\n",
       "        vertical-align: middle;\n",
       "    }\n",
       "\n",
       "    .dataframe tbody tr th {\n",
       "        vertical-align: top;\n",
       "    }\n",
       "\n",
       "    .dataframe thead th {\n",
       "        text-align: right;\n",
       "    }\n",
       "</style>\n",
       "<table border=\"1\" class=\"dataframe\">\n",
       "  <thead>\n",
       "    <tr style=\"text-align: right;\">\n",
       "      <th></th>\n",
       "      <th>Chrome</th>\n",
       "      <th>Safari</th>\n",
       "      <th>Firefox</th>\n",
       "    </tr>\n",
       "  </thead>\n",
       "  <tbody>\n",
       "    <tr>\n",
       "      <th>2018</th>\n",
       "      <td>67</td>\n",
       "      <td>87</td>\n",
       "      <td>8</td>\n",
       "    </tr>\n",
       "    <tr>\n",
       "      <th>2019</th>\n",
       "      <td>74</td>\n",
       "      <td>58</td>\n",
       "      <td>14</td>\n",
       "    </tr>\n",
       "    <tr>\n",
       "      <th>2020</th>\n",
       "      <td>80</td>\n",
       "      <td>70</td>\n",
       "      <td>16</td>\n",
       "    </tr>\n",
       "    <tr>\n",
       "      <th>2021</th>\n",
       "      <td>32</td>\n",
       "      <td>19</td>\n",
       "      <td>45</td>\n",
       "    </tr>\n",
       "  </tbody>\n",
       "</table>\n",
       "</div>"
      ],
      "text/plain": [
       "      Chrome  Safari  Firefox\n",
       "2018      67      87        8\n",
       "2019      74      58       14\n",
       "2020      80      70       16\n",
       "2021      32      19       45"
      ]
     },
     "execution_count": 128,
     "metadata": {},
     "output_type": "execute_result"
    }
   ],
   "source": [
    "df_shallow.loc[2022] = [44, 59, 50]\n",
    "df"
   ]
  },
  {
   "cell_type": "markdown",
   "id": "e714cd74",
   "metadata": {},
   "source": [
    "On the other hand, we can use a deep copy which creats a new object and copies both the data and values to the new object. Therefore, any changes to the deep copy will not be reflected in the original copy."
   ]
  },
  {
   "cell_type": "code",
   "execution_count": 129,
   "id": "bb46ea63",
   "metadata": {},
   "outputs": [],
   "source": [
    "df_deep = df.copy(deep=True)"
   ]
  },
  {
   "cell_type": "code",
   "execution_count": 130,
   "id": "22d97b7b",
   "metadata": {},
   "outputs": [
    {
     "data": {
      "text/html": [
       "<div>\n",
       "<style scoped>\n",
       "    .dataframe tbody tr th:only-of-type {\n",
       "        vertical-align: middle;\n",
       "    }\n",
       "\n",
       "    .dataframe tbody tr th {\n",
       "        vertical-align: top;\n",
       "    }\n",
       "\n",
       "    .dataframe thead th {\n",
       "        text-align: right;\n",
       "    }\n",
       "</style>\n",
       "<table border=\"1\" class=\"dataframe\">\n",
       "  <thead>\n",
       "    <tr style=\"text-align: right;\">\n",
       "      <th></th>\n",
       "      <th>Chrome</th>\n",
       "      <th>Safari</th>\n",
       "      <th>Firefox</th>\n",
       "    </tr>\n",
       "  </thead>\n",
       "  <tbody>\n",
       "    <tr>\n",
       "      <th>2018</th>\n",
       "      <td>67</td>\n",
       "      <td>87</td>\n",
       "      <td>99</td>\n",
       "    </tr>\n",
       "    <tr>\n",
       "      <th>2019</th>\n",
       "      <td>74</td>\n",
       "      <td>58</td>\n",
       "      <td>14</td>\n",
       "    </tr>\n",
       "    <tr>\n",
       "      <th>2020</th>\n",
       "      <td>80</td>\n",
       "      <td>70</td>\n",
       "      <td>16</td>\n",
       "    </tr>\n",
       "    <tr>\n",
       "      <th>2021</th>\n",
       "      <td>32</td>\n",
       "      <td>19</td>\n",
       "      <td>45</td>\n",
       "    </tr>\n",
       "  </tbody>\n",
       "</table>\n",
       "</div>"
      ],
      "text/plain": [
       "      Chrome  Safari  Firefox\n",
       "2018      67      87       99\n",
       "2019      74      58       14\n",
       "2020      80      70       16\n",
       "2021      32      19       45"
      ]
     },
     "execution_count": 130,
     "metadata": {},
     "output_type": "execute_result"
    }
   ],
   "source": [
    "df_deep.loc[2018, 'Firefox'] = 99\n",
    "df_deep"
   ]
  },
  {
   "cell_type": "code",
   "execution_count": 131,
   "id": "cd0cfdcc",
   "metadata": {},
   "outputs": [
    {
     "data": {
      "text/html": [
       "<div>\n",
       "<style scoped>\n",
       "    .dataframe tbody tr th:only-of-type {\n",
       "        vertical-align: middle;\n",
       "    }\n",
       "\n",
       "    .dataframe tbody tr th {\n",
       "        vertical-align: top;\n",
       "    }\n",
       "\n",
       "    .dataframe thead th {\n",
       "        text-align: right;\n",
       "    }\n",
       "</style>\n",
       "<table border=\"1\" class=\"dataframe\">\n",
       "  <thead>\n",
       "    <tr style=\"text-align: right;\">\n",
       "      <th></th>\n",
       "      <th>Chrome</th>\n",
       "      <th>Safari</th>\n",
       "      <th>Firefox</th>\n",
       "    </tr>\n",
       "  </thead>\n",
       "  <tbody>\n",
       "    <tr>\n",
       "      <th>2018</th>\n",
       "      <td>67</td>\n",
       "      <td>87</td>\n",
       "      <td>8</td>\n",
       "    </tr>\n",
       "    <tr>\n",
       "      <th>2019</th>\n",
       "      <td>74</td>\n",
       "      <td>58</td>\n",
       "      <td>14</td>\n",
       "    </tr>\n",
       "    <tr>\n",
       "      <th>2020</th>\n",
       "      <td>80</td>\n",
       "      <td>70</td>\n",
       "      <td>16</td>\n",
       "    </tr>\n",
       "    <tr>\n",
       "      <th>2021</th>\n",
       "      <td>32</td>\n",
       "      <td>19</td>\n",
       "      <td>45</td>\n",
       "    </tr>\n",
       "  </tbody>\n",
       "</table>\n",
       "</div>"
      ],
      "text/plain": [
       "      Chrome  Safari  Firefox\n",
       "2018      67      87        8\n",
       "2019      74      58       14\n",
       "2020      80      70       16\n",
       "2021      32      19       45"
      ]
     },
     "execution_count": 131,
     "metadata": {},
     "output_type": "execute_result"
    }
   ],
   "source": [
    "df"
   ]
  },
  {
   "cell_type": "markdown",
   "id": "fca2e4b3",
   "metadata": {},
   "source": [
    "**Note**: It is important to note that within deep copy, data is copied but actual Python objects will not be copied recursively, only the reference to the object. This means that if the cells in the dataframe contain references to other objects, the references will be copied only and not the objects it refers too. "
   ]
  },
  {
   "cell_type": "markdown",
   "id": "d312c7c6",
   "metadata": {},
   "source": [
    "### Export"
   ]
  },
  {
   "cell_type": "markdown",
   "id": "df6f052a",
   "metadata": {},
   "source": [
    "In the beginning, we went through how we can import a variety of files and read it as a pandas object. Similarly, we can make use of writer functions that enable us to save a pandas object to your computer. For saving dataframes, a few of the methods that we can use are `.to_csv()` (comma-separated file format), `.to_excel()` (MS Excel format) and `to_pickle()` (Python pickle format). All these methods take the file path as the first argument."
   ]
  },
  {
   "cell_type": "code",
   "execution_count": 133,
   "id": "201b8f19",
   "metadata": {},
   "outputs": [],
   "source": [
    "df.to_csv('brower.csv')"
   ]
  },
  {
   "cell_type": "markdown",
   "id": "1d739100",
   "metadata": {},
   "source": [
    "### Groupby"
   ]
  },
  {
   "cell_type": "markdown",
   "id": "ec42c5b3",
   "metadata": {},
   "source": [
    "Groupby is certainly amongst the most useful set of methods in pandas. To make this concept intuitive, we will break it down into its 3 major steps: split-apply-combine.\n",
    "\n",
    "In the *split* step, the data is divided into groups by a criteria. For eg. we will group our datasets into race groups (6 in this DataFrame). The format for this step is shown below where the `groupby()` method takes the column name to group over as an argument."
   ]
  },
  {
   "cell_type": "code",
   "execution_count": 162,
   "id": "8c347f7a",
   "metadata": {},
   "outputs": [],
   "source": [
    "RaceGroups = stops_df.groupby('DriverRace')"
   ]
  },
  {
   "cell_type": "markdown",
   "id": "91ecda02",
   "metadata": {},
   "source": [
    "In the *apply* step, a function is applied to each group that was formed. These are referred to as aggregation functions. We will use an averaging function (mean) to be applied to values in each race group.\n",
    "\n",
    "The *combine* step then combines and structures the result into a DataFrame. By applying the aggregation function to the grouped data below, we are performing both the apply and combine step. "
   ]
  },
  {
   "cell_type": "code",
   "execution_count": 169,
   "id": "85a149a2",
   "metadata": {},
   "outputs": [
    {
     "data": {
      "text/html": [
       "<div>\n",
       "<style scoped>\n",
       "    .dataframe tbody tr th:only-of-type {\n",
       "        vertical-align: middle;\n",
       "    }\n",
       "\n",
       "    .dataframe tbody tr th {\n",
       "        vertical-align: top;\n",
       "    }\n",
       "\n",
       "    .dataframe thead th {\n",
       "        text-align: right;\n",
       "    }\n",
       "</style>\n",
       "<table border=\"1\" class=\"dataframe\">\n",
       "  <thead>\n",
       "    <tr style=\"text-align: right;\">\n",
       "      <th></th>\n",
       "      <th>Duration</th>\n",
       "      <th>BeatCode</th>\n",
       "      <th>SearchConducted</th>\n",
       "      <th>ContraFound</th>\n",
       "      <th>DrugsFound</th>\n",
       "      <th>WeaponFound</th>\n",
       "      <th>Month</th>\n",
       "      <th>Weekday</th>\n",
       "    </tr>\n",
       "    <tr>\n",
       "      <th>DriverRace</th>\n",
       "      <th></th>\n",
       "      <th></th>\n",
       "      <th></th>\n",
       "      <th></th>\n",
       "      <th></th>\n",
       "      <th></th>\n",
       "      <th></th>\n",
       "      <th></th>\n",
       "    </tr>\n",
       "  </thead>\n",
       "  <tbody>\n",
       "    <tr>\n",
       "      <th>White</th>\n",
       "      <td>7.501639</td>\n",
       "      <td>1472.421225</td>\n",
       "      <td>1.995715</td>\n",
       "      <td>0.007310</td>\n",
       "      <td>0.007562</td>\n",
       "      <td>0.008571</td>\n",
       "      <td>1.444795</td>\n",
       "      <td>3.098437</td>\n",
       "    </tr>\n",
       "    <tr>\n",
       "      <th>Black or African American</th>\n",
       "      <td>7.777141</td>\n",
       "      <td>931.528335</td>\n",
       "      <td>1.982218</td>\n",
       "      <td>0.031661</td>\n",
       "      <td>0.032955</td>\n",
       "      <td>0.034966</td>\n",
       "      <td>1.437555</td>\n",
       "      <td>3.107487</td>\n",
       "    </tr>\n",
       "    <tr>\n",
       "      <th>American Indian or Alaska Native</th>\n",
       "      <td>6.758278</td>\n",
       "      <td>1316.754967</td>\n",
       "      <td>1.996689</td>\n",
       "      <td>0.006623</td>\n",
       "      <td>0.006623</td>\n",
       "      <td>0.006623</td>\n",
       "      <td>1.476821</td>\n",
       "      <td>3.235099</td>\n",
       "    </tr>\n",
       "    <tr>\n",
       "      <th>Hispanic or Latino</th>\n",
       "      <td>7.168813</td>\n",
       "      <td>1312.990674</td>\n",
       "      <td>1.987629</td>\n",
       "      <td>0.021252</td>\n",
       "      <td>0.022204</td>\n",
       "      <td>0.024678</td>\n",
       "      <td>1.445537</td>\n",
       "      <td>3.153651</td>\n",
       "    </tr>\n",
       "    <tr>\n",
       "      <th>Asian</th>\n",
       "      <td>6.271658</td>\n",
       "      <td>1445.236364</td>\n",
       "      <td>1.998930</td>\n",
       "      <td>0.002139</td>\n",
       "      <td>0.002139</td>\n",
       "      <td>0.002139</td>\n",
       "      <td>1.435829</td>\n",
       "      <td>3.094118</td>\n",
       "    </tr>\n",
       "    <tr>\n",
       "      <th>Native Hawaiian or Other Pacific Islander</th>\n",
       "      <td>7.015957</td>\n",
       "      <td>1291.494681</td>\n",
       "      <td>2.000000</td>\n",
       "      <td>0.000000</td>\n",
       "      <td>0.000000</td>\n",
       "      <td>0.000000</td>\n",
       "      <td>1.462766</td>\n",
       "      <td>3.026596</td>\n",
       "    </tr>\n",
       "  </tbody>\n",
       "</table>\n",
       "</div>"
      ],
      "text/plain": [
       "                                           Duration     BeatCode  \\\n",
       "DriverRace                                                         \n",
       "White                                      7.501639  1472.421225   \n",
       "Black or African American                  7.777141   931.528335   \n",
       "American Indian or Alaska Native           6.758278  1316.754967   \n",
       "Hispanic or Latino                         7.168813  1312.990674   \n",
       "Asian                                      6.271658  1445.236364   \n",
       "Native Hawaiian or Other Pacific Islander  7.015957  1291.494681   \n",
       "\n",
       "                                           SearchConducted  ContraFound  \\\n",
       "DriverRace                                                                \n",
       "White                                             1.995715     0.007310   \n",
       "Black or African American                         1.982218     0.031661   \n",
       "American Indian or Alaska Native                  1.996689     0.006623   \n",
       "Hispanic or Latino                                1.987629     0.021252   \n",
       "Asian                                             1.998930     0.002139   \n",
       "Native Hawaiian or Other Pacific Islander         2.000000     0.000000   \n",
       "\n",
       "                                           DrugsFound  WeaponFound     Month  \\\n",
       "DriverRace                                                                     \n",
       "White                                        0.007562     0.008571  1.444795   \n",
       "Black or African American                    0.032955     0.034966  1.437555   \n",
       "American Indian or Alaska Native             0.006623     0.006623  1.476821   \n",
       "Hispanic or Latino                           0.022204     0.024678  1.445537   \n",
       "Asian                                        0.002139     0.002139  1.435829   \n",
       "Native Hawaiian or Other Pacific Islander    0.000000     0.000000  1.462766   \n",
       "\n",
       "                                            Weekday  \n",
       "DriverRace                                           \n",
       "White                                      3.098437  \n",
       "Black or African American                  3.107487  \n",
       "American Indian or Alaska Native           3.235099  \n",
       "Hispanic or Latino                         3.153651  \n",
       "Asian                                      3.094118  \n",
       "Native Hawaiian or Other Pacific Islander  3.026596  "
      ]
     },
     "execution_count": 169,
     "metadata": {},
     "output_type": "execute_result"
    }
   ],
   "source": [
    "RaceGroups.mean()"
   ]
  },
  {
   "cell_type": "markdown",
   "id": "809fdbb3",
   "metadata": {},
   "source": [
    "For every numerical column that we have in our dataset, we get a mean value for every group. It surely doesn't make sense to have a mean for every column since some of them contain categories. We can select the column we want to aggregate by specifying along with the group."
   ]
  },
  {
   "cell_type": "code",
   "execution_count": 171,
   "id": "1967b1c0",
   "metadata": {},
   "outputs": [
    {
     "data": {
      "text/plain": [
       "DriverRace\n",
       "White                                        7.501639\n",
       "Black or African American                    7.777141\n",
       "American Indian or Alaska Native             6.758278\n",
       "Hispanic or Latino                           7.168813\n",
       "Asian                                        6.271658\n",
       "Native Hawaiian or Other Pacific Islander    7.015957\n",
       "Name: Duration, dtype: float64"
      ]
     },
     "execution_count": 171,
     "metadata": {},
     "output_type": "execute_result"
    }
   ],
   "source": [
    "RaceGroups['Duration'].mean()"
   ]
  },
  {
   "cell_type": "markdown",
   "id": "fe85e11f",
   "metadata": {},
   "source": [
    "In order to set the group names as a column, we need to use the `reset_index()` method."
   ]
  },
  {
   "cell_type": "code",
   "execution_count": 172,
   "id": "64643c51",
   "metadata": {},
   "outputs": [
    {
     "data": {
      "text/html": [
       "<div>\n",
       "<style scoped>\n",
       "    .dataframe tbody tr th:only-of-type {\n",
       "        vertical-align: middle;\n",
       "    }\n",
       "\n",
       "    .dataframe tbody tr th {\n",
       "        vertical-align: top;\n",
       "    }\n",
       "\n",
       "    .dataframe thead th {\n",
       "        text-align: right;\n",
       "    }\n",
       "</style>\n",
       "<table border=\"1\" class=\"dataframe\">\n",
       "  <thead>\n",
       "    <tr style=\"text-align: right;\">\n",
       "      <th></th>\n",
       "      <th>DriverRace</th>\n",
       "      <th>Duration</th>\n",
       "    </tr>\n",
       "  </thead>\n",
       "  <tbody>\n",
       "    <tr>\n",
       "      <th>0</th>\n",
       "      <td>White</td>\n",
       "      <td>7.501639</td>\n",
       "    </tr>\n",
       "    <tr>\n",
       "      <th>1</th>\n",
       "      <td>Black or African American</td>\n",
       "      <td>7.777141</td>\n",
       "    </tr>\n",
       "    <tr>\n",
       "      <th>2</th>\n",
       "      <td>American Indian or Alaska Native</td>\n",
       "      <td>6.758278</td>\n",
       "    </tr>\n",
       "    <tr>\n",
       "      <th>3</th>\n",
       "      <td>Hispanic or Latino</td>\n",
       "      <td>7.168813</td>\n",
       "    </tr>\n",
       "    <tr>\n",
       "      <th>4</th>\n",
       "      <td>Asian</td>\n",
       "      <td>6.271658</td>\n",
       "    </tr>\n",
       "    <tr>\n",
       "      <th>5</th>\n",
       "      <td>Native Hawaiian or Other Pacific Islander</td>\n",
       "      <td>7.015957</td>\n",
       "    </tr>\n",
       "  </tbody>\n",
       "</table>\n",
       "</div>"
      ],
      "text/plain": [
       "                                  DriverRace  Duration\n",
       "0                                      White  7.501639\n",
       "1                  Black or African American  7.777141\n",
       "2           American Indian or Alaska Native  6.758278\n",
       "3                         Hispanic or Latino  7.168813\n",
       "4                                      Asian  6.271658\n",
       "5  Native Hawaiian or Other Pacific Islander  7.015957"
      ]
     },
     "execution_count": 172,
     "metadata": {},
     "output_type": "execute_result"
    }
   ],
   "source": [
    "RaceGroups['Duration'].mean().reset_index()"
   ]
  },
  {
   "cell_type": "markdown",
   "id": "9b541e14",
   "metadata": {},
   "source": [
    "Size is another aggragation function to get the size for each group."
   ]
  },
  {
   "cell_type": "code",
   "execution_count": 166,
   "id": "807f0005",
   "metadata": {},
   "outputs": [
    {
     "data": {
      "text/plain": [
       "DriverRace\n",
       "White                                         7934\n",
       "Black or African American                    50220\n",
       "American Indian or Alaska Native               302\n",
       "Hispanic or Latino                           15763\n",
       "Asian                                         1870\n",
       "Native Hawaiian or Other Pacific Islander      188\n",
       "dtype: int64"
      ]
     },
     "execution_count": 166,
     "metadata": {},
     "output_type": "execute_result"
    }
   ],
   "source": [
    "RaceGroups.size()"
   ]
  },
  {
   "cell_type": "markdown",
   "id": "2f2d1f1d",
   "metadata": {},
   "source": [
    "We can also groupby multiple columns and chain all these steps in a single line."
   ]
  },
  {
   "cell_type": "code",
   "execution_count": 195,
   "id": "7a3fbd87",
   "metadata": {},
   "outputs": [
    {
     "data": {
      "text/html": [
       "<div>\n",
       "<style scoped>\n",
       "    .dataframe tbody tr th:only-of-type {\n",
       "        vertical-align: middle;\n",
       "    }\n",
       "\n",
       "    .dataframe tbody tr th {\n",
       "        vertical-align: top;\n",
       "    }\n",
       "\n",
       "    .dataframe thead th {\n",
       "        text-align: right;\n",
       "    }\n",
       "</style>\n",
       "<table border=\"1\" class=\"dataframe\">\n",
       "  <thead>\n",
       "    <tr style=\"text-align: right;\">\n",
       "      <th></th>\n",
       "      <th>TypeOfMovingViolation</th>\n",
       "      <th>DriverRace</th>\n",
       "      <th>Duration</th>\n",
       "    </tr>\n",
       "  </thead>\n",
       "  <tbody>\n",
       "    <tr>\n",
       "      <th>0</th>\n",
       "      <td>Follow too close</td>\n",
       "      <td>White</td>\n",
       "      <td>4.600000</td>\n",
       "    </tr>\n",
       "    <tr>\n",
       "      <th>1</th>\n",
       "      <td>Follow too close</td>\n",
       "      <td>Black or African American</td>\n",
       "      <td>15.000000</td>\n",
       "    </tr>\n",
       "    <tr>\n",
       "      <th>2</th>\n",
       "      <td>Follow too close</td>\n",
       "      <td>American Indian or Alaska Native</td>\n",
       "      <td>NaN</td>\n",
       "    </tr>\n",
       "    <tr>\n",
       "      <th>3</th>\n",
       "      <td>Follow too close</td>\n",
       "      <td>Hispanic or Latino</td>\n",
       "      <td>7.333333</td>\n",
       "    </tr>\n",
       "    <tr>\n",
       "      <th>4</th>\n",
       "      <td>Follow too close</td>\n",
       "      <td>Asian</td>\n",
       "      <td>5.000000</td>\n",
       "    </tr>\n",
       "    <tr>\n",
       "      <th>5</th>\n",
       "      <td>Follow too close</td>\n",
       "      <td>Native Hawaiian or Other Pacific Islander</td>\n",
       "      <td>NaN</td>\n",
       "    </tr>\n",
       "    <tr>\n",
       "      <th>6</th>\n",
       "      <td>Lane Violation</td>\n",
       "      <td>White</td>\n",
       "      <td>8.907216</td>\n",
       "    </tr>\n",
       "    <tr>\n",
       "      <th>7</th>\n",
       "      <td>Lane Violation</td>\n",
       "      <td>Black or African American</td>\n",
       "      <td>7.950725</td>\n",
       "    </tr>\n",
       "    <tr>\n",
       "      <th>8</th>\n",
       "      <td>Lane Violation</td>\n",
       "      <td>American Indian or Alaska Native</td>\n",
       "      <td>6.100000</td>\n",
       "    </tr>\n",
       "    <tr>\n",
       "      <th>9</th>\n",
       "      <td>Lane Violation</td>\n",
       "      <td>Hispanic or Latino</td>\n",
       "      <td>7.844322</td>\n",
       "    </tr>\n",
       "    <tr>\n",
       "      <th>10</th>\n",
       "      <td>Lane Violation</td>\n",
       "      <td>Asian</td>\n",
       "      <td>11.231707</td>\n",
       "    </tr>\n",
       "    <tr>\n",
       "      <th>11</th>\n",
       "      <td>Lane Violation</td>\n",
       "      <td>Native Hawaiian or Other Pacific Islander</td>\n",
       "      <td>6.363636</td>\n",
       "    </tr>\n",
       "    <tr>\n",
       "      <th>12</th>\n",
       "      <td>Other</td>\n",
       "      <td>White</td>\n",
       "      <td>8.245262</td>\n",
       "    </tr>\n",
       "    <tr>\n",
       "      <th>13</th>\n",
       "      <td>Other</td>\n",
       "      <td>Black or African American</td>\n",
       "      <td>8.885165</td>\n",
       "    </tr>\n",
       "    <tr>\n",
       "      <th>14</th>\n",
       "      <td>Other</td>\n",
       "      <td>American Indian or Alaska Native</td>\n",
       "      <td>5.928571</td>\n",
       "    </tr>\n",
       "    <tr>\n",
       "      <th>15</th>\n",
       "      <td>Other</td>\n",
       "      <td>Hispanic or Latino</td>\n",
       "      <td>10.408136</td>\n",
       "    </tr>\n",
       "    <tr>\n",
       "      <th>16</th>\n",
       "      <td>Other</td>\n",
       "      <td>Asian</td>\n",
       "      <td>6.734940</td>\n",
       "    </tr>\n",
       "    <tr>\n",
       "      <th>17</th>\n",
       "      <td>Other</td>\n",
       "      <td>Native Hawaiian or Other Pacific Islander</td>\n",
       "      <td>5.090909</td>\n",
       "    </tr>\n",
       "    <tr>\n",
       "      <th>18</th>\n",
       "      <td>Seat Belt</td>\n",
       "      <td>White</td>\n",
       "      <td>7.747748</td>\n",
       "    </tr>\n",
       "    <tr>\n",
       "      <th>19</th>\n",
       "      <td>Seat Belt</td>\n",
       "      <td>Black or African American</td>\n",
       "      <td>5.981643</td>\n",
       "    </tr>\n",
       "    <tr>\n",
       "      <th>20</th>\n",
       "      <td>Seat Belt</td>\n",
       "      <td>American Indian or Alaska Native</td>\n",
       "      <td>5.666667</td>\n",
       "    </tr>\n",
       "    <tr>\n",
       "      <th>21</th>\n",
       "      <td>Seat Belt</td>\n",
       "      <td>Hispanic or Latino</td>\n",
       "      <td>5.567123</td>\n",
       "    </tr>\n",
       "    <tr>\n",
       "      <th>22</th>\n",
       "      <td>Seat Belt</td>\n",
       "      <td>Asian</td>\n",
       "      <td>4.444444</td>\n",
       "    </tr>\n",
       "    <tr>\n",
       "      <th>23</th>\n",
       "      <td>Seat Belt</td>\n",
       "      <td>Native Hawaiian or Other Pacific Islander</td>\n",
       "      <td>67.000000</td>\n",
       "    </tr>\n",
       "    <tr>\n",
       "      <th>24</th>\n",
       "      <td>Speed</td>\n",
       "      <td>White</td>\n",
       "      <td>8.500000</td>\n",
       "    </tr>\n",
       "    <tr>\n",
       "      <th>25</th>\n",
       "      <td>Speed</td>\n",
       "      <td>Black or African American</td>\n",
       "      <td>18.070496</td>\n",
       "    </tr>\n",
       "    <tr>\n",
       "      <th>26</th>\n",
       "      <td>Speed</td>\n",
       "      <td>American Indian or Alaska Native</td>\n",
       "      <td>5.000000</td>\n",
       "    </tr>\n",
       "    <tr>\n",
       "      <th>27</th>\n",
       "      <td>Speed</td>\n",
       "      <td>Hispanic or Latino</td>\n",
       "      <td>13.543307</td>\n",
       "    </tr>\n",
       "    <tr>\n",
       "      <th>28</th>\n",
       "      <td>Speed</td>\n",
       "      <td>Asian</td>\n",
       "      <td>9.900000</td>\n",
       "    </tr>\n",
       "    <tr>\n",
       "      <th>29</th>\n",
       "      <td>Speed</td>\n",
       "      <td>Native Hawaiian or Other Pacific Islander</td>\n",
       "      <td>15.000000</td>\n",
       "    </tr>\n",
       "    <tr>\n",
       "      <th>30</th>\n",
       "      <td>Traffic Sign or Signal</td>\n",
       "      <td>White</td>\n",
       "      <td>9.378069</td>\n",
       "    </tr>\n",
       "    <tr>\n",
       "      <th>31</th>\n",
       "      <td>Traffic Sign or Signal</td>\n",
       "      <td>Black or African American</td>\n",
       "      <td>10.094833</td>\n",
       "    </tr>\n",
       "    <tr>\n",
       "      <th>32</th>\n",
       "      <td>Traffic Sign or Signal</td>\n",
       "      <td>American Indian or Alaska Native</td>\n",
       "      <td>8.384615</td>\n",
       "    </tr>\n",
       "    <tr>\n",
       "      <th>33</th>\n",
       "      <td>Traffic Sign or Signal</td>\n",
       "      <td>Hispanic or Latino</td>\n",
       "      <td>8.120463</td>\n",
       "    </tr>\n",
       "    <tr>\n",
       "      <th>34</th>\n",
       "      <td>Traffic Sign or Signal</td>\n",
       "      <td>Asian</td>\n",
       "      <td>6.781362</td>\n",
       "    </tr>\n",
       "    <tr>\n",
       "      <th>35</th>\n",
       "      <td>Traffic Sign or Signal</td>\n",
       "      <td>Native Hawaiian or Other Pacific Islander</td>\n",
       "      <td>7.000000</td>\n",
       "    </tr>\n",
       "  </tbody>\n",
       "</table>\n",
       "</div>"
      ],
      "text/plain": [
       "     TypeOfMovingViolation                                 DriverRace  \\\n",
       "0         Follow too close                                      White   \n",
       "1         Follow too close                  Black or African American   \n",
       "2         Follow too close           American Indian or Alaska Native   \n",
       "3         Follow too close                         Hispanic or Latino   \n",
       "4         Follow too close                                      Asian   \n",
       "5         Follow too close  Native Hawaiian or Other Pacific Islander   \n",
       "6           Lane Violation                                      White   \n",
       "7           Lane Violation                  Black or African American   \n",
       "8           Lane Violation           American Indian or Alaska Native   \n",
       "9           Lane Violation                         Hispanic or Latino   \n",
       "10          Lane Violation                                      Asian   \n",
       "11          Lane Violation  Native Hawaiian or Other Pacific Islander   \n",
       "12                   Other                                      White   \n",
       "13                   Other                  Black or African American   \n",
       "14                   Other           American Indian or Alaska Native   \n",
       "15                   Other                         Hispanic or Latino   \n",
       "16                   Other                                      Asian   \n",
       "17                   Other  Native Hawaiian or Other Pacific Islander   \n",
       "18               Seat Belt                                      White   \n",
       "19               Seat Belt                  Black or African American   \n",
       "20               Seat Belt           American Indian or Alaska Native   \n",
       "21               Seat Belt                         Hispanic or Latino   \n",
       "22               Seat Belt                                      Asian   \n",
       "23               Seat Belt  Native Hawaiian or Other Pacific Islander   \n",
       "24                   Speed                                      White   \n",
       "25                   Speed                  Black or African American   \n",
       "26                   Speed           American Indian or Alaska Native   \n",
       "27                   Speed                         Hispanic or Latino   \n",
       "28                   Speed                                      Asian   \n",
       "29                   Speed  Native Hawaiian or Other Pacific Islander   \n",
       "30  Traffic Sign or Signal                                      White   \n",
       "31  Traffic Sign or Signal                  Black or African American   \n",
       "32  Traffic Sign or Signal           American Indian or Alaska Native   \n",
       "33  Traffic Sign or Signal                         Hispanic or Latino   \n",
       "34  Traffic Sign or Signal                                      Asian   \n",
       "35  Traffic Sign or Signal  Native Hawaiian or Other Pacific Islander   \n",
       "\n",
       "     Duration  \n",
       "0    4.600000  \n",
       "1   15.000000  \n",
       "2         NaN  \n",
       "3    7.333333  \n",
       "4    5.000000  \n",
       "5         NaN  \n",
       "6    8.907216  \n",
       "7    7.950725  \n",
       "8    6.100000  \n",
       "9    7.844322  \n",
       "10  11.231707  \n",
       "11   6.363636  \n",
       "12   8.245262  \n",
       "13   8.885165  \n",
       "14   5.928571  \n",
       "15  10.408136  \n",
       "16   6.734940  \n",
       "17   5.090909  \n",
       "18   7.747748  \n",
       "19   5.981643  \n",
       "20   5.666667  \n",
       "21   5.567123  \n",
       "22   4.444444  \n",
       "23  67.000000  \n",
       "24   8.500000  \n",
       "25  18.070496  \n",
       "26   5.000000  \n",
       "27  13.543307  \n",
       "28   9.900000  \n",
       "29  15.000000  \n",
       "30   9.378069  \n",
       "31  10.094833  \n",
       "32   8.384615  \n",
       "33   8.120463  \n",
       "34   6.781362  \n",
       "35   7.000000  "
      ]
     },
     "execution_count": 195,
     "metadata": {},
     "output_type": "execute_result"
    }
   ],
   "source": [
    "stops_df.groupby(['TypeOfMovingViolation',\n",
    "                  'DriverRace'])['Duration'].mean().reset_index()"
   ]
  },
  {
   "cell_type": "markdown",
   "id": "ed535f38",
   "metadata": {},
   "source": [
    "### Additional Concepts\n",
    "\n",
    "#### Method Chaining\n",
    "\n",
    "As the name suggests, method chaining enables us to use a series of methods in a single command. This is possible because every method that we use on a pandas object gets returned as a pandas object itself, allowing us to apply another method on it. Method chaining simplies are code and makes it more readable.\n",
    "\n",
    "We will repeat the method chaining acion we perfomed previously."
   ]
  },
  {
   "cell_type": "code",
   "execution_count": 196,
   "id": "0a5cabfd",
   "metadata": {},
   "outputs": [
    {
     "data": {
      "text/html": [
       "<div>\n",
       "<style scoped>\n",
       "    .dataframe tbody tr th:only-of-type {\n",
       "        vertical-align: middle;\n",
       "    }\n",
       "\n",
       "    .dataframe tbody tr th {\n",
       "        vertical-align: top;\n",
       "    }\n",
       "\n",
       "    .dataframe thead th {\n",
       "        text-align: right;\n",
       "    }\n",
       "</style>\n",
       "<table border=\"1\" class=\"dataframe\">\n",
       "  <thead>\n",
       "    <tr style=\"text-align: right;\">\n",
       "      <th></th>\n",
       "      <th>TypeOfMovingViolation</th>\n",
       "      <th>DriverRace</th>\n",
       "      <th>Duration</th>\n",
       "    </tr>\n",
       "  </thead>\n",
       "  <tbody>\n",
       "    <tr>\n",
       "      <th>0</th>\n",
       "      <td>Follow too close</td>\n",
       "      <td>White</td>\n",
       "      <td>4.600000</td>\n",
       "    </tr>\n",
       "    <tr>\n",
       "      <th>1</th>\n",
       "      <td>Follow too close</td>\n",
       "      <td>Black or African American</td>\n",
       "      <td>15.000000</td>\n",
       "    </tr>\n",
       "    <tr>\n",
       "      <th>2</th>\n",
       "      <td>Follow too close</td>\n",
       "      <td>American Indian or Alaska Native</td>\n",
       "      <td>NaN</td>\n",
       "    </tr>\n",
       "    <tr>\n",
       "      <th>3</th>\n",
       "      <td>Follow too close</td>\n",
       "      <td>Hispanic or Latino</td>\n",
       "      <td>7.333333</td>\n",
       "    </tr>\n",
       "    <tr>\n",
       "      <th>4</th>\n",
       "      <td>Follow too close</td>\n",
       "      <td>Asian</td>\n",
       "      <td>5.000000</td>\n",
       "    </tr>\n",
       "    <tr>\n",
       "      <th>5</th>\n",
       "      <td>Follow too close</td>\n",
       "      <td>Native Hawaiian or Other Pacific Islander</td>\n",
       "      <td>NaN</td>\n",
       "    </tr>\n",
       "    <tr>\n",
       "      <th>6</th>\n",
       "      <td>Lane Violation</td>\n",
       "      <td>White</td>\n",
       "      <td>8.907216</td>\n",
       "    </tr>\n",
       "    <tr>\n",
       "      <th>7</th>\n",
       "      <td>Lane Violation</td>\n",
       "      <td>Black or African American</td>\n",
       "      <td>7.950725</td>\n",
       "    </tr>\n",
       "    <tr>\n",
       "      <th>8</th>\n",
       "      <td>Lane Violation</td>\n",
       "      <td>American Indian or Alaska Native</td>\n",
       "      <td>6.100000</td>\n",
       "    </tr>\n",
       "    <tr>\n",
       "      <th>9</th>\n",
       "      <td>Lane Violation</td>\n",
       "      <td>Hispanic or Latino</td>\n",
       "      <td>7.844322</td>\n",
       "    </tr>\n",
       "    <tr>\n",
       "      <th>10</th>\n",
       "      <td>Lane Violation</td>\n",
       "      <td>Asian</td>\n",
       "      <td>11.231707</td>\n",
       "    </tr>\n",
       "    <tr>\n",
       "      <th>11</th>\n",
       "      <td>Lane Violation</td>\n",
       "      <td>Native Hawaiian or Other Pacific Islander</td>\n",
       "      <td>6.363636</td>\n",
       "    </tr>\n",
       "    <tr>\n",
       "      <th>12</th>\n",
       "      <td>Other</td>\n",
       "      <td>White</td>\n",
       "      <td>8.245262</td>\n",
       "    </tr>\n",
       "    <tr>\n",
       "      <th>13</th>\n",
       "      <td>Other</td>\n",
       "      <td>Black or African American</td>\n",
       "      <td>8.885165</td>\n",
       "    </tr>\n",
       "    <tr>\n",
       "      <th>14</th>\n",
       "      <td>Other</td>\n",
       "      <td>American Indian or Alaska Native</td>\n",
       "      <td>5.928571</td>\n",
       "    </tr>\n",
       "    <tr>\n",
       "      <th>15</th>\n",
       "      <td>Other</td>\n",
       "      <td>Hispanic or Latino</td>\n",
       "      <td>10.408136</td>\n",
       "    </tr>\n",
       "    <tr>\n",
       "      <th>16</th>\n",
       "      <td>Other</td>\n",
       "      <td>Asian</td>\n",
       "      <td>6.734940</td>\n",
       "    </tr>\n",
       "    <tr>\n",
       "      <th>17</th>\n",
       "      <td>Other</td>\n",
       "      <td>Native Hawaiian or Other Pacific Islander</td>\n",
       "      <td>5.090909</td>\n",
       "    </tr>\n",
       "    <tr>\n",
       "      <th>18</th>\n",
       "      <td>Seat Belt</td>\n",
       "      <td>White</td>\n",
       "      <td>7.747748</td>\n",
       "    </tr>\n",
       "    <tr>\n",
       "      <th>19</th>\n",
       "      <td>Seat Belt</td>\n",
       "      <td>Black or African American</td>\n",
       "      <td>5.981643</td>\n",
       "    </tr>\n",
       "    <tr>\n",
       "      <th>20</th>\n",
       "      <td>Seat Belt</td>\n",
       "      <td>American Indian or Alaska Native</td>\n",
       "      <td>5.666667</td>\n",
       "    </tr>\n",
       "    <tr>\n",
       "      <th>21</th>\n",
       "      <td>Seat Belt</td>\n",
       "      <td>Hispanic or Latino</td>\n",
       "      <td>5.567123</td>\n",
       "    </tr>\n",
       "    <tr>\n",
       "      <th>22</th>\n",
       "      <td>Seat Belt</td>\n",
       "      <td>Asian</td>\n",
       "      <td>4.444444</td>\n",
       "    </tr>\n",
       "    <tr>\n",
       "      <th>23</th>\n",
       "      <td>Seat Belt</td>\n",
       "      <td>Native Hawaiian or Other Pacific Islander</td>\n",
       "      <td>67.000000</td>\n",
       "    </tr>\n",
       "    <tr>\n",
       "      <th>24</th>\n",
       "      <td>Speed</td>\n",
       "      <td>White</td>\n",
       "      <td>8.500000</td>\n",
       "    </tr>\n",
       "    <tr>\n",
       "      <th>25</th>\n",
       "      <td>Speed</td>\n",
       "      <td>Black or African American</td>\n",
       "      <td>18.070496</td>\n",
       "    </tr>\n",
       "    <tr>\n",
       "      <th>26</th>\n",
       "      <td>Speed</td>\n",
       "      <td>American Indian or Alaska Native</td>\n",
       "      <td>5.000000</td>\n",
       "    </tr>\n",
       "    <tr>\n",
       "      <th>27</th>\n",
       "      <td>Speed</td>\n",
       "      <td>Hispanic or Latino</td>\n",
       "      <td>13.543307</td>\n",
       "    </tr>\n",
       "    <tr>\n",
       "      <th>28</th>\n",
       "      <td>Speed</td>\n",
       "      <td>Asian</td>\n",
       "      <td>9.900000</td>\n",
       "    </tr>\n",
       "    <tr>\n",
       "      <th>29</th>\n",
       "      <td>Speed</td>\n",
       "      <td>Native Hawaiian or Other Pacific Islander</td>\n",
       "      <td>15.000000</td>\n",
       "    </tr>\n",
       "    <tr>\n",
       "      <th>30</th>\n",
       "      <td>Traffic Sign or Signal</td>\n",
       "      <td>White</td>\n",
       "      <td>9.378069</td>\n",
       "    </tr>\n",
       "    <tr>\n",
       "      <th>31</th>\n",
       "      <td>Traffic Sign or Signal</td>\n",
       "      <td>Black or African American</td>\n",
       "      <td>10.094833</td>\n",
       "    </tr>\n",
       "    <tr>\n",
       "      <th>32</th>\n",
       "      <td>Traffic Sign or Signal</td>\n",
       "      <td>American Indian or Alaska Native</td>\n",
       "      <td>8.384615</td>\n",
       "    </tr>\n",
       "    <tr>\n",
       "      <th>33</th>\n",
       "      <td>Traffic Sign or Signal</td>\n",
       "      <td>Hispanic or Latino</td>\n",
       "      <td>8.120463</td>\n",
       "    </tr>\n",
       "    <tr>\n",
       "      <th>34</th>\n",
       "      <td>Traffic Sign or Signal</td>\n",
       "      <td>Asian</td>\n",
       "      <td>6.781362</td>\n",
       "    </tr>\n",
       "    <tr>\n",
       "      <th>35</th>\n",
       "      <td>Traffic Sign or Signal</td>\n",
       "      <td>Native Hawaiian or Other Pacific Islander</td>\n",
       "      <td>7.000000</td>\n",
       "    </tr>\n",
       "  </tbody>\n",
       "</table>\n",
       "</div>"
      ],
      "text/plain": [
       "     TypeOfMovingViolation                                 DriverRace  \\\n",
       "0         Follow too close                                      White   \n",
       "1         Follow too close                  Black or African American   \n",
       "2         Follow too close           American Indian or Alaska Native   \n",
       "3         Follow too close                         Hispanic or Latino   \n",
       "4         Follow too close                                      Asian   \n",
       "5         Follow too close  Native Hawaiian or Other Pacific Islander   \n",
       "6           Lane Violation                                      White   \n",
       "7           Lane Violation                  Black or African American   \n",
       "8           Lane Violation           American Indian or Alaska Native   \n",
       "9           Lane Violation                         Hispanic or Latino   \n",
       "10          Lane Violation                                      Asian   \n",
       "11          Lane Violation  Native Hawaiian or Other Pacific Islander   \n",
       "12                   Other                                      White   \n",
       "13                   Other                  Black or African American   \n",
       "14                   Other           American Indian or Alaska Native   \n",
       "15                   Other                         Hispanic or Latino   \n",
       "16                   Other                                      Asian   \n",
       "17                   Other  Native Hawaiian or Other Pacific Islander   \n",
       "18               Seat Belt                                      White   \n",
       "19               Seat Belt                  Black or African American   \n",
       "20               Seat Belt           American Indian or Alaska Native   \n",
       "21               Seat Belt                         Hispanic or Latino   \n",
       "22               Seat Belt                                      Asian   \n",
       "23               Seat Belt  Native Hawaiian or Other Pacific Islander   \n",
       "24                   Speed                                      White   \n",
       "25                   Speed                  Black or African American   \n",
       "26                   Speed           American Indian or Alaska Native   \n",
       "27                   Speed                         Hispanic or Latino   \n",
       "28                   Speed                                      Asian   \n",
       "29                   Speed  Native Hawaiian or Other Pacific Islander   \n",
       "30  Traffic Sign or Signal                                      White   \n",
       "31  Traffic Sign or Signal                  Black or African American   \n",
       "32  Traffic Sign or Signal           American Indian or Alaska Native   \n",
       "33  Traffic Sign or Signal                         Hispanic or Latino   \n",
       "34  Traffic Sign or Signal                                      Asian   \n",
       "35  Traffic Sign or Signal  Native Hawaiian or Other Pacific Islander   \n",
       "\n",
       "     Duration  \n",
       "0    4.600000  \n",
       "1   15.000000  \n",
       "2         NaN  \n",
       "3    7.333333  \n",
       "4    5.000000  \n",
       "5         NaN  \n",
       "6    8.907216  \n",
       "7    7.950725  \n",
       "8    6.100000  \n",
       "9    7.844322  \n",
       "10  11.231707  \n",
       "11   6.363636  \n",
       "12   8.245262  \n",
       "13   8.885165  \n",
       "14   5.928571  \n",
       "15  10.408136  \n",
       "16   6.734940  \n",
       "17   5.090909  \n",
       "18   7.747748  \n",
       "19   5.981643  \n",
       "20   5.666667  \n",
       "21   5.567123  \n",
       "22   4.444444  \n",
       "23  67.000000  \n",
       "24   8.500000  \n",
       "25  18.070496  \n",
       "26   5.000000  \n",
       "27  13.543307  \n",
       "28   9.900000  \n",
       "29  15.000000  \n",
       "30   9.378069  \n",
       "31  10.094833  \n",
       "32   8.384615  \n",
       "33   8.120463  \n",
       "34   6.781362  \n",
       "35   7.000000  "
      ]
     },
     "execution_count": 196,
     "metadata": {},
     "output_type": "execute_result"
    }
   ],
   "source": [
    "stops_df.groupby(['TypeOfMovingViolation',\n",
    "                  'DriverRace'])['Duration'].mean().reset_index()"
   ]
  },
  {
   "cell_type": "code",
   "execution_count": null,
   "id": "290baa84",
   "metadata": {},
   "outputs": [],
   "source": []
  }
 ],
 "metadata": {
  "kernelspec": {
   "display_name": "Python 3 (ipykernel)",
   "language": "python",
   "name": "python3"
  },
  "language_info": {
   "codemirror_mode": {
    "name": "ipython",
    "version": 3
   },
   "file_extension": ".py",
   "mimetype": "text/x-python",
   "name": "python",
   "nbconvert_exporter": "python",
   "pygments_lexer": "ipython3",
   "version": "3.9.12"
  }
 },
 "nbformat": 4,
 "nbformat_minor": 5
}
