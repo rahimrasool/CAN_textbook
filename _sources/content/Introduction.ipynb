{
 "cells": [
  {
   "cell_type": "markdown",
   "id": "93c7e3f5",
   "metadata": {},
   "source": [
    "# Intended audience"
   ]
  },
  {
   "cell_type": "markdown",
   "id": "727796df",
   "metadata": {},
   "source": [
    "This course is designed for anyone aspiring to use Python for data analysis. It covers basics of the most fundamental tools required for analyzing data and creating visualizations using Pandas and Matplotlib. It also covers the use of Jupyter notebooks as an interative console for data analysis and Github for version control. Overall, the outcomes that the course intends to achieve are the following:\n",
    "\n",
    "- Use an interactive coding tool like Jupyter notebook for Data Analysis;\n",
    "- Learn use of Pandas for data manipulation and wrangling;\n",
    "- Learn fundamentals of matplotlib for plotting;\n",
    "- Understand how to use matplotlib structure for more advanced plots;\n",
    "- Learn the use of a version control tool like Git.\n",
    "\n",
    "The course requires the following pre-requisites:\n",
    "- Famaliarity with Python (preferably) or atleast one programming language. It will be useful to atleast know about the following essential concepts:\n",
    "    - Data types\n",
    "    - Basic Programming Operations\n",
    "    - Functions\n",
    "    - Loops\n",
    "    - Conditional Statements\n",
    "- Object-Oriented Programming (preferable but optional)\n",
    "- Knowledge of basic statistical concepts (optional)\n",
    "- Famaliarity with command line interface (preferable but optional)"
   ]
  }
 ],
 "metadata": {
  "kernelspec": {
   "display_name": "Python 3 (ipykernel)",
   "language": "python",
   "name": "python3"
  },
  "language_info": {
   "codemirror_mode": {
    "name": "ipython",
    "version": 3
   },
   "file_extension": ".py",
   "mimetype": "text/x-python",
   "name": "python",
   "nbconvert_exporter": "python",
   "pygments_lexer": "ipython3",
   "version": "3.9.12"
  }
 },
 "nbformat": 4,
 "nbformat_minor": 5
}
