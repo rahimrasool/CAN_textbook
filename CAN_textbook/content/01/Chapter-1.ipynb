{
 "cells": [
  {
   "cell_type": "markdown",
   "id": "d6d4444b",
   "metadata": {},
   "source": [
    "# Chapter 1 - Dealing with Data"
   ]
  },
  {
   "cell_type": "markdown",
   "id": "6db2ef4f",
   "metadata": {},
   "source": [
    "This section introduces a set of concepts to first embed the idea behind data, its signficance and the purpose behind analysing and digging into it. Before using models and packages with the data, it is important to understand the purpose behind every step taken and the importance of context in data analysis. We will simultaneously dive into a set of coding exercises for some hands-on work."
   ]
  }
 ],
 "metadata": {
  "kernelspec": {
   "display_name": "Python 3 (ipykernel)",
   "language": "python",
   "name": "python3"
  },
  "language_info": {
   "codemirror_mode": {
    "name": "ipython",
    "version": 3
   },
   "file_extension": ".py",
   "mimetype": "text/x-python",
   "name": "python",
   "nbconvert_exporter": "python",
   "pygments_lexer": "ipython3",
   "version": "3.9.12"
  }
 },
 "nbformat": 4,
 "nbformat_minor": 5
}
