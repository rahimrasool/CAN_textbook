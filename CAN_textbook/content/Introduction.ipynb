{
 "cells": [
  {
   "cell_type": "markdown",
   "id": "93c7e3f5",
   "metadata": {},
   "source": [
    "# Data Science Course - Social Impact Track"
   ]
  },
  {
   "cell_type": "markdown",
   "id": "727796df",
   "metadata": {},
   "source": [
    "Referred to as one of the most highly esteemed and valued disciplines among employers, businesses and researchers, Data Science involves the analysis, interpretation and engineering the flow of data. Seen as a combination of multiple disciplines including statistics, computer science, math, economics and multiple physical science disciplines, data science revolves around extracting hidden insights from raw data. To put it simply, the purpose is to extract insights that can enable an entity solve a problem by showing patterns that the data has.\n",
    "\n",
    "The process starts with collecting raw data, making sure that the organization can leverage the raw and obscure data for improving their goals (Meet KPIs). One of the greatest skill of a data scientist is to connect the problem at hand to the extracted patterns in the data and find a solution using those insights. That's potenitally the main superpower of a data scientist. Machine Learning algorithms and probabilistic models can be used for complex analysis of large amounts of data with numerous features and variables. This entire process can be scaled using big data tools."
   ]
  }
 ],
 "metadata": {
  "kernelspec": {
   "display_name": "Python 3 (ipykernel)",
   "language": "python",
   "name": "python3"
  },
  "language_info": {
   "codemirror_mode": {
    "name": "ipython",
    "version": 3
   },
   "file_extension": ".py",
   "mimetype": "text/x-python",
   "name": "python",
   "nbconvert_exporter": "python",
   "pygments_lexer": "ipython3",
   "version": "3.9.12"
  }
 },
 "nbformat": 4,
 "nbformat_minor": 5
}
